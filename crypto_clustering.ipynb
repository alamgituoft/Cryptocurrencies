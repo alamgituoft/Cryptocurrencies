{
 "cells": [
  {
   "cell_type": "markdown",
   "source": [
    "# Clustering Crypto"
   ],
   "metadata": {}
  },
  {
   "cell_type": "code",
   "execution_count": 355,
   "source": [
    "# Initial imports\n",
    "import pandas as pd\n",
    "from path import Path\n",
    "import plotly.express as px\n",
    "from sklearn.preprocessing import StandardScaler, MinMaxScaler\n",
    "from sklearn.decomposition import PCA\n",
    "from sklearn.cluster import KMeans\n",
    "import hvplot.pandas\n"
   ],
   "outputs": [],
   "metadata": {}
  },
  {
   "cell_type": "markdown",
   "source": [
    "### Deliverable 1: Preprocessing the Data for PCA"
   ],
   "metadata": {}
  },
  {
   "cell_type": "code",
   "execution_count": 356,
   "source": [
    "# Load the crypto_data.csv dataset.\n",
    "file = \"crypto_data.csv\"\n",
    "crypto_df = pd.read_csv(file, index_col=0)\n",
    "crypto_df"
   ],
   "outputs": [
    {
     "output_type": "execute_result",
     "data": {
      "text/html": [
       "<div>\n",
       "<style scoped>\n",
       "    .dataframe tbody tr th:only-of-type {\n",
       "        vertical-align: middle;\n",
       "    }\n",
       "\n",
       "    .dataframe tbody tr th {\n",
       "        vertical-align: top;\n",
       "    }\n",
       "\n",
       "    .dataframe thead th {\n",
       "        text-align: right;\n",
       "    }\n",
       "</style>\n",
       "<table border=\"1\" class=\"dataframe\">\n",
       "  <thead>\n",
       "    <tr style=\"text-align: right;\">\n",
       "      <th></th>\n",
       "      <th>CoinName</th>\n",
       "      <th>Algorithm</th>\n",
       "      <th>IsTrading</th>\n",
       "      <th>ProofType</th>\n",
       "      <th>TotalCoinsMined</th>\n",
       "      <th>TotalCoinSupply</th>\n",
       "    </tr>\n",
       "  </thead>\n",
       "  <tbody>\n",
       "    <tr>\n",
       "      <th>42</th>\n",
       "      <td>42 Coin</td>\n",
       "      <td>Scrypt</td>\n",
       "      <td>True</td>\n",
       "      <td>PoW/PoS</td>\n",
       "      <td>4.199995e+01</td>\n",
       "      <td>42</td>\n",
       "    </tr>\n",
       "    <tr>\n",
       "      <th>365</th>\n",
       "      <td>365Coin</td>\n",
       "      <td>X11</td>\n",
       "      <td>True</td>\n",
       "      <td>PoW/PoS</td>\n",
       "      <td>NaN</td>\n",
       "      <td>2300000000</td>\n",
       "    </tr>\n",
       "    <tr>\n",
       "      <th>404</th>\n",
       "      <td>404Coin</td>\n",
       "      <td>Scrypt</td>\n",
       "      <td>True</td>\n",
       "      <td>PoW/PoS</td>\n",
       "      <td>1.055185e+09</td>\n",
       "      <td>532000000</td>\n",
       "    </tr>\n",
       "    <tr>\n",
       "      <th>611</th>\n",
       "      <td>SixEleven</td>\n",
       "      <td>SHA-256</td>\n",
       "      <td>True</td>\n",
       "      <td>PoW</td>\n",
       "      <td>NaN</td>\n",
       "      <td>611000</td>\n",
       "    </tr>\n",
       "    <tr>\n",
       "      <th>808</th>\n",
       "      <td>808</td>\n",
       "      <td>SHA-256</td>\n",
       "      <td>True</td>\n",
       "      <td>PoW/PoS</td>\n",
       "      <td>0.000000e+00</td>\n",
       "      <td>0</td>\n",
       "    </tr>\n",
       "    <tr>\n",
       "      <th>...</th>\n",
       "      <td>...</td>\n",
       "      <td>...</td>\n",
       "      <td>...</td>\n",
       "      <td>...</td>\n",
       "      <td>...</td>\n",
       "      <td>...</td>\n",
       "    </tr>\n",
       "    <tr>\n",
       "      <th>XBC</th>\n",
       "      <td>BitcoinPlus</td>\n",
       "      <td>Scrypt</td>\n",
       "      <td>True</td>\n",
       "      <td>PoS</td>\n",
       "      <td>1.283270e+05</td>\n",
       "      <td>1000000</td>\n",
       "    </tr>\n",
       "    <tr>\n",
       "      <th>DVTC</th>\n",
       "      <td>DivotyCoin</td>\n",
       "      <td>Scrypt</td>\n",
       "      <td>False</td>\n",
       "      <td>PoW/PoS</td>\n",
       "      <td>2.149121e+07</td>\n",
       "      <td>100000000</td>\n",
       "    </tr>\n",
       "    <tr>\n",
       "      <th>GIOT</th>\n",
       "      <td>Giotto Coin</td>\n",
       "      <td>Scrypt</td>\n",
       "      <td>False</td>\n",
       "      <td>PoW/PoS</td>\n",
       "      <td>NaN</td>\n",
       "      <td>233100000</td>\n",
       "    </tr>\n",
       "    <tr>\n",
       "      <th>OPSC</th>\n",
       "      <td>OpenSourceCoin</td>\n",
       "      <td>SHA-256</td>\n",
       "      <td>False</td>\n",
       "      <td>PoW/PoS</td>\n",
       "      <td>NaN</td>\n",
       "      <td>21000000</td>\n",
       "    </tr>\n",
       "    <tr>\n",
       "      <th>PUNK</th>\n",
       "      <td>SteamPunk</td>\n",
       "      <td>PoS</td>\n",
       "      <td>False</td>\n",
       "      <td>PoS</td>\n",
       "      <td>NaN</td>\n",
       "      <td>40000000</td>\n",
       "    </tr>\n",
       "  </tbody>\n",
       "</table>\n",
       "<p>1252 rows × 6 columns</p>\n",
       "</div>"
      ],
      "text/plain": [
       "            CoinName Algorithm  IsTrading ProofType  TotalCoinsMined  \\\n",
       "42           42 Coin    Scrypt       True   PoW/PoS     4.199995e+01   \n",
       "365          365Coin       X11       True   PoW/PoS              NaN   \n",
       "404          404Coin    Scrypt       True   PoW/PoS     1.055185e+09   \n",
       "611        SixEleven   SHA-256       True       PoW              NaN   \n",
       "808              808   SHA-256       True   PoW/PoS     0.000000e+00   \n",
       "...              ...       ...        ...       ...              ...   \n",
       "XBC      BitcoinPlus    Scrypt       True       PoS     1.283270e+05   \n",
       "DVTC      DivotyCoin    Scrypt      False   PoW/PoS     2.149121e+07   \n",
       "GIOT     Giotto Coin    Scrypt      False   PoW/PoS              NaN   \n",
       "OPSC  OpenSourceCoin   SHA-256      False   PoW/PoS              NaN   \n",
       "PUNK       SteamPunk       PoS      False       PoS              NaN   \n",
       "\n",
       "     TotalCoinSupply  \n",
       "42                42  \n",
       "365       2300000000  \n",
       "404        532000000  \n",
       "611           611000  \n",
       "808                0  \n",
       "...              ...  \n",
       "XBC          1000000  \n",
       "DVTC       100000000  \n",
       "GIOT       233100000  \n",
       "OPSC        21000000  \n",
       "PUNK        40000000  \n",
       "\n",
       "[1252 rows x 6 columns]"
      ]
     },
     "metadata": {},
     "execution_count": 356
    }
   ],
   "metadata": {}
  },
  {
   "cell_type": "code",
   "execution_count": 357,
   "source": [
    "# Keep all the cryptocurrencies that are being traded.\n",
    "crypto_df = crypto_df[crypto_df[\"IsTrading\"]== True]\n",
    "crypto_df"
   ],
   "outputs": [
    {
     "output_type": "execute_result",
     "data": {
      "text/html": [
       "<div>\n",
       "<style scoped>\n",
       "    .dataframe tbody tr th:only-of-type {\n",
       "        vertical-align: middle;\n",
       "    }\n",
       "\n",
       "    .dataframe tbody tr th {\n",
       "        vertical-align: top;\n",
       "    }\n",
       "\n",
       "    .dataframe thead th {\n",
       "        text-align: right;\n",
       "    }\n",
       "</style>\n",
       "<table border=\"1\" class=\"dataframe\">\n",
       "  <thead>\n",
       "    <tr style=\"text-align: right;\">\n",
       "      <th></th>\n",
       "      <th>CoinName</th>\n",
       "      <th>Algorithm</th>\n",
       "      <th>IsTrading</th>\n",
       "      <th>ProofType</th>\n",
       "      <th>TotalCoinsMined</th>\n",
       "      <th>TotalCoinSupply</th>\n",
       "    </tr>\n",
       "  </thead>\n",
       "  <tbody>\n",
       "    <tr>\n",
       "      <th>42</th>\n",
       "      <td>42 Coin</td>\n",
       "      <td>Scrypt</td>\n",
       "      <td>True</td>\n",
       "      <td>PoW/PoS</td>\n",
       "      <td>4.199995e+01</td>\n",
       "      <td>42</td>\n",
       "    </tr>\n",
       "    <tr>\n",
       "      <th>365</th>\n",
       "      <td>365Coin</td>\n",
       "      <td>X11</td>\n",
       "      <td>True</td>\n",
       "      <td>PoW/PoS</td>\n",
       "      <td>NaN</td>\n",
       "      <td>2300000000</td>\n",
       "    </tr>\n",
       "    <tr>\n",
       "      <th>404</th>\n",
       "      <td>404Coin</td>\n",
       "      <td>Scrypt</td>\n",
       "      <td>True</td>\n",
       "      <td>PoW/PoS</td>\n",
       "      <td>1.055185e+09</td>\n",
       "      <td>532000000</td>\n",
       "    </tr>\n",
       "    <tr>\n",
       "      <th>611</th>\n",
       "      <td>SixEleven</td>\n",
       "      <td>SHA-256</td>\n",
       "      <td>True</td>\n",
       "      <td>PoW</td>\n",
       "      <td>NaN</td>\n",
       "      <td>611000</td>\n",
       "    </tr>\n",
       "    <tr>\n",
       "      <th>808</th>\n",
       "      <td>808</td>\n",
       "      <td>SHA-256</td>\n",
       "      <td>True</td>\n",
       "      <td>PoW/PoS</td>\n",
       "      <td>0.000000e+00</td>\n",
       "      <td>0</td>\n",
       "    </tr>\n",
       "    <tr>\n",
       "      <th>...</th>\n",
       "      <td>...</td>\n",
       "      <td>...</td>\n",
       "      <td>...</td>\n",
       "      <td>...</td>\n",
       "      <td>...</td>\n",
       "      <td>...</td>\n",
       "    </tr>\n",
       "    <tr>\n",
       "      <th>SERO</th>\n",
       "      <td>Super Zero</td>\n",
       "      <td>Ethash</td>\n",
       "      <td>True</td>\n",
       "      <td>PoW</td>\n",
       "      <td>NaN</td>\n",
       "      <td>1000000000</td>\n",
       "    </tr>\n",
       "    <tr>\n",
       "      <th>UOS</th>\n",
       "      <td>UOS</td>\n",
       "      <td>SHA-256</td>\n",
       "      <td>True</td>\n",
       "      <td>DPoI</td>\n",
       "      <td>NaN</td>\n",
       "      <td>1000000000</td>\n",
       "    </tr>\n",
       "    <tr>\n",
       "      <th>BDX</th>\n",
       "      <td>Beldex</td>\n",
       "      <td>CryptoNight</td>\n",
       "      <td>True</td>\n",
       "      <td>PoW</td>\n",
       "      <td>9.802226e+08</td>\n",
       "      <td>1400222610</td>\n",
       "    </tr>\n",
       "    <tr>\n",
       "      <th>ZEN</th>\n",
       "      <td>Horizen</td>\n",
       "      <td>Equihash</td>\n",
       "      <td>True</td>\n",
       "      <td>PoW</td>\n",
       "      <td>7.296538e+06</td>\n",
       "      <td>21000000</td>\n",
       "    </tr>\n",
       "    <tr>\n",
       "      <th>XBC</th>\n",
       "      <td>BitcoinPlus</td>\n",
       "      <td>Scrypt</td>\n",
       "      <td>True</td>\n",
       "      <td>PoS</td>\n",
       "      <td>1.283270e+05</td>\n",
       "      <td>1000000</td>\n",
       "    </tr>\n",
       "  </tbody>\n",
       "</table>\n",
       "<p>1144 rows × 6 columns</p>\n",
       "</div>"
      ],
      "text/plain": [
       "         CoinName    Algorithm  IsTrading ProofType  TotalCoinsMined  \\\n",
       "42        42 Coin       Scrypt       True   PoW/PoS     4.199995e+01   \n",
       "365       365Coin          X11       True   PoW/PoS              NaN   \n",
       "404       404Coin       Scrypt       True   PoW/PoS     1.055185e+09   \n",
       "611     SixEleven      SHA-256       True       PoW              NaN   \n",
       "808           808      SHA-256       True   PoW/PoS     0.000000e+00   \n",
       "...           ...          ...        ...       ...              ...   \n",
       "SERO   Super Zero       Ethash       True       PoW              NaN   \n",
       "UOS           UOS      SHA-256       True      DPoI              NaN   \n",
       "BDX        Beldex  CryptoNight       True       PoW     9.802226e+08   \n",
       "ZEN       Horizen     Equihash       True       PoW     7.296538e+06   \n",
       "XBC   BitcoinPlus       Scrypt       True       PoS     1.283270e+05   \n",
       "\n",
       "     TotalCoinSupply  \n",
       "42                42  \n",
       "365       2300000000  \n",
       "404        532000000  \n",
       "611           611000  \n",
       "808                0  \n",
       "...              ...  \n",
       "SERO      1000000000  \n",
       "UOS       1000000000  \n",
       "BDX       1400222610  \n",
       "ZEN         21000000  \n",
       "XBC          1000000  \n",
       "\n",
       "[1144 rows x 6 columns]"
      ]
     },
     "metadata": {},
     "execution_count": 357
    }
   ],
   "metadata": {}
  },
  {
   "cell_type": "code",
   "execution_count": 358,
   "source": [
    "# Keep all the cryptocurrencies that have a working algorithm.\n",
    "crypto_df = crypto_df[crypto_df[\"Algorithm\"] != \"N/A\"]\n",
    "crypto_df"
   ],
   "outputs": [
    {
     "output_type": "execute_result",
     "data": {
      "text/html": [
       "<div>\n",
       "<style scoped>\n",
       "    .dataframe tbody tr th:only-of-type {\n",
       "        vertical-align: middle;\n",
       "    }\n",
       "\n",
       "    .dataframe tbody tr th {\n",
       "        vertical-align: top;\n",
       "    }\n",
       "\n",
       "    .dataframe thead th {\n",
       "        text-align: right;\n",
       "    }\n",
       "</style>\n",
       "<table border=\"1\" class=\"dataframe\">\n",
       "  <thead>\n",
       "    <tr style=\"text-align: right;\">\n",
       "      <th></th>\n",
       "      <th>CoinName</th>\n",
       "      <th>Algorithm</th>\n",
       "      <th>IsTrading</th>\n",
       "      <th>ProofType</th>\n",
       "      <th>TotalCoinsMined</th>\n",
       "      <th>TotalCoinSupply</th>\n",
       "    </tr>\n",
       "  </thead>\n",
       "  <tbody>\n",
       "    <tr>\n",
       "      <th>42</th>\n",
       "      <td>42 Coin</td>\n",
       "      <td>Scrypt</td>\n",
       "      <td>True</td>\n",
       "      <td>PoW/PoS</td>\n",
       "      <td>4.199995e+01</td>\n",
       "      <td>42</td>\n",
       "    </tr>\n",
       "    <tr>\n",
       "      <th>365</th>\n",
       "      <td>365Coin</td>\n",
       "      <td>X11</td>\n",
       "      <td>True</td>\n",
       "      <td>PoW/PoS</td>\n",
       "      <td>NaN</td>\n",
       "      <td>2300000000</td>\n",
       "    </tr>\n",
       "    <tr>\n",
       "      <th>404</th>\n",
       "      <td>404Coin</td>\n",
       "      <td>Scrypt</td>\n",
       "      <td>True</td>\n",
       "      <td>PoW/PoS</td>\n",
       "      <td>1.055185e+09</td>\n",
       "      <td>532000000</td>\n",
       "    </tr>\n",
       "    <tr>\n",
       "      <th>611</th>\n",
       "      <td>SixEleven</td>\n",
       "      <td>SHA-256</td>\n",
       "      <td>True</td>\n",
       "      <td>PoW</td>\n",
       "      <td>NaN</td>\n",
       "      <td>611000</td>\n",
       "    </tr>\n",
       "    <tr>\n",
       "      <th>808</th>\n",
       "      <td>808</td>\n",
       "      <td>SHA-256</td>\n",
       "      <td>True</td>\n",
       "      <td>PoW/PoS</td>\n",
       "      <td>0.000000e+00</td>\n",
       "      <td>0</td>\n",
       "    </tr>\n",
       "    <tr>\n",
       "      <th>...</th>\n",
       "      <td>...</td>\n",
       "      <td>...</td>\n",
       "      <td>...</td>\n",
       "      <td>...</td>\n",
       "      <td>...</td>\n",
       "      <td>...</td>\n",
       "    </tr>\n",
       "    <tr>\n",
       "      <th>SERO</th>\n",
       "      <td>Super Zero</td>\n",
       "      <td>Ethash</td>\n",
       "      <td>True</td>\n",
       "      <td>PoW</td>\n",
       "      <td>NaN</td>\n",
       "      <td>1000000000</td>\n",
       "    </tr>\n",
       "    <tr>\n",
       "      <th>UOS</th>\n",
       "      <td>UOS</td>\n",
       "      <td>SHA-256</td>\n",
       "      <td>True</td>\n",
       "      <td>DPoI</td>\n",
       "      <td>NaN</td>\n",
       "      <td>1000000000</td>\n",
       "    </tr>\n",
       "    <tr>\n",
       "      <th>BDX</th>\n",
       "      <td>Beldex</td>\n",
       "      <td>CryptoNight</td>\n",
       "      <td>True</td>\n",
       "      <td>PoW</td>\n",
       "      <td>9.802226e+08</td>\n",
       "      <td>1400222610</td>\n",
       "    </tr>\n",
       "    <tr>\n",
       "      <th>ZEN</th>\n",
       "      <td>Horizen</td>\n",
       "      <td>Equihash</td>\n",
       "      <td>True</td>\n",
       "      <td>PoW</td>\n",
       "      <td>7.296538e+06</td>\n",
       "      <td>21000000</td>\n",
       "    </tr>\n",
       "    <tr>\n",
       "      <th>XBC</th>\n",
       "      <td>BitcoinPlus</td>\n",
       "      <td>Scrypt</td>\n",
       "      <td>True</td>\n",
       "      <td>PoS</td>\n",
       "      <td>1.283270e+05</td>\n",
       "      <td>1000000</td>\n",
       "    </tr>\n",
       "  </tbody>\n",
       "</table>\n",
       "<p>1144 rows × 6 columns</p>\n",
       "</div>"
      ],
      "text/plain": [
       "         CoinName    Algorithm  IsTrading ProofType  TotalCoinsMined  \\\n",
       "42        42 Coin       Scrypt       True   PoW/PoS     4.199995e+01   \n",
       "365       365Coin          X11       True   PoW/PoS              NaN   \n",
       "404       404Coin       Scrypt       True   PoW/PoS     1.055185e+09   \n",
       "611     SixEleven      SHA-256       True       PoW              NaN   \n",
       "808           808      SHA-256       True   PoW/PoS     0.000000e+00   \n",
       "...           ...          ...        ...       ...              ...   \n",
       "SERO   Super Zero       Ethash       True       PoW              NaN   \n",
       "UOS           UOS      SHA-256       True      DPoI              NaN   \n",
       "BDX        Beldex  CryptoNight       True       PoW     9.802226e+08   \n",
       "ZEN       Horizen     Equihash       True       PoW     7.296538e+06   \n",
       "XBC   BitcoinPlus       Scrypt       True       PoS     1.283270e+05   \n",
       "\n",
       "     TotalCoinSupply  \n",
       "42                42  \n",
       "365       2300000000  \n",
       "404        532000000  \n",
       "611           611000  \n",
       "808                0  \n",
       "...              ...  \n",
       "SERO      1000000000  \n",
       "UOS       1000000000  \n",
       "BDX       1400222610  \n",
       "ZEN         21000000  \n",
       "XBC          1000000  \n",
       "\n",
       "[1144 rows x 6 columns]"
      ]
     },
     "metadata": {},
     "execution_count": 358
    }
   ],
   "metadata": {}
  },
  {
   "cell_type": "code",
   "execution_count": 359,
   "source": [
    "# Remove the \"IsTrading\" column. \n",
    "crypto_df = crypto_df.drop(columns=\"IsTrading\")\n",
    "crypto_df\n"
   ],
   "outputs": [
    {
     "output_type": "execute_result",
     "data": {
      "text/html": [
       "<div>\n",
       "<style scoped>\n",
       "    .dataframe tbody tr th:only-of-type {\n",
       "        vertical-align: middle;\n",
       "    }\n",
       "\n",
       "    .dataframe tbody tr th {\n",
       "        vertical-align: top;\n",
       "    }\n",
       "\n",
       "    .dataframe thead th {\n",
       "        text-align: right;\n",
       "    }\n",
       "</style>\n",
       "<table border=\"1\" class=\"dataframe\">\n",
       "  <thead>\n",
       "    <tr style=\"text-align: right;\">\n",
       "      <th></th>\n",
       "      <th>CoinName</th>\n",
       "      <th>Algorithm</th>\n",
       "      <th>ProofType</th>\n",
       "      <th>TotalCoinsMined</th>\n",
       "      <th>TotalCoinSupply</th>\n",
       "    </tr>\n",
       "  </thead>\n",
       "  <tbody>\n",
       "    <tr>\n",
       "      <th>42</th>\n",
       "      <td>42 Coin</td>\n",
       "      <td>Scrypt</td>\n",
       "      <td>PoW/PoS</td>\n",
       "      <td>4.199995e+01</td>\n",
       "      <td>42</td>\n",
       "    </tr>\n",
       "    <tr>\n",
       "      <th>365</th>\n",
       "      <td>365Coin</td>\n",
       "      <td>X11</td>\n",
       "      <td>PoW/PoS</td>\n",
       "      <td>NaN</td>\n",
       "      <td>2300000000</td>\n",
       "    </tr>\n",
       "    <tr>\n",
       "      <th>404</th>\n",
       "      <td>404Coin</td>\n",
       "      <td>Scrypt</td>\n",
       "      <td>PoW/PoS</td>\n",
       "      <td>1.055185e+09</td>\n",
       "      <td>532000000</td>\n",
       "    </tr>\n",
       "    <tr>\n",
       "      <th>611</th>\n",
       "      <td>SixEleven</td>\n",
       "      <td>SHA-256</td>\n",
       "      <td>PoW</td>\n",
       "      <td>NaN</td>\n",
       "      <td>611000</td>\n",
       "    </tr>\n",
       "    <tr>\n",
       "      <th>808</th>\n",
       "      <td>808</td>\n",
       "      <td>SHA-256</td>\n",
       "      <td>PoW/PoS</td>\n",
       "      <td>0.000000e+00</td>\n",
       "      <td>0</td>\n",
       "    </tr>\n",
       "    <tr>\n",
       "      <th>...</th>\n",
       "      <td>...</td>\n",
       "      <td>...</td>\n",
       "      <td>...</td>\n",
       "      <td>...</td>\n",
       "      <td>...</td>\n",
       "    </tr>\n",
       "    <tr>\n",
       "      <th>SERO</th>\n",
       "      <td>Super Zero</td>\n",
       "      <td>Ethash</td>\n",
       "      <td>PoW</td>\n",
       "      <td>NaN</td>\n",
       "      <td>1000000000</td>\n",
       "    </tr>\n",
       "    <tr>\n",
       "      <th>UOS</th>\n",
       "      <td>UOS</td>\n",
       "      <td>SHA-256</td>\n",
       "      <td>DPoI</td>\n",
       "      <td>NaN</td>\n",
       "      <td>1000000000</td>\n",
       "    </tr>\n",
       "    <tr>\n",
       "      <th>BDX</th>\n",
       "      <td>Beldex</td>\n",
       "      <td>CryptoNight</td>\n",
       "      <td>PoW</td>\n",
       "      <td>9.802226e+08</td>\n",
       "      <td>1400222610</td>\n",
       "    </tr>\n",
       "    <tr>\n",
       "      <th>ZEN</th>\n",
       "      <td>Horizen</td>\n",
       "      <td>Equihash</td>\n",
       "      <td>PoW</td>\n",
       "      <td>7.296538e+06</td>\n",
       "      <td>21000000</td>\n",
       "    </tr>\n",
       "    <tr>\n",
       "      <th>XBC</th>\n",
       "      <td>BitcoinPlus</td>\n",
       "      <td>Scrypt</td>\n",
       "      <td>PoS</td>\n",
       "      <td>1.283270e+05</td>\n",
       "      <td>1000000</td>\n",
       "    </tr>\n",
       "  </tbody>\n",
       "</table>\n",
       "<p>1144 rows × 5 columns</p>\n",
       "</div>"
      ],
      "text/plain": [
       "         CoinName    Algorithm ProofType  TotalCoinsMined TotalCoinSupply\n",
       "42        42 Coin       Scrypt   PoW/PoS     4.199995e+01              42\n",
       "365       365Coin          X11   PoW/PoS              NaN      2300000000\n",
       "404       404Coin       Scrypt   PoW/PoS     1.055185e+09       532000000\n",
       "611     SixEleven      SHA-256       PoW              NaN          611000\n",
       "808           808      SHA-256   PoW/PoS     0.000000e+00               0\n",
       "...           ...          ...       ...              ...             ...\n",
       "SERO   Super Zero       Ethash       PoW              NaN      1000000000\n",
       "UOS           UOS      SHA-256      DPoI              NaN      1000000000\n",
       "BDX        Beldex  CryptoNight       PoW     9.802226e+08      1400222610\n",
       "ZEN       Horizen     Equihash       PoW     7.296538e+06        21000000\n",
       "XBC   BitcoinPlus       Scrypt       PoS     1.283270e+05         1000000\n",
       "\n",
       "[1144 rows x 5 columns]"
      ]
     },
     "metadata": {},
     "execution_count": 359
    }
   ],
   "metadata": {}
  },
  {
   "cell_type": "code",
   "execution_count": 360,
   "source": [
    "# Remove rows that have at least 1 null value.\n",
    "crypto_df = crypto_df.dropna()\n",
    "crypto_df"
   ],
   "outputs": [
    {
     "output_type": "execute_result",
     "data": {
      "text/html": [
       "<div>\n",
       "<style scoped>\n",
       "    .dataframe tbody tr th:only-of-type {\n",
       "        vertical-align: middle;\n",
       "    }\n",
       "\n",
       "    .dataframe tbody tr th {\n",
       "        vertical-align: top;\n",
       "    }\n",
       "\n",
       "    .dataframe thead th {\n",
       "        text-align: right;\n",
       "    }\n",
       "</style>\n",
       "<table border=\"1\" class=\"dataframe\">\n",
       "  <thead>\n",
       "    <tr style=\"text-align: right;\">\n",
       "      <th></th>\n",
       "      <th>CoinName</th>\n",
       "      <th>Algorithm</th>\n",
       "      <th>ProofType</th>\n",
       "      <th>TotalCoinsMined</th>\n",
       "      <th>TotalCoinSupply</th>\n",
       "    </tr>\n",
       "  </thead>\n",
       "  <tbody>\n",
       "    <tr>\n",
       "      <th>42</th>\n",
       "      <td>42 Coin</td>\n",
       "      <td>Scrypt</td>\n",
       "      <td>PoW/PoS</td>\n",
       "      <td>4.199995e+01</td>\n",
       "      <td>42</td>\n",
       "    </tr>\n",
       "    <tr>\n",
       "      <th>404</th>\n",
       "      <td>404Coin</td>\n",
       "      <td>Scrypt</td>\n",
       "      <td>PoW/PoS</td>\n",
       "      <td>1.055185e+09</td>\n",
       "      <td>532000000</td>\n",
       "    </tr>\n",
       "    <tr>\n",
       "      <th>808</th>\n",
       "      <td>808</td>\n",
       "      <td>SHA-256</td>\n",
       "      <td>PoW/PoS</td>\n",
       "      <td>0.000000e+00</td>\n",
       "      <td>0</td>\n",
       "    </tr>\n",
       "    <tr>\n",
       "      <th>1337</th>\n",
       "      <td>EliteCoin</td>\n",
       "      <td>X13</td>\n",
       "      <td>PoW/PoS</td>\n",
       "      <td>2.927942e+10</td>\n",
       "      <td>314159265359</td>\n",
       "    </tr>\n",
       "    <tr>\n",
       "      <th>BTC</th>\n",
       "      <td>Bitcoin</td>\n",
       "      <td>SHA-256</td>\n",
       "      <td>PoW</td>\n",
       "      <td>1.792718e+07</td>\n",
       "      <td>21000000</td>\n",
       "    </tr>\n",
       "    <tr>\n",
       "      <th>...</th>\n",
       "      <td>...</td>\n",
       "      <td>...</td>\n",
       "      <td>...</td>\n",
       "      <td>...</td>\n",
       "      <td>...</td>\n",
       "    </tr>\n",
       "    <tr>\n",
       "      <th>ZEPH</th>\n",
       "      <td>ZEPHYR</td>\n",
       "      <td>SHA-256</td>\n",
       "      <td>DPoS</td>\n",
       "      <td>2.000000e+09</td>\n",
       "      <td>2000000000</td>\n",
       "    </tr>\n",
       "    <tr>\n",
       "      <th>GAP</th>\n",
       "      <td>Gapcoin</td>\n",
       "      <td>Scrypt</td>\n",
       "      <td>PoW/PoS</td>\n",
       "      <td>1.493105e+07</td>\n",
       "      <td>250000000</td>\n",
       "    </tr>\n",
       "    <tr>\n",
       "      <th>BDX</th>\n",
       "      <td>Beldex</td>\n",
       "      <td>CryptoNight</td>\n",
       "      <td>PoW</td>\n",
       "      <td>9.802226e+08</td>\n",
       "      <td>1400222610</td>\n",
       "    </tr>\n",
       "    <tr>\n",
       "      <th>ZEN</th>\n",
       "      <td>Horizen</td>\n",
       "      <td>Equihash</td>\n",
       "      <td>PoW</td>\n",
       "      <td>7.296538e+06</td>\n",
       "      <td>21000000</td>\n",
       "    </tr>\n",
       "    <tr>\n",
       "      <th>XBC</th>\n",
       "      <td>BitcoinPlus</td>\n",
       "      <td>Scrypt</td>\n",
       "      <td>PoS</td>\n",
       "      <td>1.283270e+05</td>\n",
       "      <td>1000000</td>\n",
       "    </tr>\n",
       "  </tbody>\n",
       "</table>\n",
       "<p>685 rows × 5 columns</p>\n",
       "</div>"
      ],
      "text/plain": [
       "         CoinName    Algorithm ProofType  TotalCoinsMined TotalCoinSupply\n",
       "42        42 Coin       Scrypt   PoW/PoS     4.199995e+01              42\n",
       "404       404Coin       Scrypt   PoW/PoS     1.055185e+09       532000000\n",
       "808           808      SHA-256   PoW/PoS     0.000000e+00               0\n",
       "1337    EliteCoin          X13   PoW/PoS     2.927942e+10    314159265359\n",
       "BTC       Bitcoin      SHA-256       PoW     1.792718e+07        21000000\n",
       "...           ...          ...       ...              ...             ...\n",
       "ZEPH       ZEPHYR      SHA-256      DPoS     2.000000e+09      2000000000\n",
       "GAP       Gapcoin       Scrypt   PoW/PoS     1.493105e+07       250000000\n",
       "BDX        Beldex  CryptoNight       PoW     9.802226e+08      1400222610\n",
       "ZEN       Horizen     Equihash       PoW     7.296538e+06        21000000\n",
       "XBC   BitcoinPlus       Scrypt       PoS     1.283270e+05         1000000\n",
       "\n",
       "[685 rows x 5 columns]"
      ]
     },
     "metadata": {},
     "execution_count": 360
    }
   ],
   "metadata": {}
  },
  {
   "cell_type": "code",
   "execution_count": 361,
   "source": [
    "# Keep the rows where coins are mined.\n",
    "crypto_df = crypto_df[crypto_df[\"TotalCoinsMined\"]>0]\n",
    "crypto_df"
   ],
   "outputs": [
    {
     "output_type": "execute_result",
     "data": {
      "text/html": [
       "<div>\n",
       "<style scoped>\n",
       "    .dataframe tbody tr th:only-of-type {\n",
       "        vertical-align: middle;\n",
       "    }\n",
       "\n",
       "    .dataframe tbody tr th {\n",
       "        vertical-align: top;\n",
       "    }\n",
       "\n",
       "    .dataframe thead th {\n",
       "        text-align: right;\n",
       "    }\n",
       "</style>\n",
       "<table border=\"1\" class=\"dataframe\">\n",
       "  <thead>\n",
       "    <tr style=\"text-align: right;\">\n",
       "      <th></th>\n",
       "      <th>CoinName</th>\n",
       "      <th>Algorithm</th>\n",
       "      <th>ProofType</th>\n",
       "      <th>TotalCoinsMined</th>\n",
       "      <th>TotalCoinSupply</th>\n",
       "    </tr>\n",
       "  </thead>\n",
       "  <tbody>\n",
       "    <tr>\n",
       "      <th>42</th>\n",
       "      <td>42 Coin</td>\n",
       "      <td>Scrypt</td>\n",
       "      <td>PoW/PoS</td>\n",
       "      <td>4.199995e+01</td>\n",
       "      <td>42</td>\n",
       "    </tr>\n",
       "    <tr>\n",
       "      <th>404</th>\n",
       "      <td>404Coin</td>\n",
       "      <td>Scrypt</td>\n",
       "      <td>PoW/PoS</td>\n",
       "      <td>1.055185e+09</td>\n",
       "      <td>532000000</td>\n",
       "    </tr>\n",
       "    <tr>\n",
       "      <th>1337</th>\n",
       "      <td>EliteCoin</td>\n",
       "      <td>X13</td>\n",
       "      <td>PoW/PoS</td>\n",
       "      <td>2.927942e+10</td>\n",
       "      <td>314159265359</td>\n",
       "    </tr>\n",
       "    <tr>\n",
       "      <th>BTC</th>\n",
       "      <td>Bitcoin</td>\n",
       "      <td>SHA-256</td>\n",
       "      <td>PoW</td>\n",
       "      <td>1.792718e+07</td>\n",
       "      <td>21000000</td>\n",
       "    </tr>\n",
       "    <tr>\n",
       "      <th>ETH</th>\n",
       "      <td>Ethereum</td>\n",
       "      <td>Ethash</td>\n",
       "      <td>PoW</td>\n",
       "      <td>1.076842e+08</td>\n",
       "      <td>0</td>\n",
       "    </tr>\n",
       "    <tr>\n",
       "      <th>...</th>\n",
       "      <td>...</td>\n",
       "      <td>...</td>\n",
       "      <td>...</td>\n",
       "      <td>...</td>\n",
       "      <td>...</td>\n",
       "    </tr>\n",
       "    <tr>\n",
       "      <th>ZEPH</th>\n",
       "      <td>ZEPHYR</td>\n",
       "      <td>SHA-256</td>\n",
       "      <td>DPoS</td>\n",
       "      <td>2.000000e+09</td>\n",
       "      <td>2000000000</td>\n",
       "    </tr>\n",
       "    <tr>\n",
       "      <th>GAP</th>\n",
       "      <td>Gapcoin</td>\n",
       "      <td>Scrypt</td>\n",
       "      <td>PoW/PoS</td>\n",
       "      <td>1.493105e+07</td>\n",
       "      <td>250000000</td>\n",
       "    </tr>\n",
       "    <tr>\n",
       "      <th>BDX</th>\n",
       "      <td>Beldex</td>\n",
       "      <td>CryptoNight</td>\n",
       "      <td>PoW</td>\n",
       "      <td>9.802226e+08</td>\n",
       "      <td>1400222610</td>\n",
       "    </tr>\n",
       "    <tr>\n",
       "      <th>ZEN</th>\n",
       "      <td>Horizen</td>\n",
       "      <td>Equihash</td>\n",
       "      <td>PoW</td>\n",
       "      <td>7.296538e+06</td>\n",
       "      <td>21000000</td>\n",
       "    </tr>\n",
       "    <tr>\n",
       "      <th>XBC</th>\n",
       "      <td>BitcoinPlus</td>\n",
       "      <td>Scrypt</td>\n",
       "      <td>PoS</td>\n",
       "      <td>1.283270e+05</td>\n",
       "      <td>1000000</td>\n",
       "    </tr>\n",
       "  </tbody>\n",
       "</table>\n",
       "<p>532 rows × 5 columns</p>\n",
       "</div>"
      ],
      "text/plain": [
       "         CoinName    Algorithm ProofType  TotalCoinsMined TotalCoinSupply\n",
       "42        42 Coin       Scrypt   PoW/PoS     4.199995e+01              42\n",
       "404       404Coin       Scrypt   PoW/PoS     1.055185e+09       532000000\n",
       "1337    EliteCoin          X13   PoW/PoS     2.927942e+10    314159265359\n",
       "BTC       Bitcoin      SHA-256       PoW     1.792718e+07        21000000\n",
       "ETH      Ethereum       Ethash       PoW     1.076842e+08               0\n",
       "...           ...          ...       ...              ...             ...\n",
       "ZEPH       ZEPHYR      SHA-256      DPoS     2.000000e+09      2000000000\n",
       "GAP       Gapcoin       Scrypt   PoW/PoS     1.493105e+07       250000000\n",
       "BDX        Beldex  CryptoNight       PoW     9.802226e+08      1400222610\n",
       "ZEN       Horizen     Equihash       PoW     7.296538e+06        21000000\n",
       "XBC   BitcoinPlus       Scrypt       PoS     1.283270e+05         1000000\n",
       "\n",
       "[532 rows x 5 columns]"
      ]
     },
     "metadata": {},
     "execution_count": 361
    }
   ],
   "metadata": {}
  },
  {
   "cell_type": "code",
   "execution_count": 362,
   "source": [
    "# Create a new DataFrame that holds only the cryptocurrencies names.\n",
    "coins_name = crypto_df[\"CoinName\"]\n",
    "coins_name"
   ],
   "outputs": [
    {
     "output_type": "execute_result",
     "data": {
      "text/plain": [
       "42          42 Coin\n",
       "404         404Coin\n",
       "1337      EliteCoin\n",
       "BTC         Bitcoin\n",
       "ETH        Ethereum\n",
       "           ...     \n",
       "ZEPH         ZEPHYR\n",
       "GAP         Gapcoin\n",
       "BDX          Beldex\n",
       "ZEN         Horizen\n",
       "XBC     BitcoinPlus\n",
       "Name: CoinName, Length: 532, dtype: object"
      ]
     },
     "metadata": {},
     "execution_count": 362
    }
   ],
   "metadata": {}
  },
  {
   "cell_type": "code",
   "execution_count": 363,
   "source": [
    "# Drop the 'CoinName' column since it's not going to be used on the clustering algorithm\n",
    "crypto_df = crypto_df.drop(columns=\"CoinName\", axis=1)\n",
    "crypto_df"
   ],
   "outputs": [
    {
     "output_type": "execute_result",
     "data": {
      "text/html": [
       "<div>\n",
       "<style scoped>\n",
       "    .dataframe tbody tr th:only-of-type {\n",
       "        vertical-align: middle;\n",
       "    }\n",
       "\n",
       "    .dataframe tbody tr th {\n",
       "        vertical-align: top;\n",
       "    }\n",
       "\n",
       "    .dataframe thead th {\n",
       "        text-align: right;\n",
       "    }\n",
       "</style>\n",
       "<table border=\"1\" class=\"dataframe\">\n",
       "  <thead>\n",
       "    <tr style=\"text-align: right;\">\n",
       "      <th></th>\n",
       "      <th>Algorithm</th>\n",
       "      <th>ProofType</th>\n",
       "      <th>TotalCoinsMined</th>\n",
       "      <th>TotalCoinSupply</th>\n",
       "    </tr>\n",
       "  </thead>\n",
       "  <tbody>\n",
       "    <tr>\n",
       "      <th>42</th>\n",
       "      <td>Scrypt</td>\n",
       "      <td>PoW/PoS</td>\n",
       "      <td>4.199995e+01</td>\n",
       "      <td>42</td>\n",
       "    </tr>\n",
       "    <tr>\n",
       "      <th>404</th>\n",
       "      <td>Scrypt</td>\n",
       "      <td>PoW/PoS</td>\n",
       "      <td>1.055185e+09</td>\n",
       "      <td>532000000</td>\n",
       "    </tr>\n",
       "    <tr>\n",
       "      <th>1337</th>\n",
       "      <td>X13</td>\n",
       "      <td>PoW/PoS</td>\n",
       "      <td>2.927942e+10</td>\n",
       "      <td>314159265359</td>\n",
       "    </tr>\n",
       "    <tr>\n",
       "      <th>BTC</th>\n",
       "      <td>SHA-256</td>\n",
       "      <td>PoW</td>\n",
       "      <td>1.792718e+07</td>\n",
       "      <td>21000000</td>\n",
       "    </tr>\n",
       "    <tr>\n",
       "      <th>ETH</th>\n",
       "      <td>Ethash</td>\n",
       "      <td>PoW</td>\n",
       "      <td>1.076842e+08</td>\n",
       "      <td>0</td>\n",
       "    </tr>\n",
       "    <tr>\n",
       "      <th>...</th>\n",
       "      <td>...</td>\n",
       "      <td>...</td>\n",
       "      <td>...</td>\n",
       "      <td>...</td>\n",
       "    </tr>\n",
       "    <tr>\n",
       "      <th>ZEPH</th>\n",
       "      <td>SHA-256</td>\n",
       "      <td>DPoS</td>\n",
       "      <td>2.000000e+09</td>\n",
       "      <td>2000000000</td>\n",
       "    </tr>\n",
       "    <tr>\n",
       "      <th>GAP</th>\n",
       "      <td>Scrypt</td>\n",
       "      <td>PoW/PoS</td>\n",
       "      <td>1.493105e+07</td>\n",
       "      <td>250000000</td>\n",
       "    </tr>\n",
       "    <tr>\n",
       "      <th>BDX</th>\n",
       "      <td>CryptoNight</td>\n",
       "      <td>PoW</td>\n",
       "      <td>9.802226e+08</td>\n",
       "      <td>1400222610</td>\n",
       "    </tr>\n",
       "    <tr>\n",
       "      <th>ZEN</th>\n",
       "      <td>Equihash</td>\n",
       "      <td>PoW</td>\n",
       "      <td>7.296538e+06</td>\n",
       "      <td>21000000</td>\n",
       "    </tr>\n",
       "    <tr>\n",
       "      <th>XBC</th>\n",
       "      <td>Scrypt</td>\n",
       "      <td>PoS</td>\n",
       "      <td>1.283270e+05</td>\n",
       "      <td>1000000</td>\n",
       "    </tr>\n",
       "  </tbody>\n",
       "</table>\n",
       "<p>532 rows × 4 columns</p>\n",
       "</div>"
      ],
      "text/plain": [
       "        Algorithm ProofType  TotalCoinsMined TotalCoinSupply\n",
       "42         Scrypt   PoW/PoS     4.199995e+01              42\n",
       "404        Scrypt   PoW/PoS     1.055185e+09       532000000\n",
       "1337          X13   PoW/PoS     2.927942e+10    314159265359\n",
       "BTC       SHA-256       PoW     1.792718e+07        21000000\n",
       "ETH        Ethash       PoW     1.076842e+08               0\n",
       "...           ...       ...              ...             ...\n",
       "ZEPH      SHA-256      DPoS     2.000000e+09      2000000000\n",
       "GAP        Scrypt   PoW/PoS     1.493105e+07       250000000\n",
       "BDX   CryptoNight       PoW     9.802226e+08      1400222610\n",
       "ZEN      Equihash       PoW     7.296538e+06        21000000\n",
       "XBC        Scrypt       PoS     1.283270e+05         1000000\n",
       "\n",
       "[532 rows x 4 columns]"
      ]
     },
     "metadata": {},
     "execution_count": 363
    }
   ],
   "metadata": {}
  },
  {
   "cell_type": "code",
   "execution_count": 364,
   "source": [
    "# Use get_dummies() to create variables for text features.\n",
    "X = pd.get_dummies(crypto_df, columns=[\"Algorithm\", \"ProofType\"])\n",
    "X.head()"
   ],
   "outputs": [
    {
     "output_type": "execute_result",
     "data": {
      "text/html": [
       "<div>\n",
       "<style scoped>\n",
       "    .dataframe tbody tr th:only-of-type {\n",
       "        vertical-align: middle;\n",
       "    }\n",
       "\n",
       "    .dataframe tbody tr th {\n",
       "        vertical-align: top;\n",
       "    }\n",
       "\n",
       "    .dataframe thead th {\n",
       "        text-align: right;\n",
       "    }\n",
       "</style>\n",
       "<table border=\"1\" class=\"dataframe\">\n",
       "  <thead>\n",
       "    <tr style=\"text-align: right;\">\n",
       "      <th></th>\n",
       "      <th>TotalCoinsMined</th>\n",
       "      <th>TotalCoinSupply</th>\n",
       "      <th>Algorithm_1GB AES Pattern Search</th>\n",
       "      <th>Algorithm_536</th>\n",
       "      <th>Algorithm_Argon2d</th>\n",
       "      <th>Algorithm_BLAKE256</th>\n",
       "      <th>Algorithm_Blake</th>\n",
       "      <th>Algorithm_Blake2S</th>\n",
       "      <th>Algorithm_Blake2b</th>\n",
       "      <th>Algorithm_C11</th>\n",
       "      <th>...</th>\n",
       "      <th>ProofType_PoW/PoS</th>\n",
       "      <th>ProofType_PoW/PoS</th>\n",
       "      <th>ProofType_PoW/PoW</th>\n",
       "      <th>ProofType_PoW/nPoS</th>\n",
       "      <th>ProofType_Pos</th>\n",
       "      <th>ProofType_Proof of Authority</th>\n",
       "      <th>ProofType_Proof of Trust</th>\n",
       "      <th>ProofType_TPoS</th>\n",
       "      <th>ProofType_Zero-Knowledge Proof</th>\n",
       "      <th>ProofType_dPoW/PoW</th>\n",
       "    </tr>\n",
       "  </thead>\n",
       "  <tbody>\n",
       "    <tr>\n",
       "      <th>42</th>\n",
       "      <td>4.199995e+01</td>\n",
       "      <td>42</td>\n",
       "      <td>0</td>\n",
       "      <td>0</td>\n",
       "      <td>0</td>\n",
       "      <td>0</td>\n",
       "      <td>0</td>\n",
       "      <td>0</td>\n",
       "      <td>0</td>\n",
       "      <td>0</td>\n",
       "      <td>...</td>\n",
       "      <td>1</td>\n",
       "      <td>0</td>\n",
       "      <td>0</td>\n",
       "      <td>0</td>\n",
       "      <td>0</td>\n",
       "      <td>0</td>\n",
       "      <td>0</td>\n",
       "      <td>0</td>\n",
       "      <td>0</td>\n",
       "      <td>0</td>\n",
       "    </tr>\n",
       "    <tr>\n",
       "      <th>404</th>\n",
       "      <td>1.055185e+09</td>\n",
       "      <td>532000000</td>\n",
       "      <td>0</td>\n",
       "      <td>0</td>\n",
       "      <td>0</td>\n",
       "      <td>0</td>\n",
       "      <td>0</td>\n",
       "      <td>0</td>\n",
       "      <td>0</td>\n",
       "      <td>0</td>\n",
       "      <td>...</td>\n",
       "      <td>1</td>\n",
       "      <td>0</td>\n",
       "      <td>0</td>\n",
       "      <td>0</td>\n",
       "      <td>0</td>\n",
       "      <td>0</td>\n",
       "      <td>0</td>\n",
       "      <td>0</td>\n",
       "      <td>0</td>\n",
       "      <td>0</td>\n",
       "    </tr>\n",
       "    <tr>\n",
       "      <th>1337</th>\n",
       "      <td>2.927942e+10</td>\n",
       "      <td>314159265359</td>\n",
       "      <td>0</td>\n",
       "      <td>0</td>\n",
       "      <td>0</td>\n",
       "      <td>0</td>\n",
       "      <td>0</td>\n",
       "      <td>0</td>\n",
       "      <td>0</td>\n",
       "      <td>0</td>\n",
       "      <td>...</td>\n",
       "      <td>1</td>\n",
       "      <td>0</td>\n",
       "      <td>0</td>\n",
       "      <td>0</td>\n",
       "      <td>0</td>\n",
       "      <td>0</td>\n",
       "      <td>0</td>\n",
       "      <td>0</td>\n",
       "      <td>0</td>\n",
       "      <td>0</td>\n",
       "    </tr>\n",
       "    <tr>\n",
       "      <th>BTC</th>\n",
       "      <td>1.792718e+07</td>\n",
       "      <td>21000000</td>\n",
       "      <td>0</td>\n",
       "      <td>0</td>\n",
       "      <td>0</td>\n",
       "      <td>0</td>\n",
       "      <td>0</td>\n",
       "      <td>0</td>\n",
       "      <td>0</td>\n",
       "      <td>0</td>\n",
       "      <td>...</td>\n",
       "      <td>0</td>\n",
       "      <td>0</td>\n",
       "      <td>0</td>\n",
       "      <td>0</td>\n",
       "      <td>0</td>\n",
       "      <td>0</td>\n",
       "      <td>0</td>\n",
       "      <td>0</td>\n",
       "      <td>0</td>\n",
       "      <td>0</td>\n",
       "    </tr>\n",
       "    <tr>\n",
       "      <th>ETH</th>\n",
       "      <td>1.076842e+08</td>\n",
       "      <td>0</td>\n",
       "      <td>0</td>\n",
       "      <td>0</td>\n",
       "      <td>0</td>\n",
       "      <td>0</td>\n",
       "      <td>0</td>\n",
       "      <td>0</td>\n",
       "      <td>0</td>\n",
       "      <td>0</td>\n",
       "      <td>...</td>\n",
       "      <td>0</td>\n",
       "      <td>0</td>\n",
       "      <td>0</td>\n",
       "      <td>0</td>\n",
       "      <td>0</td>\n",
       "      <td>0</td>\n",
       "      <td>0</td>\n",
       "      <td>0</td>\n",
       "      <td>0</td>\n",
       "      <td>0</td>\n",
       "    </tr>\n",
       "  </tbody>\n",
       "</table>\n",
       "<p>5 rows × 98 columns</p>\n",
       "</div>"
      ],
      "text/plain": [
       "      TotalCoinsMined TotalCoinSupply  Algorithm_1GB AES Pattern Search  \\\n",
       "42       4.199995e+01              42                                 0   \n",
       "404      1.055185e+09       532000000                                 0   \n",
       "1337     2.927942e+10    314159265359                                 0   \n",
       "BTC      1.792718e+07        21000000                                 0   \n",
       "ETH      1.076842e+08               0                                 0   \n",
       "\n",
       "      Algorithm_536  Algorithm_Argon2d  Algorithm_BLAKE256  Algorithm_Blake  \\\n",
       "42                0                  0                   0                0   \n",
       "404               0                  0                   0                0   \n",
       "1337              0                  0                   0                0   \n",
       "BTC               0                  0                   0                0   \n",
       "ETH               0                  0                   0                0   \n",
       "\n",
       "      Algorithm_Blake2S  Algorithm_Blake2b  Algorithm_C11  ...  \\\n",
       "42                    0                  0              0  ...   \n",
       "404                   0                  0              0  ...   \n",
       "1337                  0                  0              0  ...   \n",
       "BTC                   0                  0              0  ...   \n",
       "ETH                   0                  0              0  ...   \n",
       "\n",
       "      ProofType_PoW/PoS  ProofType_PoW/PoS   ProofType_PoW/PoW  \\\n",
       "42                    1                   0                  0   \n",
       "404                   1                   0                  0   \n",
       "1337                  1                   0                  0   \n",
       "BTC                   0                   0                  0   \n",
       "ETH                   0                   0                  0   \n",
       "\n",
       "      ProofType_PoW/nPoS  ProofType_Pos  ProofType_Proof of Authority  \\\n",
       "42                     0              0                             0   \n",
       "404                    0              0                             0   \n",
       "1337                   0              0                             0   \n",
       "BTC                    0              0                             0   \n",
       "ETH                    0              0                             0   \n",
       "\n",
       "      ProofType_Proof of Trust  ProofType_TPoS  \\\n",
       "42                           0               0   \n",
       "404                          0               0   \n",
       "1337                         0               0   \n",
       "BTC                          0               0   \n",
       "ETH                          0               0   \n",
       "\n",
       "      ProofType_Zero-Knowledge Proof  ProofType_dPoW/PoW  \n",
       "42                                 0                   0  \n",
       "404                                0                   0  \n",
       "1337                               0                   0  \n",
       "BTC                                0                   0  \n",
       "ETH                                0                   0  \n",
       "\n",
       "[5 rows x 98 columns]"
      ]
     },
     "metadata": {},
     "execution_count": 364
    }
   ],
   "metadata": {}
  },
  {
   "cell_type": "code",
   "execution_count": 365,
   "source": [
    "# Standardize the data with StandardScaler().\n",
    "X_scaled = StandardScaler().fit_transform(X)\n",
    "X_scaled"
   ],
   "outputs": [
    {
     "output_type": "execute_result",
     "data": {
      "text/plain": [
       "array([[-0.11710817, -0.1528703 , -0.0433963 , ..., -0.0433963 ,\n",
       "        -0.0433963 , -0.0433963 ],\n",
       "       [-0.09396955, -0.145009  , -0.0433963 , ..., -0.0433963 ,\n",
       "        -0.0433963 , -0.0433963 ],\n",
       "       [ 0.52494561,  4.48942416, -0.0433963 , ..., -0.0433963 ,\n",
       "        -0.0433963 , -0.0433963 ],\n",
       "       ...,\n",
       "       [-0.09561336, -0.13217937, -0.0433963 , ..., -0.0433963 ,\n",
       "        -0.0433963 , -0.0433963 ],\n",
       "       [-0.11694817, -0.15255998, -0.0433963 , ..., -0.0433963 ,\n",
       "        -0.0433963 , -0.0433963 ],\n",
       "       [-0.11710536, -0.15285552, -0.0433963 , ..., -0.0433963 ,\n",
       "        -0.0433963 , -0.0433963 ]])"
      ]
     },
     "metadata": {},
     "execution_count": 365
    }
   ],
   "metadata": {}
  },
  {
   "cell_type": "markdown",
   "source": [
    "### Deliverable 2: Reducing Data Dimensions Using PCA"
   ],
   "metadata": {}
  },
  {
   "cell_type": "code",
   "execution_count": 366,
   "source": [
    "# Using PCA to reduce dimension to three principal components.\n",
    "pca = PCA(n_components=3)\n",
    "crypto_pca = pca.fit_transform(X_scaled)"
   ],
   "outputs": [],
   "metadata": {}
  },
  {
   "cell_type": "code",
   "execution_count": 367,
   "source": [
    "# Create a DataFrame with the three principal components.\n",
    "pcs_df = pd.DataFrame(data=crypto_pca, columns=[\"principal component 1\", \"principal component 2\", \"principal component 3\"], index = crypto_df.index)\n",
    "pcs_df"
   ],
   "outputs": [
    {
     "output_type": "execute_result",
     "data": {
      "text/html": [
       "<div>\n",
       "<style scoped>\n",
       "    .dataframe tbody tr th:only-of-type {\n",
       "        vertical-align: middle;\n",
       "    }\n",
       "\n",
       "    .dataframe tbody tr th {\n",
       "        vertical-align: top;\n",
       "    }\n",
       "\n",
       "    .dataframe thead th {\n",
       "        text-align: right;\n",
       "    }\n",
       "</style>\n",
       "<table border=\"1\" class=\"dataframe\">\n",
       "  <thead>\n",
       "    <tr style=\"text-align: right;\">\n",
       "      <th></th>\n",
       "      <th>principal component 1</th>\n",
       "      <th>principal component 2</th>\n",
       "      <th>principal component 3</th>\n",
       "    </tr>\n",
       "  </thead>\n",
       "  <tbody>\n",
       "    <tr>\n",
       "      <th>42</th>\n",
       "      <td>-0.337542</td>\n",
       "      <td>1.041695</td>\n",
       "      <td>-0.567942</td>\n",
       "    </tr>\n",
       "    <tr>\n",
       "      <th>404</th>\n",
       "      <td>-0.320895</td>\n",
       "      <td>1.041970</td>\n",
       "      <td>-0.568265</td>\n",
       "    </tr>\n",
       "    <tr>\n",
       "      <th>1337</th>\n",
       "      <td>2.304155</td>\n",
       "      <td>1.757886</td>\n",
       "      <td>-0.704341</td>\n",
       "    </tr>\n",
       "    <tr>\n",
       "      <th>BTC</th>\n",
       "      <td>-0.135081</td>\n",
       "      <td>-1.352438</td>\n",
       "      <td>0.150144</td>\n",
       "    </tr>\n",
       "    <tr>\n",
       "      <th>ETH</th>\n",
       "      <td>-0.161217</td>\n",
       "      <td>-1.979426</td>\n",
       "      <td>0.423166</td>\n",
       "    </tr>\n",
       "    <tr>\n",
       "      <th>...</th>\n",
       "      <td>...</td>\n",
       "      <td>...</td>\n",
       "      <td>...</td>\n",
       "    </tr>\n",
       "    <tr>\n",
       "      <th>ZEPH</th>\n",
       "      <td>2.493623</td>\n",
       "      <td>0.686755</td>\n",
       "      <td>-0.035593</td>\n",
       "    </tr>\n",
       "    <tr>\n",
       "      <th>GAP</th>\n",
       "      <td>-0.335589</td>\n",
       "      <td>1.041605</td>\n",
       "      <td>-0.567967</td>\n",
       "    </tr>\n",
       "    <tr>\n",
       "      <th>BDX</th>\n",
       "      <td>0.330598</td>\n",
       "      <td>-2.277454</td>\n",
       "      <td>0.361373</td>\n",
       "    </tr>\n",
       "    <tr>\n",
       "      <th>ZEN</th>\n",
       "      <td>-0.152058</td>\n",
       "      <td>-2.123254</td>\n",
       "      <td>0.411799</td>\n",
       "    </tr>\n",
       "    <tr>\n",
       "      <th>XBC</th>\n",
       "      <td>-0.302642</td>\n",
       "      <td>0.852298</td>\n",
       "      <td>-0.214117</td>\n",
       "    </tr>\n",
       "  </tbody>\n",
       "</table>\n",
       "<p>532 rows × 3 columns</p>\n",
       "</div>"
      ],
      "text/plain": [
       "      principal component 1  principal component 2  principal component 3\n",
       "42                -0.337542               1.041695              -0.567942\n",
       "404               -0.320895               1.041970              -0.568265\n",
       "1337               2.304155               1.757886              -0.704341\n",
       "BTC               -0.135081              -1.352438               0.150144\n",
       "ETH               -0.161217              -1.979426               0.423166\n",
       "...                     ...                    ...                    ...\n",
       "ZEPH               2.493623               0.686755              -0.035593\n",
       "GAP               -0.335589               1.041605              -0.567967\n",
       "BDX                0.330598              -2.277454               0.361373\n",
       "ZEN               -0.152058              -2.123254               0.411799\n",
       "XBC               -0.302642               0.852298              -0.214117\n",
       "\n",
       "[532 rows x 3 columns]"
      ]
     },
     "metadata": {},
     "execution_count": 367
    }
   ],
   "metadata": {}
  },
  {
   "cell_type": "markdown",
   "source": [
    "### Deliverable 3: Clustering Crytocurrencies Using K-Means\n",
    "\n",
    "#### Finding the Best Value for `k` Using the Elbow Curve"
   ],
   "metadata": {}
  },
  {
   "cell_type": "code",
   "execution_count": 342,
   "source": [
    "# Create an elbow curve to find the best value for K.\n",
    "inertia = []\n",
    "k = list(range(1, 11))\n",
    "\n",
    "# Calculate the inertia for the range of K values\n",
    "for i in k:\n",
    "    km = KMeans(n_clusters=i, random_state=0)\n",
    "    km.fit(pcs_df)\n",
    "    inertia.append(km.inertia_)\n",
    "\n",
    "# Create the elbow curve\n",
    "elbow_data = {\"k\": k, \"inertia\": inertia}\n",
    "df_elbow = pd.DataFrame(elbow_data)\n",
    "df_elbow.hvplot.line(x=\"k\", y=\"inertia\", xticks=k, title=\"Elbow Curve\")\n"
   ],
   "outputs": [
    {
     "output_type": "display_data",
     "data": {},
     "metadata": {}
    },
    {
     "output_type": "execute_result",
     "data": {
      "text/html": [
       "<div id='9616'>\n",
       "\n",
       "\n",
       "\n",
       "\n",
       "\n",
       "  <div class=\"bk-root\" id=\"7b5e7fbf-bb89-478f-8cb2-6f7f08101ae4\" data-root-id=\"9616\"></div>\n",
       "</div>\n",
       "<script type=\"application/javascript\">(function(root) {\n",
       "  function embed_document(root) {\n",
       "    var docs_json = {\"8af4c1a8-c6bc-4366-8df5-ea998cc80d6b\":{\"defs\":[{\"extends\":null,\"module\":null,\"name\":\"ReactiveHTML1\",\"overrides\":[],\"properties\":[]},{\"extends\":null,\"module\":null,\"name\":\"FlexBox1\",\"overrides\":[],\"properties\":[{\"default\":\"flex-start\",\"kind\":null,\"name\":\"align_content\"},{\"default\":\"flex-start\",\"kind\":null,\"name\":\"align_items\"},{\"default\":\"row\",\"kind\":null,\"name\":\"flex_direction\"},{\"default\":\"wrap\",\"kind\":null,\"name\":\"flex_wrap\"},{\"default\":\"flex-start\",\"kind\":null,\"name\":\"justify_content\"}]},{\"extends\":null,\"module\":null,\"name\":\"TemplateActions1\",\"overrides\":[],\"properties\":[{\"default\":0,\"kind\":null,\"name\":\"open_modal\"},{\"default\":0,\"kind\":null,\"name\":\"close_modal\"}]},{\"extends\":null,\"module\":null,\"name\":\"MaterialTemplateActions1\",\"overrides\":[],\"properties\":[{\"default\":0,\"kind\":null,\"name\":\"open_modal\"},{\"default\":0,\"kind\":null,\"name\":\"close_modal\"}]}],\"roots\":{\"references\":[{\"attributes\":{},\"id\":\"9676\",\"type\":\"UnionRenderers\"},{\"attributes\":{\"margin\":[5,5,5,5],\"name\":\"HSpacer15215\",\"sizing_mode\":\"stretch_width\"},\"id\":\"9617\",\"type\":\"Spacer\"},{\"attributes\":{\"axis\":{\"id\":\"9634\"},\"dimension\":1,\"grid_line_color\":null,\"ticker\":null},\"id\":\"9637\",\"type\":\"Grid\"},{\"attributes\":{\"axis_label\":\"k\",\"formatter\":{\"id\":\"9663\"},\"major_label_policy\":{\"id\":\"9661\"},\"ticker\":{\"id\":\"9660\"}},\"id\":\"9630\",\"type\":\"LinearAxis\"},{\"attributes\":{\"data_source\":{\"id\":\"9651\"},\"glyph\":{\"id\":\"9654\"},\"hover_glyph\":null,\"muted_glyph\":{\"id\":\"9656\"},\"nonselection_glyph\":{\"id\":\"9655\"},\"selection_glyph\":{\"id\":\"9659\"},\"view\":{\"id\":\"9658\"}},\"id\":\"9657\",\"type\":\"GlyphRenderer\"},{\"attributes\":{\"bottom_units\":\"screen\",\"fill_alpha\":0.5,\"fill_color\":\"lightgrey\",\"left_units\":\"screen\",\"level\":\"overlay\",\"line_alpha\":1.0,\"line_color\":\"black\",\"line_dash\":[4,4],\"line_width\":2,\"right_units\":\"screen\",\"syncable\":false,\"top_units\":\"screen\"},\"id\":\"9643\",\"type\":\"BoxAnnotation\"},{\"attributes\":{},\"id\":\"9626\",\"type\":\"LinearScale\"},{\"attributes\":{\"below\":[{\"id\":\"9630\"}],\"center\":[{\"id\":\"9633\"},{\"id\":\"9637\"}],\"height\":300,\"left\":[{\"id\":\"9634\"}],\"margin\":[5,5,5,5],\"min_border_bottom\":10,\"min_border_left\":10,\"min_border_right\":10,\"min_border_top\":10,\"renderers\":[{\"id\":\"9657\"}],\"sizing_mode\":\"fixed\",\"title\":{\"id\":\"9622\"},\"toolbar\":{\"id\":\"9644\"},\"width\":700,\"x_range\":{\"id\":\"9618\"},\"x_scale\":{\"id\":\"9626\"},\"y_range\":{\"id\":\"9619\"},\"y_scale\":{\"id\":\"9628\"}},\"id\":\"9621\",\"subtype\":\"Figure\",\"type\":\"Plot\"},{\"attributes\":{\"line_alpha\":0.1,\"line_color\":\"#30a2da\",\"line_width\":2,\"x\":{\"field\":\"k\"},\"y\":{\"field\":\"inertia\"}},\"id\":\"9655\",\"type\":\"Line\"},{\"attributes\":{\"active_multi\":null,\"tools\":[{\"id\":\"9620\"},{\"id\":\"9638\"},{\"id\":\"9639\"},{\"id\":\"9640\"},{\"id\":\"9641\"},{\"id\":\"9642\"}]},\"id\":\"9644\",\"type\":\"Toolbar\"},{\"attributes\":{\"line_color\":\"#30a2da\",\"line_width\":2,\"x\":{\"field\":\"k\"},\"y\":{\"field\":\"inertia\"}},\"id\":\"9659\",\"type\":\"Line\"},{\"attributes\":{\"line_alpha\":0.2,\"line_color\":\"#30a2da\",\"line_width\":2,\"x\":{\"field\":\"k\"},\"y\":{\"field\":\"inertia\"}},\"id\":\"9656\",\"type\":\"Line\"},{\"attributes\":{},\"id\":\"9638\",\"type\":\"SaveTool\"},{\"attributes\":{},\"id\":\"9639\",\"type\":\"PanTool\"},{\"attributes\":{\"children\":[{\"id\":\"9617\"},{\"id\":\"9621\"},{\"id\":\"9687\"}],\"margin\":[0,0,0,0],\"name\":\"Row15211\",\"tags\":[\"embedded\"]},\"id\":\"9616\",\"type\":\"Row\"},{\"attributes\":{\"source\":{\"id\":\"9651\"}},\"id\":\"9658\",\"type\":\"CDSView\"},{\"attributes\":{\"line_color\":\"#30a2da\",\"line_width\":2,\"x\":{\"field\":\"k\"},\"y\":{\"field\":\"inertia\"}},\"id\":\"9654\",\"type\":\"Line\"},{\"attributes\":{},\"id\":\"9663\",\"type\":\"BasicTickFormatter\"},{\"attributes\":{},\"id\":\"9640\",\"type\":\"WheelZoomTool\"},{\"attributes\":{\"overlay\":{\"id\":\"9643\"}},\"id\":\"9641\",\"type\":\"BoxZoomTool\"},{\"attributes\":{\"end\":10.0,\"reset_end\":10.0,\"reset_start\":1.0,\"start\":1.0,\"tags\":[[[\"k\",\"k\",null]]]},\"id\":\"9618\",\"type\":\"Range1d\"},{\"attributes\":{},\"id\":\"9668\",\"type\":\"BasicTickFormatter\"},{\"attributes\":{},\"id\":\"9661\",\"type\":\"AllLabels\"},{\"attributes\":{\"margin\":[5,5,5,5],\"name\":\"HSpacer15216\",\"sizing_mode\":\"stretch_width\"},\"id\":\"9687\",\"type\":\"Spacer\"},{\"attributes\":{},\"id\":\"9652\",\"type\":\"Selection\"},{\"attributes\":{},\"id\":\"9628\",\"type\":\"LinearScale\"},{\"attributes\":{},\"id\":\"9642\",\"type\":\"ResetTool\"},{\"attributes\":{\"ticks\":[1,2,3,4,5,6,7,8,9,10]},\"id\":\"9660\",\"type\":\"FixedTicker\"},{\"attributes\":{\"axis_label\":\"inertia\",\"formatter\":{\"id\":\"9668\"},\"major_label_policy\":{\"id\":\"9666\"},\"ticker\":{\"id\":\"9635\"}},\"id\":\"9634\",\"type\":\"LinearAxis\"},{\"attributes\":{},\"id\":\"9666\",\"type\":\"AllLabels\"},{\"attributes\":{\"callback\":null,\"renderers\":[{\"id\":\"9657\"}],\"tags\":[\"hv_created\"],\"tooltips\":[[\"k\",\"@{k}\"],[\"inertia\",\"@{inertia}\"]]},\"id\":\"9620\",\"type\":\"HoverTool\"},{\"attributes\":{\"text\":\"Elbow Curve\",\"text_color\":\"black\",\"text_font_size\":\"12pt\"},\"id\":\"9622\",\"type\":\"Title\"},{\"attributes\":{\"data\":{\"inertia\":{\"__ndarray__\":\"02zYKLRwrECB3nHcv6ukQOfX7XZqJZdAJqi/qG2of0B6KRgdupJzQE6LBRO4Pm9A5nHekZGzaUBE3wWhcHpkQLxPl09C3GBA9/IyyIS0WUA=\",\"dtype\":\"float64\",\"order\":\"little\",\"shape\":[10]},\"k\":[1,2,3,4,5,6,7,8,9,10]},\"selected\":{\"id\":\"9652\"},\"selection_policy\":{\"id\":\"9676\"}},\"id\":\"9651\",\"type\":\"ColumnDataSource\"},{\"attributes\":{\"end\":3994.1050011011475,\"reset_end\":3994.1050011011475,\"reset_start\":-250.9325226036052,\"start\":-250.9325226036052,\"tags\":[[[\"inertia\",\"inertia\",null]]]},\"id\":\"9619\",\"type\":\"Range1d\"},{\"attributes\":{\"axis\":{\"id\":\"9630\"},\"grid_line_color\":null,\"ticker\":null},\"id\":\"9633\",\"type\":\"Grid\"},{\"attributes\":{},\"id\":\"9635\",\"type\":\"BasicTicker\"}],\"root_ids\":[\"9616\"]},\"title\":\"Bokeh Application\",\"version\":\"2.3.2\"}};\n",
       "    var render_items = [{\"docid\":\"8af4c1a8-c6bc-4366-8df5-ea998cc80d6b\",\"root_ids\":[\"9616\"],\"roots\":{\"9616\":\"7b5e7fbf-bb89-478f-8cb2-6f7f08101ae4\"}}];\n",
       "    root.Bokeh.embed.embed_items_notebook(docs_json, render_items);\n",
       "  }\n",
       "  if (root.Bokeh !== undefined && root.Bokeh.Panel !== undefined) {\n",
       "    embed_document(root);\n",
       "  } else {\n",
       "    var attempts = 0;\n",
       "    var timer = setInterval(function(root) {\n",
       "      if (root.Bokeh !== undefined && root.Bokeh.Panel !== undefined) {\n",
       "        clearInterval(timer);\n",
       "        embed_document(root);\n",
       "      } else if (document.readyState == \"complete\") {\n",
       "        attempts++;\n",
       "        if (attempts > 200) {\n",
       "          clearInterval(timer);\n",
       "          console.log(\"Bokeh: ERROR: Unable to run BokehJS code because BokehJS library is missing\");\n",
       "        }\n",
       "      }\n",
       "    }, 25, root)\n",
       "  }\n",
       "})(window);</script>"
      ],
      "text/plain": [
       ":Curve   [k]   (inertia)"
      ],
      "application/vnd.holoviews_exec.v0+json": ""
     },
     "metadata": {
      "application/vnd.holoviews_exec.v0+json": {
       "id": "9616"
      }
     },
     "execution_count": 342
    }
   ],
   "metadata": {}
  },
  {
   "cell_type": "markdown",
   "source": [
    "Running K-Means with `k=4`"
   ],
   "metadata": {}
  },
  {
   "cell_type": "code",
   "execution_count": 343,
   "source": [
    "# Initialize the K-Means model.\n",
    "model = KMeans(n_clusters=4, random_state=0)\n",
    "\n",
    "# Fit the model\n",
    "model.fit(pcs_df)\n",
    "\n",
    "# Predict clusters\n",
    "predictions = model.predict(pcs_df)\n",
    "\n",
    "pcs_df[\"class\"] = model.labels_\n",
    "pcs_df.head()"
   ],
   "outputs": [
    {
     "output_type": "execute_result",
     "data": {
      "text/html": [
       "<div>\n",
       "<style scoped>\n",
       "    .dataframe tbody tr th:only-of-type {\n",
       "        vertical-align: middle;\n",
       "    }\n",
       "\n",
       "    .dataframe tbody tr th {\n",
       "        vertical-align: top;\n",
       "    }\n",
       "\n",
       "    .dataframe thead th {\n",
       "        text-align: right;\n",
       "    }\n",
       "</style>\n",
       "<table border=\"1\" class=\"dataframe\">\n",
       "  <thead>\n",
       "    <tr style=\"text-align: right;\">\n",
       "      <th></th>\n",
       "      <th>principal component 1</th>\n",
       "      <th>principal component 2</th>\n",
       "      <th>principal component 3</th>\n",
       "      <th>class</th>\n",
       "    </tr>\n",
       "  </thead>\n",
       "  <tbody>\n",
       "    <tr>\n",
       "      <th>42</th>\n",
       "      <td>-0.339644</td>\n",
       "      <td>1.035216</td>\n",
       "      <td>-0.584585</td>\n",
       "      <td>0</td>\n",
       "    </tr>\n",
       "    <tr>\n",
       "      <th>404</th>\n",
       "      <td>-0.322985</td>\n",
       "      <td>1.035369</td>\n",
       "      <td>-0.584953</td>\n",
       "      <td>0</td>\n",
       "    </tr>\n",
       "    <tr>\n",
       "      <th>1337</th>\n",
       "      <td>2.309016</td>\n",
       "      <td>1.672808</td>\n",
       "      <td>-0.627822</td>\n",
       "      <td>0</td>\n",
       "    </tr>\n",
       "    <tr>\n",
       "      <th>BTC</th>\n",
       "      <td>-0.143766</td>\n",
       "      <td>-1.315808</td>\n",
       "      <td>0.195767</td>\n",
       "      <td>3</td>\n",
       "    </tr>\n",
       "    <tr>\n",
       "      <th>ETH</th>\n",
       "      <td>-0.153580</td>\n",
       "      <td>-2.047495</td>\n",
       "      <td>0.336049</td>\n",
       "      <td>3</td>\n",
       "    </tr>\n",
       "  </tbody>\n",
       "</table>\n",
       "</div>"
      ],
      "text/plain": [
       "      principal component 1  principal component 2  principal component 3  \\\n",
       "42                -0.339644               1.035216              -0.584585   \n",
       "404               -0.322985               1.035369              -0.584953   \n",
       "1337               2.309016               1.672808              -0.627822   \n",
       "BTC               -0.143766              -1.315808               0.195767   \n",
       "ETH               -0.153580              -2.047495               0.336049   \n",
       "\n",
       "      class  \n",
       "42        0  \n",
       "404       0  \n",
       "1337      0  \n",
       "BTC       3  \n",
       "ETH       3  "
      ]
     },
     "metadata": {},
     "execution_count": 343
    }
   ],
   "metadata": {}
  },
  {
   "cell_type": "code",
   "execution_count": 344,
   "source": [
    "# Create a new DataFrame including predicted clusters and cryptocurrencies features.\n",
    "# Concatentate the crypto_df and pcs_df DataFrames on the same columns.\n",
    "clustered_df = pd.concat([crypto_df, pcs_df, coins_name], axis=1)\n",
    "# Print the shape of the clustered_df\n",
    "print(clustered_df.shape)\n",
    "clustered_df.head(10)"
   ],
   "outputs": [
    {
     "output_type": "stream",
     "name": "stdout",
     "text": [
      "(532, 9)\n"
     ]
    },
    {
     "output_type": "execute_result",
     "data": {
      "text/html": [
       "<div>\n",
       "<style scoped>\n",
       "    .dataframe tbody tr th:only-of-type {\n",
       "        vertical-align: middle;\n",
       "    }\n",
       "\n",
       "    .dataframe tbody tr th {\n",
       "        vertical-align: top;\n",
       "    }\n",
       "\n",
       "    .dataframe thead th {\n",
       "        text-align: right;\n",
       "    }\n",
       "</style>\n",
       "<table border=\"1\" class=\"dataframe\">\n",
       "  <thead>\n",
       "    <tr style=\"text-align: right;\">\n",
       "      <th></th>\n",
       "      <th>Algorithm</th>\n",
       "      <th>ProofType</th>\n",
       "      <th>TotalCoinsMined</th>\n",
       "      <th>TotalCoinSupply</th>\n",
       "      <th>principal component 1</th>\n",
       "      <th>principal component 2</th>\n",
       "      <th>principal component 3</th>\n",
       "      <th>class</th>\n",
       "      <th>CoinName</th>\n",
       "    </tr>\n",
       "  </thead>\n",
       "  <tbody>\n",
       "    <tr>\n",
       "      <th>42</th>\n",
       "      <td>Scrypt</td>\n",
       "      <td>PoW/PoS</td>\n",
       "      <td>4.199995e+01</td>\n",
       "      <td>42</td>\n",
       "      <td>-0.339644</td>\n",
       "      <td>1.035216</td>\n",
       "      <td>-0.584585</td>\n",
       "      <td>0</td>\n",
       "      <td>42 Coin</td>\n",
       "    </tr>\n",
       "    <tr>\n",
       "      <th>404</th>\n",
       "      <td>Scrypt</td>\n",
       "      <td>PoW/PoS</td>\n",
       "      <td>1.055185e+09</td>\n",
       "      <td>532000000</td>\n",
       "      <td>-0.322985</td>\n",
       "      <td>1.035369</td>\n",
       "      <td>-0.584953</td>\n",
       "      <td>0</td>\n",
       "      <td>404Coin</td>\n",
       "    </tr>\n",
       "    <tr>\n",
       "      <th>1337</th>\n",
       "      <td>X13</td>\n",
       "      <td>PoW/PoS</td>\n",
       "      <td>2.927942e+10</td>\n",
       "      <td>314159265359</td>\n",
       "      <td>2.309016</td>\n",
       "      <td>1.672808</td>\n",
       "      <td>-0.627822</td>\n",
       "      <td>0</td>\n",
       "      <td>EliteCoin</td>\n",
       "    </tr>\n",
       "    <tr>\n",
       "      <th>BTC</th>\n",
       "      <td>SHA-256</td>\n",
       "      <td>PoW</td>\n",
       "      <td>1.792718e+07</td>\n",
       "      <td>21000000</td>\n",
       "      <td>-0.143766</td>\n",
       "      <td>-1.315808</td>\n",
       "      <td>0.195767</td>\n",
       "      <td>3</td>\n",
       "      <td>Bitcoin</td>\n",
       "    </tr>\n",
       "    <tr>\n",
       "      <th>ETH</th>\n",
       "      <td>Ethash</td>\n",
       "      <td>PoW</td>\n",
       "      <td>1.076842e+08</td>\n",
       "      <td>0</td>\n",
       "      <td>-0.153580</td>\n",
       "      <td>-2.047495</td>\n",
       "      <td>0.336049</td>\n",
       "      <td>3</td>\n",
       "      <td>Ethereum</td>\n",
       "    </tr>\n",
       "    <tr>\n",
       "      <th>LTC</th>\n",
       "      <td>Scrypt</td>\n",
       "      <td>PoW</td>\n",
       "      <td>6.303924e+07</td>\n",
       "      <td>84000000</td>\n",
       "      <td>-0.171590</td>\n",
       "      <td>-1.135853</td>\n",
       "      <td>-0.061938</td>\n",
       "      <td>3</td>\n",
       "      <td>Litecoin</td>\n",
       "    </tr>\n",
       "    <tr>\n",
       "      <th>DASH</th>\n",
       "      <td>X11</td>\n",
       "      <td>PoW/PoS</td>\n",
       "      <td>9.031294e+06</td>\n",
       "      <td>22000000</td>\n",
       "      <td>-0.387885</td>\n",
       "      <td>1.244717</td>\n",
       "      <td>-0.471384</td>\n",
       "      <td>0</td>\n",
       "      <td>Dash</td>\n",
       "    </tr>\n",
       "    <tr>\n",
       "      <th>XMR</th>\n",
       "      <td>CryptoNight-V7</td>\n",
       "      <td>PoW</td>\n",
       "      <td>1.720114e+07</td>\n",
       "      <td>0</td>\n",
       "      <td>-0.147141</td>\n",
       "      <td>-2.124824</td>\n",
       "      <td>0.555345</td>\n",
       "      <td>3</td>\n",
       "      <td>Monero</td>\n",
       "    </tr>\n",
       "    <tr>\n",
       "      <th>ETC</th>\n",
       "      <td>Ethash</td>\n",
       "      <td>PoW</td>\n",
       "      <td>1.133597e+08</td>\n",
       "      <td>210000000</td>\n",
       "      <td>-0.152022</td>\n",
       "      <td>-2.047591</td>\n",
       "      <td>0.336038</td>\n",
       "      <td>3</td>\n",
       "      <td>Ethereum Classic</td>\n",
       "    </tr>\n",
       "    <tr>\n",
       "      <th>ZEC</th>\n",
       "      <td>Equihash</td>\n",
       "      <td>PoW</td>\n",
       "      <td>7.383056e+06</td>\n",
       "      <td>21000000</td>\n",
       "      <td>-0.148252</td>\n",
       "      <td>-2.129038</td>\n",
       "      <td>0.236369</td>\n",
       "      <td>3</td>\n",
       "      <td>ZCash</td>\n",
       "    </tr>\n",
       "  </tbody>\n",
       "</table>\n",
       "</div>"
      ],
      "text/plain": [
       "           Algorithm ProofType  TotalCoinsMined TotalCoinSupply  \\\n",
       "42            Scrypt   PoW/PoS     4.199995e+01              42   \n",
       "404           Scrypt   PoW/PoS     1.055185e+09       532000000   \n",
       "1337             X13   PoW/PoS     2.927942e+10    314159265359   \n",
       "BTC          SHA-256       PoW     1.792718e+07        21000000   \n",
       "ETH           Ethash       PoW     1.076842e+08               0   \n",
       "LTC           Scrypt       PoW     6.303924e+07        84000000   \n",
       "DASH             X11   PoW/PoS     9.031294e+06        22000000   \n",
       "XMR   CryptoNight-V7       PoW     1.720114e+07               0   \n",
       "ETC           Ethash       PoW     1.133597e+08       210000000   \n",
       "ZEC         Equihash       PoW     7.383056e+06        21000000   \n",
       "\n",
       "      principal component 1  principal component 2  principal component 3  \\\n",
       "42                -0.339644               1.035216              -0.584585   \n",
       "404               -0.322985               1.035369              -0.584953   \n",
       "1337               2.309016               1.672808              -0.627822   \n",
       "BTC               -0.143766              -1.315808               0.195767   \n",
       "ETH               -0.153580              -2.047495               0.336049   \n",
       "LTC               -0.171590              -1.135853              -0.061938   \n",
       "DASH              -0.387885               1.244717              -0.471384   \n",
       "XMR               -0.147141              -2.124824               0.555345   \n",
       "ETC               -0.152022              -2.047591               0.336038   \n",
       "ZEC               -0.148252              -2.129038               0.236369   \n",
       "\n",
       "      class          CoinName  \n",
       "42        0           42 Coin  \n",
       "404       0           404Coin  \n",
       "1337      0         EliteCoin  \n",
       "BTC       3           Bitcoin  \n",
       "ETH       3          Ethereum  \n",
       "LTC       3          Litecoin  \n",
       "DASH      0              Dash  \n",
       "XMR       3            Monero  \n",
       "ETC       3  Ethereum Classic  \n",
       "ZEC       3             ZCash  "
      ]
     },
     "metadata": {},
     "execution_count": 344
    }
   ],
   "metadata": {}
  },
  {
   "cell_type": "markdown",
   "source": [
    "### Deliverable 4: Visualizing Cryptocurrencies Results\n",
    "\n",
    "#### 3D-Scatter with Clusters"
   ],
   "metadata": {}
  },
  {
   "cell_type": "code",
   "execution_count": 345,
   "source": [
    "# Creating a 3D-Scatter with the PCA data and the clusters\n",
    "fig = px.scatter_3d(\n",
    "    clustered_df,\n",
    "    x=\"principal component 3\",\n",
    "    y=\"principal component 2\",\n",
    "    z=\"principal component 1\",\n",
    "    hover_name=\"CoinName\",\n",
    "    hover_data=[\"Algorithm\"],\n",
    "    width=800,\n",
    ")\n",
    "fig.update_layout(legend=dict(x=0, y=1))\n",
    "fig.show()"
   ],
   "outputs": [
    {
     "output_type": "display_data",
     "data": {
      "application/vnd.plotly.v1+json": {
       "config": {
        "plotlyServerURL": "https://plot.ly"
       },
       "data": [
        {
         "customdata": [
          [
           "Scrypt"
          ],
          [
           "Scrypt"
          ],
          [
           "X13"
          ],
          [
           "SHA-256"
          ],
          [
           "Ethash"
          ],
          [
           "Scrypt"
          ],
          [
           "X11"
          ],
          [
           "CryptoNight-V7"
          ],
          [
           "Ethash"
          ],
          [
           "Equihash"
          ],
          [
           "SHA-512"
          ],
          [
           "Multiple"
          ],
          [
           "SHA-256"
          ],
          [
           "SHA-256"
          ],
          [
           "Scrypt"
          ],
          [
           "X15"
          ],
          [
           "X11"
          ],
          [
           "Scrypt"
          ],
          [
           "Scrypt"
          ],
          [
           "Scrypt"
          ],
          [
           "Multiple"
          ],
          [
           "Scrypt"
          ],
          [
           "SHA-256"
          ],
          [
           "Scrypt"
          ],
          [
           "Scrypt"
          ],
          [
           "Scrypt"
          ],
          [
           "Quark"
          ],
          [
           "Groestl"
          ],
          [
           "Scrypt"
          ],
          [
           "Scrypt"
          ],
          [
           "Scrypt"
          ],
          [
           "Scrypt"
          ],
          [
           "Scrypt"
          ],
          [
           "X11"
          ],
          [
           "Scrypt"
          ],
          [
           "Groestl"
          ],
          [
           "Multiple"
          ],
          [
           "SHA-256"
          ],
          [
           "Scrypt"
          ],
          [
           "Scrypt"
          ],
          [
           "Scrypt"
          ],
          [
           "Scrypt"
          ],
          [
           "PoS"
          ],
          [
           "Scrypt"
          ],
          [
           "Scrypt"
          ],
          [
           "NeoScrypt"
          ],
          [
           "Scrypt"
          ],
          [
           "Scrypt"
          ],
          [
           "Scrypt"
          ],
          [
           "Scrypt"
          ],
          [
           "X11"
          ],
          [
           "Scrypt"
          ],
          [
           "X11"
          ],
          [
           "SHA-256"
          ],
          [
           "Scrypt"
          ],
          [
           "Scrypt"
          ],
          [
           "Scrypt"
          ],
          [
           "SHA3"
          ],
          [
           "Scrypt"
          ],
          [
           "HybridScryptHash256"
          ],
          [
           "Scrypt"
          ],
          [
           "Scrypt"
          ],
          [
           "SHA-256"
          ],
          [
           "Scrypt"
          ],
          [
           "X13"
          ],
          [
           "Scrypt"
          ],
          [
           "SHA-256"
          ],
          [
           "Scrypt"
          ],
          [
           "X13"
          ],
          [
           "NeoScrypt"
          ],
          [
           "Scrypt"
          ],
          [
           "Scrypt"
          ],
          [
           "Scrypt"
          ],
          [
           "Scrypt"
          ],
          [
           "Scrypt"
          ],
          [
           "Scrypt"
          ],
          [
           "X11"
          ],
          [
           "X11"
          ],
          [
           "SHA-256"
          ],
          [
           "Multiple"
          ],
          [
           "SHA-256"
          ],
          [
           "PHI1612"
          ],
          [
           "X11"
          ],
          [
           "SHA-256"
          ],
          [
           "SHA-256"
          ],
          [
           "SHA-256"
          ],
          [
           "X11"
          ],
          [
           "Scrypt"
          ],
          [
           "Scrypt"
          ],
          [
           "Scrypt"
          ],
          [
           "Scrypt"
          ],
          [
           "Lyra2REv2"
          ],
          [
           "Scrypt"
          ],
          [
           "X11"
          ],
          [
           "Multiple"
          ],
          [
           "SHA-256"
          ],
          [
           "X13"
          ],
          [
           "Scrypt"
          ],
          [
           "CryptoNight"
          ],
          [
           "CryptoNight"
          ],
          [
           "Shabal256"
          ],
          [
           "Counterparty"
          ],
          [
           "Scrypt"
          ],
          [
           "SHA-256"
          ],
          [
           "Groestl"
          ],
          [
           "Scrypt"
          ],
          [
           "Scrypt"
          ],
          [
           "Scrypt"
          ],
          [
           "X13"
          ],
          [
           "Scrypt"
          ],
          [
           "Scrypt"
          ],
          [
           "Scrypt"
          ],
          [
           "Scrypt"
          ],
          [
           "X13"
          ],
          [
           "Scrypt"
          ],
          [
           "Stanford Folding"
          ],
          [
           "X11"
          ],
          [
           "Multiple"
          ],
          [
           "QuBit"
          ],
          [
           "Scrypt"
          ],
          [
           "Scrypt"
          ],
          [
           "Scrypt"
          ],
          [
           "M7 POW"
          ],
          [
           "Scrypt"
          ],
          [
           "SHA-256"
          ],
          [
           "Scrypt"
          ],
          [
           "X11"
          ],
          [
           "SHA3"
          ],
          [
           "X11"
          ],
          [
           "Lyra2RE"
          ],
          [
           "SHA-256"
          ],
          [
           "QUAIT"
          ],
          [
           "X11"
          ],
          [
           "X11"
          ],
          [
           "Scrypt"
          ],
          [
           "Scrypt"
          ],
          [
           "Scrypt"
          ],
          [
           "Ethash"
          ],
          [
           "X13"
          ],
          [
           "Blake2b"
          ],
          [
           "SHA-256"
          ],
          [
           "X15"
          ],
          [
           "X11"
          ],
          [
           "SHA-256"
          ],
          [
           "BLAKE256"
          ],
          [
           "Scrypt"
          ],
          [
           "1GB AES Pattern Search"
          ],
          [
           "SHA-256"
          ],
          [
           "X11"
          ],
          [
           "Scrypt"
          ],
          [
           "SHA-256"
          ],
          [
           "SHA-256"
          ],
          [
           "NIST5"
          ],
          [
           "Scrypt"
          ],
          [
           "Scrypt"
          ],
          [
           "X11"
          ],
          [
           "Dagger"
          ],
          [
           "Scrypt"
          ],
          [
           "X11GOST"
          ],
          [
           "X11"
          ],
          [
           "Scrypt"
          ],
          [
           "SHA-256"
          ],
          [
           "Scrypt"
          ],
          [
           "PoS"
          ],
          [
           "Scrypt"
          ],
          [
           "X11"
          ],
          [
           "X11"
          ],
          [
           "SHA-256"
          ],
          [
           "SHA-256"
          ],
          [
           "NIST5"
          ],
          [
           "X11"
          ],
          [
           "Scrypt"
          ],
          [
           "POS 3.0"
          ],
          [
           "Scrypt"
          ],
          [
           "Scrypt"
          ],
          [
           "Scrypt"
          ],
          [
           "X13"
          ],
          [
           "X11"
          ],
          [
           "X11"
          ],
          [
           "Equihash"
          ],
          [
           "X11"
          ],
          [
           "Scrypt"
          ],
          [
           "CryptoNight"
          ],
          [
           "SHA-256"
          ],
          [
           "SHA-256"
          ],
          [
           "X11"
          ],
          [
           "Scrypt"
          ],
          [
           "Multiple"
          ],
          [
           "Scrypt"
          ],
          [
           "Scrypt"
          ],
          [
           "Scrypt"
          ],
          [
           "SHA-256"
          ],
          [
           "Scrypt"
          ],
          [
           "Scrypt"
          ],
          [
           "SHA-256D"
          ],
          [
           "PoS"
          ],
          [
           "Scrypt"
          ],
          [
           "X11"
          ],
          [
           "Lyra2Z"
          ],
          [
           "PoS"
          ],
          [
           "X13"
          ],
          [
           "X14"
          ],
          [
           "PoS"
          ],
          [
           "SHA-256D"
          ],
          [
           "Ethash"
          ],
          [
           "Equihash"
          ],
          [
           "DPoS"
          ],
          [
           "X11"
          ],
          [
           "Scrypt"
          ],
          [
           "X11"
          ],
          [
           "X13"
          ],
          [
           "X11"
          ],
          [
           "PoS"
          ],
          [
           "Scrypt"
          ],
          [
           "Scrypt"
          ],
          [
           "X11"
          ],
          [
           "PoS"
          ],
          [
           "X11"
          ],
          [
           "SHA-256"
          ],
          [
           "Scrypt"
          ],
          [
           "X11"
          ],
          [
           "Scrypt"
          ],
          [
           "Scrypt"
          ],
          [
           "X11"
          ],
          [
           "CryptoNight"
          ],
          [
           "Scrypt"
          ],
          [
           "Scrypt"
          ],
          [
           "Scrypt"
          ],
          [
           "Scrypt"
          ],
          [
           "Quark"
          ],
          [
           "QuBit"
          ],
          [
           "Scrypt"
          ],
          [
           "CryptoNight"
          ],
          [
           "Lyra2RE"
          ],
          [
           "Scrypt"
          ],
          [
           "SHA-256"
          ],
          [
           "X11"
          ],
          [
           "Scrypt"
          ],
          [
           "X11"
          ],
          [
           "Scrypt"
          ],
          [
           "CryptoNight-V7"
          ],
          [
           "Scrypt"
          ],
          [
           "Scrypt"
          ],
          [
           "Scrypt"
          ],
          [
           "X13"
          ],
          [
           "X11"
          ],
          [
           "Equihash"
          ],
          [
           "Scrypt"
          ],
          [
           "Scrypt"
          ],
          [
           "Lyra2RE"
          ],
          [
           "Scrypt"
          ],
          [
           "Dagger-Hashimoto"
          ],
          [
           "X11"
          ],
          [
           "Blake2S"
          ],
          [
           "X11"
          ],
          [
           "Scrypt"
          ],
          [
           "PoS"
          ],
          [
           "X11"
          ],
          [
           "NIST5"
          ],
          [
           "PoS"
          ],
          [
           "X11"
          ],
          [
           "Scrypt"
          ],
          [
           "Scrypt"
          ],
          [
           "Scrypt"
          ],
          [
           "SHA-256"
          ],
          [
           "X11"
          ],
          [
           "Scrypt"
          ],
          [
           "Scrypt"
          ],
          [
           "SHA-256"
          ],
          [
           "PoS"
          ],
          [
           "Scrypt"
          ],
          [
           "X15"
          ],
          [
           "SHA-256"
          ],
          [
           "Scrypt"
          ],
          [
           "POS 3.0"
          ],
          [
           "CryptoNight-V7"
          ],
          [
           "536"
          ],
          [
           "Argon2d"
          ],
          [
           "Blake2b"
          ],
          [
           "Cloverhash"
          ],
          [
           "CryptoNight"
          ],
          [
           "NIST5"
          ],
          [
           "X11"
          ],
          [
           "NIST5"
          ],
          [
           "Skein"
          ],
          [
           "Scrypt"
          ],
          [
           "X13"
          ],
          [
           "Scrypt"
          ],
          [
           "X11"
          ],
          [
           "X11"
          ],
          [
           "Scrypt"
          ],
          [
           "CryptoNight"
          ],
          [
           "X13"
          ],
          [
           "Time Travel"
          ],
          [
           "Scrypt"
          ],
          [
           "Keccak"
          ],
          [
           "SkunkHash v2 Raptor"
          ],
          [
           "X11"
          ],
          [
           "Skein"
          ],
          [
           "SHA-256"
          ],
          [
           "X11"
          ],
          [
           "Scrypt"
          ],
          [
           "VeChainThor Authority"
          ],
          [
           "Scrypt"
          ],
          [
           "PoS"
          ],
          [
           "Scrypt"
          ],
          [
           "Scrypt"
          ],
          [
           "Scrypt"
          ],
          [
           "Scrypt"
          ],
          [
           "Scrypt"
          ],
          [
           "Scrypt"
          ],
          [
           "Scrypt"
          ],
          [
           "CryptoNight"
          ],
          [
           "SHA-512"
          ],
          [
           "Ouroboros"
          ],
          [
           "X11"
          ],
          [
           "Equihash"
          ],
          [
           "NeoScrypt"
          ],
          [
           "X11"
          ],
          [
           "Scrypt"
          ],
          [
           "NeoScrypt"
          ],
          [
           "Lyra2REv2"
          ],
          [
           "Equihash"
          ],
          [
           "Scrypt"
          ],
          [
           "SHA-256"
          ],
          [
           "NIST5"
          ],
          [
           "PHI1612"
          ],
          [
           "Dagger"
          ],
          [
           "Scrypt"
          ],
          [
           "Quark"
          ],
          [
           "Scrypt"
          ],
          [
           "POS 2.0"
          ],
          [
           "Scrypt"
          ],
          [
           "SHA-256"
          ],
          [
           "X11"
          ],
          [
           "NeoScrypt"
          ],
          [
           "Ethash"
          ],
          [
           "NeoScrypt"
          ],
          [
           "X11"
          ],
          [
           "DPoS"
          ],
          [
           "NIST5"
          ],
          [
           "X13"
          ],
          [
           "Multiple"
          ],
          [
           "Scrypt"
          ],
          [
           "CryptoNight"
          ],
          [
           "CryptoNight"
          ],
          [
           "Ethash"
          ],
          [
           "NIST5"
          ],
          [
           "Quark"
          ],
          [
           "X11"
          ],
          [
           "CryptoNight-V7"
          ],
          [
           "Scrypt"
          ],
          [
           "Scrypt"
          ],
          [
           "Scrypt"
          ],
          [
           "X11"
          ],
          [
           "BLAKE256"
          ],
          [
           "X11"
          ],
          [
           "NeoScrypt"
          ],
          [
           "Quark"
          ],
          [
           "NeoScrypt"
          ],
          [
           "Scrypt"
          ],
          [
           "Scrypt"
          ],
          [
           "Scrypt"
          ],
          [
           "X11"
          ],
          [
           "X11"
          ],
          [
           "SHA-256"
          ],
          [
           "C11"
          ],
          [
           "POS 3.0"
          ],
          [
           "Ethash"
          ],
          [
           "Scrypt"
          ],
          [
           "CryptoNight"
          ],
          [
           "SkunkHash"
          ],
          [
           "Scrypt"
          ],
          [
           "CryptoNight"
          ],
          [
           "Scrypt"
          ],
          [
           "Dagger"
          ],
          [
           "Lyra2REv2"
          ],
          [
           "X13"
          ],
          [
           "Proof-of-BibleHash"
          ],
          [
           "SHA-256 + Hive"
          ],
          [
           "Scrypt"
          ],
          [
           "Scrypt"
          ],
          [
           "X11"
          ],
          [
           "C11"
          ],
          [
           "Proof-of-Authority"
          ],
          [
           "X11"
          ],
          [
           "XEVAN"
          ],
          [
           "Scrypt"
          ],
          [
           "VBFT"
          ],
          [
           "Ethash"
          ],
          [
           "CryptoNight"
          ],
          [
           "Scrypt"
          ],
          [
           "IMesh"
          ],
          [
           "NIST5"
          ],
          [
           "Scrypt"
          ],
          [
           "Scrypt"
          ],
          [
           "Equihash"
          ],
          [
           "Scrypt"
          ],
          [
           "Lyra2Z"
          ],
          [
           "Green Protocol"
          ],
          [
           "PoS"
          ],
          [
           "Scrypt"
          ],
          [
           "Semux BFT consensus"
          ],
          [
           "X11"
          ],
          [
           "Quark"
          ],
          [
           "PoS"
          ],
          [
           "CryptoNight"
          ],
          [
           "X16R"
          ],
          [
           "Scrypt"
          ],
          [
           "NIST5"
          ],
          [
           "Lyra2RE"
          ],
          [
           "XEVAN"
          ],
          [
           "Tribus"
          ],
          [
           "Scrypt"
          ],
          [
           "Lyra2Z"
          ],
          [
           "CryptoNight"
          ],
          [
           "CryptoNight Heavy"
          ],
          [
           "CryptoNight"
          ],
          [
           "Scrypt"
          ],
          [
           "Scrypt"
          ],
          [
           "Jump Consistent Hash"
          ],
          [
           "SHA-256D"
          ],
          [
           "CryptoNight"
          ],
          [
           "Scrypt"
          ],
          [
           "X15"
          ],
          [
           "Scrypt"
          ],
          [
           "Quark"
          ],
          [
           "SHA-256"
          ],
          [
           "DPoS"
          ],
          [
           "X16R"
          ],
          [
           "HMQ1725"
          ],
          [
           "X11"
          ],
          [
           "X16R"
          ],
          [
           "Quark"
          ],
          [
           "Quark"
          ],
          [
           "Scrypt"
          ],
          [
           "Lyra2REv2"
          ],
          [
           "Quark"
          ],
          [
           "Scrypt"
          ],
          [
           "Scrypt"
          ],
          [
           "CryptoNight-V7"
          ],
          [
           "Cryptonight-GPU"
          ],
          [
           "XEVAN"
          ],
          [
           "CryptoNight Heavy"
          ],
          [
           "X11"
          ],
          [
           "X11"
          ],
          [
           "Scrypt"
          ],
          [
           "PoS"
          ],
          [
           "SHA-256"
          ],
          [
           "Keccak"
          ],
          [
           "X11"
          ],
          [
           "X11"
          ],
          [
           "Scrypt"
          ],
          [
           "SHA-512"
          ],
          [
           "X16R"
          ],
          [
           "ECC 256K1"
          ],
          [
           "Equihash"
          ],
          [
           "XEVAN"
          ],
          [
           "Lyra2Z"
          ],
          [
           "SHA-256"
          ],
          [
           "XEVAN"
          ],
          [
           "X11"
          ],
          [
           "CryptoNight"
          ],
          [
           "Quark"
          ],
          [
           "Blake"
          ],
          [
           "Blake"
          ],
          [
           "Equihash"
          ],
          [
           "Exosis"
          ],
          [
           "Scrypt"
          ],
          [
           "Scrypt"
          ],
          [
           "Equihash"
          ],
          [
           "Quark"
          ],
          [
           "Equihash"
          ],
          [
           "Quark"
          ],
          [
           "Scrypt"
          ],
          [
           "QuBit"
          ],
          [
           "X11"
          ],
          [
           "Scrypt"
          ],
          [
           "XEVAN"
          ],
          [
           "SHA-256D"
          ],
          [
           "X11"
          ],
          [
           "SHA-256"
          ],
          [
           "X13"
          ],
          [
           "SHA-256"
          ],
          [
           "X11"
          ],
          [
           "DPoS"
          ],
          [
           "Scrypt"
          ],
          [
           "Scrypt"
          ],
          [
           "X11"
          ],
          [
           "NeoScrypt"
          ],
          [
           "Scrypt"
          ],
          [
           "Blake"
          ],
          [
           "Scrypt"
          ],
          [
           "SHA-256"
          ],
          [
           "Scrypt"
          ],
          [
           "X11"
          ],
          [
           "Scrypt"
          ],
          [
           "Scrypt"
          ],
          [
           "SHA-256"
          ],
          [
           "X11"
          ],
          [
           "SHA-256"
          ],
          [
           "Scrypt"
          ],
          [
           "Scrypt"
          ],
          [
           "Scrypt"
          ],
          [
           "Groestl"
          ],
          [
           "X11"
          ],
          [
           "Scrypt"
          ],
          [
           "PoS"
          ],
          [
           "Scrypt"
          ],
          [
           "Scrypt"
          ],
          [
           "X11"
          ],
          [
           "SHA-256"
          ],
          [
           "DPoS"
          ],
          [
           "Scrypt"
          ],
          [
           "Scrypt"
          ],
          [
           "NeoScrypt"
          ],
          [
           "Multiple"
          ],
          [
           "X13"
          ],
          [
           "Equihash+Scrypt"
          ],
          [
           "DPoS"
          ],
          [
           "Ethash"
          ],
          [
           "DPoS"
          ],
          [
           "SHA-256"
          ],
          [
           "Leased POS"
          ],
          [
           "PoS"
          ],
          [
           "TRC10"
          ],
          [
           "PoS"
          ],
          [
           "SHA-256"
          ],
          [
           "Scrypt"
          ],
          [
           "CryptoNight"
          ],
          [
           "Equihash"
          ],
          [
           "Scrypt"
          ]
         ],
         "hovertemplate": "<b>%{hovertext}</b><br><br>principal component 3=%{x}<br>principal component 2=%{y}<br>principal component 1=%{z}<br>Algorithm=%{customdata[0]}<extra></extra>",
         "hovertext": [
          "42 Coin",
          "404Coin",
          "EliteCoin",
          "Bitcoin",
          "Ethereum",
          "Litecoin",
          "Dash",
          "Monero",
          "Ethereum Classic",
          "ZCash",
          "Bitshares",
          "DigiByte",
          "BitcoinDark",
          "PayCoin",
          "ProsperCoin",
          "KoboCoin",
          "Spreadcoin",
          "Argentum",
          "Aurora Coin",
          "BlueCoin",
          "MyriadCoin",
          "MoonCoin",
          "ZetaCoin",
          "SexCoin",
          "Quatloo",
          "EnergyCoin",
          "QuarkCoin",
          "Riecoin",
          "Digitalcoin ",
          "BitBar",
          "Catcoin",
          "CryptoBullion",
          "CannaCoin",
          "CryptCoin",
          "CasinoCoin",
          "Diamond",
          "Verge",
          "DevCoin",
          "EarthCoin",
          "E-Gulden",
          "Einsteinium",
          "Emerald",
          "Exclusive Coin",
          "FlutterCoin",
          "Franko",
          "FeatherCoin",
          "GrandCoin",
          "GlobalCoin",
          "GoldCoin",
          "HoboNickels",
          "HyperStake",
          "Infinite Coin",
          "IOCoin",
          "IXcoin",
          "KrugerCoin",
          "LuckyCoin",
          "Litebar ",
          "MaxCoin",
          "MegaCoin",
          "MediterraneanCoin",
          "MintCoin",
          "MinCoin",
          "MazaCoin",
          "Nautilus Coin",
          "NavCoin",
          "NobleCoin",
          "Namecoin",
          "NyanCoin",
          "OpalCoin",
          "Orbitcoin",
          "PotCoin",
          "PhoenixCoin",
          "Reddcoin",
          "RonPaulCoin",
          "StableCoin",
          "SmartCoin",
          "SuperCoin",
          "SyncCoin",
          "SysCoin",
          "TeslaCoin",
          "TigerCoin",
          "TittieCoin",
          "TorCoin",
          "TerraCoin",
          "UnbreakableCoin",
          "Unobtanium",
          "UroCoin",
          "UnitaryStatus Dollar",
          "UltraCoin",
          "ViaCoin",
          "VeriCoin",
          "Vertcoin",
          "WorldCoin",
          "X11 Coin",
          "Crypti",
          "JouleCoin",
          "StealthCoin",
          "ZCC Coin",
          "ByteCoin",
          "DigitalNote ",
          "BurstCoin",
          "StorjCoin",
          "MonaCoin",
          "Neutron",
          "FairCoin",
          "Gulden",
          "RubyCoin",
          "PesetaCoin",
          "Kore",
          "Wild Beast Coin",
          "Dnotes",
          "Flo",
          "8BIT Coin",
          "Sativa Coin",
          "ArtByte",
          "Folding Coin",
          "Ucoin",
          "Unitus",
          "CypherPunkCoin",
          "OmniCron",
          "Vtorrent",
          "GreenCoin",
          "Cryptonite",
          "MasterCoin",
          "SoonCoin",
          "1Credit",
          "IslaCoin",
          "Nexus",
          "MarsCoin ",
          "Crypto",
          "Anarchists Prime",
          "Droidz",
          "BowsCoin",
          "Squall Coin",
          "Song Coin",
          "BitZeny",
          "Diggits",
          "Expanse",
          "Paycon",
          "Siacoin",
          "Emercoin",
          "EverGreenCoin",
          "MindCoin",
          "I0coin",
          "Decred",
          "Revolution VR",
          "HOdlcoin",
          "EDRCoin",
          "Hitcoin",
          "Gamecredits",
          "DubaiCoin",
          "CarpeDiemCoin",
          "PWR Coin",
          "BillaryCoin",
          "GPU Coin",
          "Adzcoin",
          "SoilCoin",
          "YoCoin",
          "SibCoin",
          "EuropeCoin",
          "ZeitCoin",
          "SwingCoin",
          "SafeExchangeCoin",
          "Nebuchadnezzar",
          "Francs",
          "BolivarCoin",
          "Ratecoin",
          "Revenu",
          "Clockcoin",
          "VIP Tokens",
          "BitSend",
          "Omni",
          "Let it Ride",
          "PutinCoin",
          "iBankCoin",
          "Frankywillcoin",
          "MudraCoin",
          "PizzaCoin",
          "Lutetium Coin",
          "Komodo",
          "GoldBlocks",
          "CarterCoin",
          "Karbo",
          "BitTokens",
          "ZayedCoin",
          "MustangCoin",
          "ZoneCoin",
          "Circuits of Value",
          "RootCoin",
          "DopeCoin",
          "BitCurrency",
          "DollarCoin",
          "Swiscoin",
          "Shilling",
          "BuzzCoin",
          "Opair",
          "PesoBit",
          "Halloween Coin",
          "ZCoin",
          "CoffeeCoin",
          "RoyalCoin",
          "GanjaCoin V2",
          "TeamUP",
          "LanaCoin",
          "Elementrem",
          "ZClassic",
          "ARK",
          "InsaneCoin",
          "KiloCoin",
          "ArtexCoin",
          "EmberCoin",
          "XenixCoin",
          "FreeCoin",
          "PLNCoin",
          "AquariusCoin",
          "Kurrent",
          "Creatio",
          "Eternity",
          "Eurocoin",
          "BitcoinFast",
          "Stakenet",
          "BitConnect Coin",
          "MoneyCoin",
          "Enigma",
          "Cannabis Industry Coin",
          "Russiacoin",
          "PandaCoin",
          "GameUnits",
          "GAKHcoin",
          "Allsafe",
          "LiteCreed",
          "OsmiumCoin",
          "Bikercoins",
          "HexxCoin",
          "Klingon Empire Darsek",
          "Internet of People",
          "KushCoin",
          "Printerium",
          "PacCoin",
          "Impeach",
          "Citadel",
          "Zilbercoin",
          "FirstCoin",
          "BeaverCoin",
          "FindCoin",
          "VaultCoin",
          "Zero",
          "OpenChat",
          "Canada eCoin",
          "Zoin",
          "RenosCoin",
          "DubaiCoin",
          "VirtacoinPlus",
          "TajCoin",
          "Impact",
          "EB3coin",
          "Atmos",
          "HappyCoin",
          "Coinonat",
          "MacronCoin",
          "Condensate",
          "Independent Money System",
          "ArgusCoin",
          "LomoCoin",
          "ProCurrency",
          "GoldReserve",
          "BenjiRolls",
          "GrowthCoin",
          "ILCoin",
          "Phreak",
          "Degas Coin",
          "HTML5 Coin",
          "Ultimate Secure Cash",
          "EquiTrader",
          "QTUM",
          "Quantum Resistant Ledger",
          "Espers",
          "Dynamic",
          "Nano",
          "ChanCoin",
          "Dinastycoin",
          "Denarius",
          "DigitalPrice",
          "Virta Unique Coin",
          "Bitcoin Planet",
          "Unify",
          "BritCoin",
          "SocialCoin",
          "ArcticCoin",
          "DAS",
          "Linda",
          "LeviarCoin",
          "DeepOnion",
          "Bitcore",
          "gCn Coin",
          "SmartCash",
          "Signatum",
          "Onix",
          "Cream",
          "Bitcoin Cash",
          "Monoeci",
          "Draftcoin",
          "Vechain",
          "Sojourn Coin",
          "Stakecoin",
          "NewYorkCoin",
          "FrazCoin",
          "Kronecoin",
          "AdCoin",
          "Linx",
          "CoinonatX",
          "Ethereum Dark",
          "Sumokoin",
          "Obsidian",
          "Cardano",
          "Regalcoin",
          "BitcoinZ",
          "TrezarCoin",
          "Elements",
          "TerraNovaCoin",
          "VIVO Coin",
          "Rupee",
          "Bitcoin Gold",
          "WomenCoin",
          "Theresa May Coin",
          "NamoCoin",
          "LUXCoin",
          "Pirl",
          "Xios",
          "Bitcloud 2.0",
          "eBoost",
          "KekCoin",
          "BlackholeCoin",
          "Infinity Economics",
          "Pura",
          "Innova",
          "Ellaism",
          "GoByte",
          "Magnet",
          "Lamden Tau",
          "Electra",
          "Bitcoin Diamond",
          "SHIELD",
          "Cash & Back Coin",
          "UltraNote",
          "BitCoal",
          "DaxxCoin",
          "Bulwark",
          "Kalkulus",
          "AC3",
          "Lethean",
          "GermanCoin",
          "LiteCoin Ultra",
          "PopularCoin",
          "PhantomX",
          "Photon",
          "Sucre",
          "SparksPay",
          "Digiwage",
          "GunCoin",
          "IrishCoin",
          "Trollcoin",
          "Litecoin Plus",
          "Monkey Project",
          "Pioneer Coin",
          "UnitedBitcoin",
          "Interzone",
          "TokenPay",
          "1717 Masonic Commemorative Token",
          "My Big Coin",
          "TurtleCoin",
          "MUNcoin",
          "Unified Society USDEX",
          "Niobio Cash",
          "ShareChain",
          "Travelflex",
          "KREDS",
          "Tokyo Coin",
          "BiblePay",
          "LitecoinCash",
          "BitFlip",
          "LottoCoin",
          "Crypto Improvement Fund",
          "Stipend",
          "Poa Network",
          "Pushi",
          "Ellerium",
          "Velox",
          "Ontology",
          "Callisto Network",
          "BitTube",
          "Poseidon",
          "Aidos Kuneen",
          "Bitspace",
          "Briacoin",
          "Ignition",
          "Bitrolium",
          "MedicCoin",
          "Alpenschillling",
          "Bitcoin Green",
          "Deviant Coin",
          "Abjcoin",
          "Semux",
          "FuturoCoin",
          "Carebit",
          "Zealium",
          "Monero Classic",
          "Proton",
          "iDealCash",
          "Jumpcoin",
          "Infinex",
          "Bitcoin Incognito",
          "KEYCO",
          "HollyWoodCoin",
          "GINcoin",
          "PlatinCoin",
          "Loki",
          "Newton Coin",
          "Swisscoin",
          "Xt3ch",
          "MassGrid",
          "TheVig",
          "PluraCoin",
          "EmaratCoin",
          "Dekado",
          "Lynx",
          "Poseidon Quark",
          "BitcoinWSpectrum",
          "Muse",
          "Motion",
          "PlusOneCoin",
          "Axe",
          "Trivechain",
          "Dystem",
          "Giant",
          "Peony Coin",
          "Absolute Coin",
          "Vitae",
          "HexCoin",
          "TPCash",
          "Webchain",
          "Ryo",
          "Urals Coin",
          "Qwertycoin",
          "ARENON",
          "EUNO",
          "MMOCoin",
          "Ketan",
          "Project Pai",
          "XDNA",
          "PAXEX",
          "Azart",
          "ThunderStake",
          "Kcash",
          "Xchange",
          "Acute Angle Cloud",
          "CrypticCoin",
          "Bettex coin",
          "Actinium",
          "Bitcoin SV",
          "BitMoney",
          "Junson Ming Chan Coin",
          "FREDEnergy",
          "HerbCoin",
          "Universal Molecule",
          "Lithium",
          "PirateCash",
          "Exosis",
          "Block-Logic",
          "Oduwa",
          "Beam",
          "Galilel",
          "Bithereum",
          "Crypto Sports",
          "Credit",
          "SLICE",
          "Dash Platinum",
          "Nasdacoin",
          "Beetle Coin",
          "Titan Coin",
          "Award",
          "BLAST",
          "Bitcoin Rhodium",
          "GlobalToken",
          "Insane Coin",
          "ALAX",
          "LiteDoge",
          "SolarCoin",
          "TruckCoin",
          "UFO Coin",
          "OrangeCoin",
          "BlakeCoin",
          "BitstarCoin",
          "NeosCoin",
          "HyperCoin",
          "PinkCoin",
          "Crypto Escudo",
          "AudioCoin",
          "IncaKoin",
          "Piggy Coin",
          "Crown Coin",
          "Genstake",
          "SmileyCoin",
          "XiaoMiCoin",
          "Groestlcoin",
          "CapriCoin",
          " ClubCoin",
          "Radium",
          "Bata",
          "Pakcoin",
          "Creditbit ",
          "OKCash",
          "Lisk",
          "HiCoin",
          "WhiteCoin",
          "FriendshipCoin",
          "JoinCoin",
          "Triangles Coin",
          "Vollar",
          "EOS",
          "Reality Clash",
          "Oxycoin",
          "TigerCash",
          "Waves",
          "Particl",
          "BitTorrent",
          "Nxt",
          "ZEPHYR",
          "Gapcoin",
          "Beldex",
          "Horizen",
          "BitcoinPlus"
         ],
         "legendgroup": "",
         "marker": {
          "color": "#636efa",
          "symbol": "circle"
         },
         "mode": "markers",
         "name": "",
         "scene": "scene",
         "showlegend": false,
         "type": "scatter3d",
         "x": [
          -0.5845853628449689,
          -0.5849532991482838,
          -0.6278222274240204,
          0.19576689109887785,
          0.3360493971432658,
          -0.061937529362927776,
          -0.4713841458324864,
          0.5553454074771567,
          0.3360384179401753,
          0.236369213769222,
          -0.15573094677923488,
          0.29786651614732185,
          -0.3268997988562281,
          -0.030867434906919063,
          -0.0619160766002922,
          -0.5723091131766314,
          0.05128733248049404,
          -0.0619200486436535,
          -0.5845920177439891,
          -0.584793011181554,
          0.301867774635471,
          -0.07859813250867656,
          0.19571066367605255,
          -0.06196627791591667,
          -0.061920028584438576,
          -0.5846255781689174,
          0.11179153601823387,
          -0.019686251173653156,
          -0.06192630069545462,
          -0.5845853984689141,
          -0.06191655097973247,
          -0.584585745849506,
          -0.061915387240018924,
          0.05128943001955983,
          -0.12049196035357684,
          -0.542339763389271,
          0.2965814920258292,
          0.18872615400743423,
          -0.0665974447896727,
          -0.061921024866166935,
          -0.06199782968058392,
          -0.061921040841182634,
          -0.06837505040044801,
          -0.3636369467482586,
          -0.06191414076570366,
          0.23732904337007169,
          -0.06226392575570367,
          -0.06193778164742578,
          -0.06193003173359836,
          -0.5846197481310845,
          -0.17589330746998702,
          -0.09545538777401567,
          -0.47138696261323504,
          0.19576585774111635,
          -0.0619743028512486,
          -0.06192046373303965,
          -0.061913698681077524,
          -0.5740666071720559,
          -0.061927571626296564,
          0.2999297879136923,
          -0.2955084936855769,
          -0.061915610378751464,
          -0.3275309172119044,
          -0.28855590335788983,
          -0.604625420997966,
          -0.06333823123724545,
          0.19576793380308197,
          -0.06203730050099651,
          -0.6046087774903056,
          -0.2852614669638701,
          -0.5846763799391999,
          -0.5846137898820686,
          -0.594165312866788,
          -0.0619145524152607,
          -0.06193205488235761,
          -0.06192386748890703,
          -0.1753613593193582,
          -0.4713802390467512,
          0.19555098706736718,
          0.07583916779167905,
          0.19575739197942185,
          -0.24398617125181438,
          -0.47138114103053946,
          0.19576434202379922,
          0.1957694414406391,
          0.19577358540392817,
          0.05129145053946817,
          -0.58501400661459,
          -0.5846061240637469,
          -0.061921843904695524,
          -0.6357885286584497,
          0.21436125742203133,
          -0.06196389771742679,
          -0.4713827490365768,
          0.07583706217918083,
          0.19575889800245483,
          -0.6046146391890392,
          -0.5846771742733561,
          0.3948259191073716,
          0.4603002402820773,
          0.5006744956560271,
          -0.21897023706156987,
          -0.06194013175854308,
          -0.3269141608451787,
          -0.542355876272924,
          -0.06212190262435628,
          -0.2885587964604661,
          -0.06196544763222886,
          -0.6046050069026772,
          -0.061913452773742036,
          -0.2886287100905534,
          -0.06196999125357343,
          -0.5845858425009662,
          -0.6046065782409151,
          -0.06221572024956809,
          0.36126696169848216,
          -0.17534653670686406,
          0.3024850964840504,
          0.3514182972984358,
          -0.06191673925898454,
          -0.5845900241059857,
          -0.06385438050990128,
          0.36717126086410107,
          -0.06191350849175203,
          0.19576867684512067,
          -0.0659107207446392,
          -0.4713807332776572,
          -0.39323698268415747,
          0.05127988162231767,
          0.39470849187626733,
          0.19576650684723024,
          -0.5226764639071361,
          0.0512857485220046,
          -0.3681280402309674,
          -0.06193305601601436,
          -0.061948851518021576,
          -0.2885869366457067,
          0.33608042265419485,
          -0.6046135271188733,
          0.49795681129215,
          -0.32695594329530075,
          -0.5722911229195761,
          0.0512859645121178,
          0.1957658877637474,
          -0.22352671920232992,
          -0.06199102896422228,
          0.26291024630721976,
          -0.32690057688077867,
          -0.4761272950306069,
          -0.06193975048821478,
          -0.3269005540918788,
          0.18772965403517225,
          -0.4664358129500768,
          -0.5845901284087247,
          -0.28857274506281394,
          0.05127345378788937,
          0.3195922520219112,
          -0.06192080201305332,
          0.49406514127929085,
          -0.47140032443383206,
          -0.30493320076349445,
          -0.3269015901491493,
          -0.10647754898857487,
          -0.06838059909131983,
          -0.061916295396058814,
          0.05128629684094221,
          -0.47142746820203557,
          -0.32690848988403104,
          -0.32692667828770094,
          -0.4631764276379905,
          -0.4713942477824597,
          -0.06191350736993325,
          -0.012975776356124083,
          -0.5849379712183769,
          -0.5845887682633228,
          -0.5846223865562354,
          -0.30857869863841625,
          0.05129030853382366,
          -0.1755880345933231,
          -0.11258238560974845,
          -0.47138749719899564,
          -0.5846033792717491,
          0.4629887348375438,
          -0.32689952880110984,
          0.19577119848474903,
          -0.4713805838761828,
          -0.5845871190369012,
          0.30212744737714836,
          -0.5845859967601771,
          -0.06196015268231595,
          -0.28860533556373763,
          0.19577022372939976,
          -0.3009428115358809,
          -0.061918216253524436,
          -0.5061805024912847,
          -0.0684006029514256,
          -0.5845963177003015,
          -0.4715319073405969,
          0.3238245074162021,
          -0.06842353108845241,
          -0.3085693003140677,
          -0.8285985095930664,
          -0.0683920957537605,
          -0.4995935043814347,
          0.3360748846940915,
          0.23636979202108985,
          -0.00039136618563467704,
          -0.47138753631804264,
          -0.062411928177444086,
          0.05100084740888396,
          -0.6347681850782108,
          -0.4713816652638519,
          -0.06839170620936427,
          -0.5845926220590971,
          -0.5845879882256255,
          0.051261885210088606,
          -0.06838059909131983,
          -0.47138482905563134,
          -0.3269033483424742,
          -0.5845934121703736,
          -0.3678106548203418,
          -0.5845902004707648,
          -0.5846172007808732,
          -0.4713807220933645,
          0.462990493511153,
          -0.5845943574304898,
          -0.3010123907750819,
          -0.58458706260737,
          -0.5845865904580809,
          -0.11475363446248274,
          -0.17126500973989917,
          -0.06191368923020333,
          0.4629875815798684,
          0.3947147937698444,
          -0.5846149194739925,
          -0.32690015971250946,
          -0.47138249437132096,
          -0.5845900950207535,
          0.04677135235127067,
          -0.5845864165447163,
          0.555339405681534,
          -0.2885532577491584,
          -0.6282967997075108,
          -0.06191444315659508,
          -0.3085737523163212,
          0.05123846533053868,
          0.23636953835012736,
          -0.584955600097576,
          -0.06195025169257822,
          0.39470886840393,
          -0.2885631895470393,
          0.12832192832067305,
          -0.47138888504955057,
          -0.5914280684388274,
          -0.4714211707208058,
          -0.06210802545838448,
          -0.06841430422417377,
          -0.4713916165236009,
          0.059521432396082825,
          -0.06852175374877098,
          -0.47144172239179927,
          -0.5845880389975529,
          -0.584586980760896,
          -0.5846289763618956,
          -0.034154589332858656,
          -0.471387588010858,
          -0.061921448472456245,
          -0.2887332596685047,
          0.19523441365197736,
          -0.06837822002937136,
          -0.5845969048631768,
          -0.5894829155818725,
          -0.030875045541619763,
          -0.0619208758411462,
          -0.012998733850494082,
          0.5553239062430013,
          -0.3347661125955041,
          0.5649931505821352,
          0.5087145794535118,
          0.3362238839361947,
          0.4623135147583201,
          -0.46314704426319564,
          0.05127601709418133,
          -0.46317102928452486,
          -0.6668374960275351,
          -0.06192004241228542,
          -0.6046120782284128,
          -0.06191822666068473,
          0.051280727755010275,
          0.0512901667398256,
          -0.589713636792153,
          0.4629847514068182,
          -0.6046118079138035,
          0.5026712235803509,
          -0.12388761414095543,
          0.05438100086975839,
          -0.06810309471115066,
          0.0512040264577628,
          -0.666850739873464,
          0.19576686874185373,
          -0.47138475918413897,
          -0.28855676813264447,
          3.826999575935594,
          -0.062369664158170204,
          -0.06837717802150928,
          -0.10864601820564848,
          -0.06191731929671493,
          -0.06192263261024058,
          -0.061928292683324004,
          -0.06192864227854041,
          -0.5845938446713916,
          -0.5845869178259461,
          0.46298493972368515,
          -0.1546907322414682,
          0.034496148195833715,
          -0.4713837850319381,
          0.233757017464662,
          -0.28533731463488843,
          0.05033037637800937,
          -0.5845864192224127,
          0.2374092984522768,
          -0.012263889327419002,
          0.2363660049467825,
          -0.6015075481901648,
          -0.3269328478002271,
          -0.46338057161997565,
          -0.5393968516551363,
          0.31957752082510066,
          -0.5845869777727066,
          -0.410803721715382,
          -0.06195029959734199,
          -0.05533086935253247,
          -0.5845913524511708,
          -0.034195107269269547,
          0.05121937923665734,
          0.23740779438176082,
          0.3360682523058147,
          0.23740854535337372,
          -0.47139897824782284,
          -0.0004664452288313812,
          -0.47372922754466495,
          -0.6046729256718,
          0.30232027423248775,
          -0.5846307532064128,
          0.4529974127354651,
          0.46298971194044863,
          0.33547986484271325,
          -0.1671153299741939,
          -0.11475595556615406,
          0.05124170119371848,
          0.5551634060815893,
          -0.5883628848483189,
          -0.5845946317025709,
          -0.06342597977829081,
          -0.47139717347736226,
          0.2854062342246163,
          0.051289602764081094,
          0.2374083561027121,
          -0.11476368083836508,
          0.23729213780874175,
          -0.06193092322192289,
          -0.5848176065815774,
          -0.5845863550638397,
          -0.17534714139429045,
          0.05128807518426369,
          0.19576619571710094,
          -0.03164682385756908,
          -0.012969477821546971,
          0.10944735412416184,
          -0.47543182647016236,
          0.40217617249973564,
          0.24471354573719564,
          -0.584672187998656,
          0.4629333589559358,
          -0.06561565181947211,
          0.31955600135250345,
          0.21412345077744427,
          -0.308678393510686,
          9.443533910325634,
          14.581903813123404,
          -0.061919084368756164,
          -0.06744854197138152,
          0.05120107065467963,
          -0.5543185311535799,
          10.700758027736978,
          -0.47138203329014017,
          -0.4915589171934933,
          -0.2885636566873034,
          -0.006370888691941082,
          0.3357212444956557,
          0.46292211646035386,
          -0.06191552168377039,
          0.38717281937676346,
          -0.4631519248082352,
          -0.58458576952339,
          -0.5845859663926628,
          0.23634617934868785,
          -0.28865898742864277,
          0.32380594090035714,
          0.012902564954820658,
          -0.06838416694519596,
          -0.5845898951545928,
          0.14308663106190625,
          0.05127710775073917,
          -0.4108393506775341,
          -0.06838028960756044,
          0.4629856920217045,
          -0.08205239805451131,
          -0.585266772929486,
          0.05951903943955836,
          0.3947130336426633,
          -0.38830834325982844,
          0.5757008861760899,
          -0.2885636915096507,
          0.32382517117411574,
          0.4629656279552578,
          0.4659542861363033,
          0.44150238239965783,
          -0.5883617829646134,
          -0.28855431811080456,
          0.39540116106598217,
          -0.4989289376422527,
          0.4627652465898389,
          -0.5845960710272935,
          -0.27626391574370057,
          -0.7636311504816995,
          -0.11477867586835819,
          -0.0308862201569216,
          -0.047738934786590255,
          0.1445840154675469,
          0.34318517296742806,
          0.05128930096175225,
          -0.37810010626389134,
          -0.11475277252518738,
          -0.4107871537729011,
          -0.28928369177997515,
          -0.3082970916037467,
          -0.11477547620857546,
          -0.06191470256191397,
          -0.5846305788614358,
          0.5552698994376427,
          0.4911192264393988,
          0.03110196713793879,
          0.4254191404954608,
          -0.17535347549361982,
          -0.47139246673353963,
          -0.288596425800041,
          -0.06838536686168632,
          0.19499616365872238,
          -0.4673589288489359,
          -0.17535060578008257,
          0.051289119693889954,
          -0.5857138446809028,
          -0.24002685087972186,
          0.144580097672847,
          18.884910474810315,
          0.2346583379237453,
          -0.1955251138044325,
          0.3238198049609196,
          0.195766869746724,
          -0.16893768175456164,
          -0.18096877027784553,
          0.462030518984679,
          -0.41079888142347554,
          0.3854503376292892,
          0.38544914617056447,
          0.009726939107118112,
          0.554856473162369,
          -0.06193002374601057,
          -0.5845911043952805,
          0.23634945799117976,
          -0.41079179143556005,
          0.23636297795526076,
          -0.1147507588016028,
          -0.5979088784978399,
          0.3514118083958111,
          -0.17534587854417588,
          -0.5845957269820563,
          -0.49164290866591026,
          -0.4994239008051362,
          -0.4714035268111927,
          0.19575379216021155,
          -0.0819322145758243,
          0.19573871182646796,
          -0.4713893118006583,
          -0.0007208131380186812,
          -0.5911121328237511,
          -0.06619389571692473,
          -0.4714595087141478,
          0.23598817459962895,
          -0.5845952087522962,
          0.385143637199192,
          -0.5845944444111493,
          -0.030865319645511455,
          -0.5845885101816164,
          -0.471544558436411,
          -0.06221169209168005,
          -0.5853620800556921,
          -0.33276914854305745,
          -0.4715852002459915,
          0.19576432518345016,
          -0.584605621809258,
          -0.0737534530259286,
          -0.5847348683053344,
          -0.019694924696301064,
          -0.4714550795180585,
          -0.5846261771470851,
          -0.06837483413113274,
          -0.061915147498848536,
          -0.06194395904633726,
          0.0501316036590656,
          -0.32692738721113274,
          -0.0003967427692615655,
          -0.292252749467545,
          -0.5846807500459691,
          -0.2852632311425559,
          0.3025051638565221,
          -0.6046038758038905,
          0.47924079996210817,
          -0.0006840766848222261,
          0.3360755206117408,
          -0.0007173559541597225,
          -0.031233209127287363,
          14.490295402469446,
          -0.06837660311041115,
          -0.7740687365852191,
          -0.01331440323161714,
          0.01577818099493411,
          -0.5846011046378573,
          0.46261056161451425,
          0.23636924204243628,
          -0.2885499983046408
         ],
         "y": [
          1.0352161641970685,
          1.0353694019290793,
          1.6728075568704315,
          -1.3158076536893462,
          -2.047494712270278,
          -1.135852805325629,
          1.2447173529806659,
          -2.124823543914511,
          -2.047591257021681,
          -2.1290384242709157,
          1.49396845242162,
          -1.8524300863921486,
          0.85523909554187,
          0.6320278481260212,
          -1.1358450812387535,
          1.9476469892487238,
          -0.926334475976777,
          -1.135862833574023,
          1.035215213452223,
          1.0354590362330802,
          -1.84721322171607,
          -1.3163430808551735,
          -1.315819394089953,
          -1.1359056474380893,
          -1.1358816089854067,
          1.0352632013245004,
          -0.4213523239603424,
          -1.2818490860924607,
          -1.1358472732454843,
          1.0352159454420864,
          -1.1358445263896662,
          1.0352160913055906,
          -1.1358417933605336,
          -0.9263358875493541,
          0.5038360858047359,
          0.8892242439900117,
          -1.848611736957701,
          -1.318500285093355,
          -1.1373906484442753,
          -1.1358392935916228,
          -1.1358946797717526,
          -1.135845004669089,
          1.59448159896257,
          0.36009856696268133,
          -1.1358422594088498,
          -1.6070101074897927,
          -1.1361672650781527,
          -1.1358452178209528,
          -1.1358554521205215,
          1.0351938758308825,
          1.0221460019873365,
          -1.1437979174287591,
          1.2447206475758608,
          -1.3158064450416544,
          -1.135904293723505,
          -1.1358394290230613,
          -1.1358376270886286,
          2.072555324290857,
          -1.1358425749326284,
          -2.1595061686949015,
          0.8201353334643268,
          -1.1358398967837602,
          0.8547285999048688,
          0.811994937562674,
          1.8093174736838364,
          -1.1419840581757676,
          -1.3158088732689133,
          -1.1358678944039204,
          1.80929800691471,
          0.5641211150015981,
          1.0351038479259613,
          1.035198366400451,
          1.0464211745522007,
          -1.135846863973423,
          -1.1359456757726623,
          -1.1358516995728916,
          1.0215238187284494,
          1.2447242424852012,
          -1.3160067350055629,
          0.10089907062901697,
          -1.315810092529589,
          1.6697730017515118,
          1.2447200891197883,
          -1.3158156108482963,
          -1.3158413690108093,
          -1.3158046751433752,
          -0.926328874838131,
          1.0348840994527042,
          1.035188358443681,
          -1.135839377393416,
          0.13077444210245093,
          -1.2244457751079718,
          -1.1359164638947197,
          1.2447243138878235,
          0.10095362216810527,
          -1.3158108060124603,
          1.8093048629415927,
          1.0348026622622553,
          -2.292756213864609,
          -2.2784591290571345,
          1.021442533695216,
          1.3810867133956686,
          -1.1358607626257107,
          0.8552319329507233,
          0.8892453716118272,
          -1.1364684929978202,
          0.8120067493858072,
          -1.1358630650777057,
          1.8092873460672,
          -1.1358385804037763,
          0.8118280788196831,
          -1.1358544243280368,
          1.0352167252396591,
          1.8092902257287107,
          -1.1360045574672464,
          -2.062898442240996,
          1.0214960639857622,
          -1.8468934857606267,
          -1.4524353526554,
          -1.1358351236223903,
          1.0352111984264625,
          -1.138775916350643,
          -2.2428170727501864,
          -1.135837469020267,
          -1.3158097423542117,
          -1.1790835300992646,
          1.244724821074075,
          2.308418449266691,
          -0.9263325327564327,
          -2.1874741312624586,
          -1.315824268530587,
          1.945115540568427,
          -0.9263331442166813,
          0.6355457341752427,
          -1.135923794328861,
          -1.135926029900215,
          0.8119875742814003,
          -2.0475398070126216,
          1.8092775178551104,
          -2.143062936856921,
          0.8547953358793108,
          1.9477945596002109,
          -0.9263307924080691,
          -1.3158064801570661,
          1.0372455377563603,
          -1.1358558623354271,
          -2.2615753425786487,
          0.8552400055438121,
          1.2364469859780196,
          -1.1358502074277532,
          0.8552459690952882,
          -1.3176609688527865,
          1.5592839480373921,
          1.0351998608975286,
          0.8119079205593114,
          -0.926351579821252,
          -2.2086774701660317,
          -1.1359163076958365,
          -2.237278652632848,
          1.2445477147108315,
          0.7795909056628805,
          0.855231814719565,
          0.5071612923345133,
          1.5944776711359077,
          -1.1358443044408697,
          -0.9263358690976707,
          1.244740417147544,
          0.8551447057002398,
          0.8550085281634163,
          1.555424788765658,
          1.2446682247026621,
          -1.1358374687540926,
          1.542970846313763,
          1.0345868110715646,
          1.0351970546248013,
          1.035207379565499,
          1.5859803062922349,
          -0.9263405612996225,
          1.0214467221676489,
          -1.7805859610742705,
          1.244706687994543,
          1.0351903569236403,
          -2.2764000107165034,
          0.8552393005644104,
          -1.3158068244664518,
          1.2447230836669612,
          1.0352072796789624,
          -1.8471002331190507,
          1.0352169056660754,
          -1.135886767329327,
          0.8120611829822107,
          -1.315806154357727,
          0.33564105651579146,
          -1.1358472666205273,
          2.0613668392853244,
          1.594472940354517,
          1.0352289773616978,
          1.244120307775607,
          -2.2878343619711297,
          1.5945174680511285,
          1.586072188930885,
          1.7763897608608619,
          1.5943447486097027,
          2.060170447729897,
          -2.047538173447305,
          -2.129039100612454,
          1.8703633949637897,
          1.2447171514991278,
          -1.1404630538882712,
          -0.9262494200353457,
          1.8441306426003856,
          1.244723904004692,
          1.59447503574533,
          1.035204579820001,
          1.0351973576721794,
          -0.9264130566474131,
          1.5944776711359077,
          1.2446983583754314,
          0.8552442889074006,
          1.0352083896756297,
          0.6652052606652971,
          1.0352072376083572,
          1.0349144823037661,
          1.2447222035551448,
          -2.2764077974787207,
          1.0351516767705953,
          0.8096362509892886,
          1.0352113807770993,
          1.0352158729207879,
          1.5264953171067288,
          0.7185902890564393,
          -1.1358383487821722,
          -2.2764064751424073,
          -2.187452442310484,
          1.0349902908372626,
          0.8552400384981926,
          1.2447220085229738,
          1.0352112813706014,
          -0.9731307746760864,
          1.0352059718605664,
          -2.1249128882108184,
          0.8119716223234295,
          0.11133138290858588,
          -1.1358378033105354,
          1.586071132602435,
          -0.9267877891601493,
          -2.1290367203609875,
          1.0351283178481736,
          -1.1358462590891922,
          -2.1874512415793355,
          0.8119939553848673,
          -2.302349268618106,
          1.2446822668938278,
          2.1356276932099805,
          1.244714820353762,
          -1.1376931831343535,
          1.5944700627708182,
          1.244685461711639,
          -0.615637192845296,
          1.5944448328105083,
          1.2445357121138918,
          1.0352082452026512,
          1.0352031592021116,
          1.0347462884717105,
          0.5968125567956022,
          1.244712003085809,
          -1.1358463616230583,
          0.8111690320596756,
          -1.3164761314266873,
          1.5944696796354965,
          1.0351749709398035,
          1.9210364446393817,
          0.6319390395009736,
          -1.135866033157752,
          1.5429630591021708,
          -2.1248530885819856,
          2.0552051274236227,
          -2.0314706732481578,
          -2.1558228090935607,
          -2.2082482763991043,
          -2.2766468182086577,
          1.5554320920468092,
          -0.9263629121445488,
          1.5554028480573696,
          1.9581076277536567,
          -1.1358395451072136,
          1.809286240937056,
          -1.1358706943848558,
          -0.926347586381918,
          -0.9263372180392455,
          1.0151699801436007,
          -2.276418270620239,
          1.8092917075637402,
          -2.1532881413009193,
          -1.1675277837330074,
          -1.210434368341658,
          1.548541101077448,
          -0.9267995971218507,
          1.9581231181716812,
          -1.3158076275398596,
          1.24472457768221,
          0.8119953104789949,
          2.406377739081748,
          -1.1407729309552,
          1.5944520008440581,
          -1.081177335690454,
          -1.135843106854514,
          -1.1358702290352929,
          -1.1358719430358775,
          -1.1358715341383356,
          1.0352009509664633,
          1.035215795246077,
          -2.2764366640667193,
          1.4945796735965726,
          1.4463631592663724,
          1.2447143265395773,
          -2.1369108160249612,
          0.5640034375704838,
          -0.9261423697982227,
          1.035209204494898,
          -1.6069430221205883,
          0.7234058160664854,
          -2.12903467113144,
          1.0419866963654068,
          0.8552371214005219,
          1.5550853768671735,
          1.893428844972324,
          -2.2087260316921813,
          1.0352071144519257,
          1.7496358785011348,
          -1.1358462030582772,
          1.5327516320661239,
          1.0352154668225146,
          0.6312385219216984,
          -0.9264268885995928,
          -1.606950638887236,
          -2.047662614356484,
          -1.606944641532398,
          1.2446711531660462,
          1.8702558769627715,
          1.5521879301633894,
          1.8092636502698283,
          -1.8470444902209255,
          1.0351598678387808,
          -2.308984074116567,
          -2.2764024557854547,
          -2.0520374442695144,
          1.3322074279572085,
          1.5264954275050298,
          -0.926557174558626,
          -2.125131286782009,
          1.0135900982596815,
          1.035148872242917,
          -1.1366725498666197,
          1.2447180056735336,
          -1.1646072580143207,
          -0.9263370271942448,
          -1.6069387945940339,
          1.5264523744773637,
          -1.607052367134218,
          -1.135850114325843,
          1.0350190050477914,
          1.0352152411993452,
          1.021496250359675,
          -0.9263369073288832,
          -1.3158064059288144,
          -1.2982804016631182,
          1.5429679068935942,
          -0.09970224000654002,
          0.25630768798612324,
          -2.726154005553415,
          -2.3996075498206157,
          1.0351968717480509,
          -2.276505050667136,
          -1.136715878127222,
          -2.2086715323689265,
          -1.2246968506756668,
          1.5857843800534295,
          2.8073872552932424,
          2.6601828822510014,
          -1.1358514601205552,
          -1.1389511628507867,
          -0.926483607430164,
          0.8727746430338209,
          2.6716632194166805,
          1.2447133194223423,
          1.38371126835188,
          0.8119478440114521,
          1.5904785564237705,
          -2.050496663289371,
          -2.276837770382016,
          -1.1358457302865408,
          -2.1579692217428046,
          1.5554169649860854,
          1.0352150772203366,
          1.0352142657098469,
          -2.1290370059762447,
          0.8118634921449494,
          -2.2879577652448497,
          1.5378938667122886,
          1.594446423860776,
          1.0352058387260041,
          1.945975758520636,
          -0.9263641878107025,
          1.7496775512539322,
          1.5944460559048261,
          -2.2764008271984424,
          0.6146282808964985,
          1.0333452025540963,
          -0.6156201987424436,
          -2.1874588636592622,
          0.7745549746461299,
          -2.041857850066257,
          0.8119989317143902,
          -2.2878294606496277,
          -2.276680308068035,
          -2.2185810464079934,
          -2.3471069868323395,
          1.034320131404403,
          0.8119785923180491,
          -2.2234882729464807,
          2.0632508423271894,
          -2.2766542904561184,
          1.0351849342963795,
          1.7245512137027321,
          0.18122258366232127,
          1.5261938427676756,
          0.6320041057099095,
          1.6789463621015224,
          -1.333193294018796,
          -2.2505228208307986,
          -0.9263372992617483,
          0.8378428663364866,
          1.5264911836328892,
          1.7497179945211727,
          0.8040620289479471,
          0.9466081471537018,
          1.5264765884624283,
          -1.1358472640748474,
          1.0347481628054873,
          -2.12564678044121,
          -2.1485582364216453,
          -0.7874073444499817,
          -2.2671798487770465,
          1.0214859487466028,
          1.2447125005181776,
          0.8119153310964884,
          1.5943842790474874,
          -1.3159891117596938,
          0.9619427265165402,
          1.0214591523026775,
          -0.926339170795109,
          1.0271600972580446,
          1.5384507527179663,
          -1.3332293014358303,
          3.2554758460655857,
          -2.1309851364209327,
          1.160498597765845,
          -2.2878614693884076,
          -1.3158076287151879,
          0.9118409279645681,
          1.028082422644917,
          -2.279482813381244,
          1.7497062667167012,
          -2.2775325535079327,
          -2.2774895456133275,
          -0.1812418075500239,
          -2.0827875344556923,
          -1.135880336080328,
          1.035211941079254,
          -2.1291412678867445,
          1.7497161863548087,
          -2.1290362801608014,
          1.5264928026900775,
          1.0118373825011346,
          -1.4524798517797533,
          1.0214954504442624,
          1.0351845318902682,
          1.3835803169213154,
          2.061277418101805,
          1.2445327083624433,
          -1.3158147309212953,
          -0.36176190479097614,
          -1.3158512647880054,
          1.2447192281593413,
          1.8702929499129062,
          1.0246190173015075,
          -1.1819297334252097,
          1.2448169592979559,
          -1.607350317024457,
          1.035123502804094,
          -2.280765283763893,
          1.0351985249704627,
          0.632020946506234,
          1.0352198454427066,
          1.2446559923804783,
          -1.1360092689271872,
          1.030655318452766,
          0.8620165621216149,
          1.2444430845740242,
          -1.3158155911512954,
          1.0352320464273705,
          -1.1480331497681684,
          1.0351826755051075,
          -1.2818498799052496,
          1.2447034341740568,
          1.035180559910413,
          1.5944766580198126,
          -1.135837833745198,
          -1.1358963319396613,
          0.7314184146031137,
          0.8552281300866379,
          1.8703514950272209,
          0.8111138355726332,
          1.0351714658383688,
          0.564093801352416,
          -1.8469184156744987,
          1.8092922112418797,
          -2.1866189115401418,
          1.8707708692898066,
          -2.0475380225628115,
          1.8708097937681136,
          0.6319412927461905,
          2.944797040942869,
          1.5944789176454144,
          1.69349962783929,
          1.863180242433094,
          0.8232863353756781,
          1.035104354442663,
          -2.2766818370013966,
          -2.129038457340153,
          0.8119959378990268
         ],
         "z": [
          -0.3396444231069739,
          -0.3229849727741632,
          2.309015780329472,
          -0.14376579118654345,
          -0.1535804830239348,
          -0.1715902832739191,
          -0.3878848754181142,
          -0.14714075417078654,
          -0.1520220088983957,
          -0.1482522548663701,
          -0.23756362092255814,
          0.15964927543589727,
          -0.3106504847573286,
          -0.27041074453552244,
          -0.1727364778549384,
          -0.24200089321911875,
          -0.2211846034690543,
          -0.1723529340138657,
          -0.3393040309706012,
          -0.33188402810707307,
          -0.09376918140796572,
          2.5500792376287373,
          -0.14085089345077467,
          -0.16960828410580617,
          -0.17215685783043094,
          -0.33814146495393205,
          -0.2275854967504671,
          -0.20259287486762179,
          -0.1722058480391055,
          -0.3396403582784396,
          -0.17271874897733058,
          -0.33962464200823295,
          -0.1728052148078992,
          -0.22127392910090724,
          0.6595283849290492,
          -0.37041083773457195,
          0.18337167158657605,
          0.23406637985907233,
          0.07591413665143361,
          -0.1725515474118616,
          -0.16815687247570435,
          -0.1724908091485819,
          -0.3615301163386822,
          -0.2873751439010778,
          -0.17286220993905033,
          -0.17086723767874681,
          -0.15208418421858777,
          -0.17165739808815939,
          -0.1719347557928015,
          -0.33770326349141566,
          -0.3274751618535281,
          1.5759510059223052,
          -0.3877796044960992,
          -0.14372717173604,
          -0.16922405853027667,
          -0.17257798590055448,
          -0.17293278141325638,
          -0.4414193923851629,
          -0.172192061717173,
          -0.1575970756495707,
          -0.03940657881212477,
          -0.1728140430817389,
          -0.2739574236331962,
          -0.29915573285093167,
          -0.2755429069483043,
          -0.03769065142537299,
          -0.14380475993943803,
          -0.1664783103097477,
          -0.27616492106878904,
          -0.34242087196551435,
          -0.333946560053336,
          -0.33804622227554393,
          0.018384924123230093,
          -0.1727934408840738,
          -0.1708872939487981,
          -0.17228019568234165,
          -0.34735554210795694,
          -0.3881511598528393,
          -0.13095663509847458,
          -0.2533931009667472,
          -0.14326856526392415,
          -0.3018073066760872,
          -0.3880627818323655,
          -0.14355571008856668,
          -0.1435385288415535,
          -0.14412942419856928,
          -0.22144785446933493,
          -0.3148769991564201,
          -0.33832178043395206,
          -0.1725100028970262,
          -0.32784012260667067,
          -0.1864824594197012,
          -0.1696129272888811,
          -0.3880272894108761,
          -0.25386114685570543,
          -0.1433358497319322,
          -0.2759458531020459,
          -0.33074579040752705,
          3.8652541696115534,
          0.4644162558586084,
          0.01361353266320482,
          -0.354092716687696,
          -0.1713775533531801,
          -0.30986223762977066,
          -0.3698326016527615,
          -0.15597379615947943,
          -0.2991360718557137,
          -0.17009646402479425,
          -0.27624022978660356,
          -0.17293498433582077,
          -0.2937895128751149,
          -0.16996157099119685,
          -0.33962649725942595,
          -0.27619243928071796,
          -0.15618539250934182,
          -0.12321676455195231,
          -0.347800156621661,
          -0.12777498349822075,
          -0.17850508063387258,
          -0.17280809514235282,
          -0.33936087136687765,
          -0.045737643026140716,
          -0.11087903250729819,
          -0.1729438833616017,
          -0.14383252948475503,
          0.47943905633782596,
          -0.3881326945381842,
          -0.48282700424975417,
          -0.22083506819680712,
          -0.1539380151361741,
          -0.1435723191095239,
          -0.41953038216798477,
          -0.22111993915495165,
          -0.32049470822025744,
          -0.1710672620214744,
          -0.17025955700938944,
          -0.297537656475986,
          -0.15464755878526903,
          -0.27571404501480773,
          0.38182023301473617,
          -0.30320510877455037,
          -0.24444304249363485,
          -0.2211553482294415,
          -0.14372829376516683,
          -0.06603246040221934,
          -0.1689019640580707,
          -0.14124782202423955,
          -0.31062140781836795,
          -0.06558142899934767,
          -0.17150727365111368,
          -0.31068513442781853,
          0.2747324660510675,
          -0.2346610828630794,
          -0.3392366908186336,
          -0.297406194038342,
          -0.22031600554262298,
          -0.14876103016666833,
          -0.1717542497971342,
          -0.15658749624628238,
          -0.38530104284856787,
          0.8540920016112978,
          -0.3104851262382604,
          -0.0711833745427248,
          -0.3612133986498075,
          -0.17273376823405892,
          -0.22111856181788003,
          -0.38597602671619385,
          -0.3092282360931402,
          -0.30689583118280633,
          -0.35598130261328026,
          -0.3868676534633202,
          -0.1729439418532674,
          -0.35921421329363645,
          -0.3155316992440408,
          -0.3392747660017392,
          -0.33771400590898787,
          -0.2346943632967893,
          -0.22126848992619969,
          -0.335291985568132,
          -0.25338517496137464,
          -0.387606538767222,
          -0.33847903478431207,
          0.3093205711719338,
          -0.3106660448521491,
          -0.1439883547854629,
          -0.3881218759320208,
          -0.33946397448470944,
          -0.10784778101353439,
          -0.339620732164154,
          -0.17011057034159655,
          -0.2973967762709064,
          -0.14394699225963084,
          -0.25792866566196976,
          -0.17260730660623094,
          0.05366621640851377,
          -0.36017056004461834,
          -0.3392350099579296,
          -0.37428182264453475,
          -0.16050915355318734,
          -0.3594995635048238,
          -0.23612541260405556,
          -0.4167283968585872,
          -0.3592474013114382,
          -0.26081770846533214,
          -0.15438974784314136,
          -0.14827386574517,
          3.7219478511384474,
          -0.3877144244753362,
          -0.09964609413030921,
          -0.20785351573264696,
          0.855623206820013,
          -0.3880767960046692,
          -0.3606342732471783,
          -0.3391624133276469,
          -0.3393166754069353,
          -0.21909635224211726,
          -0.3612133986498075,
          -0.38765158084963836,
          -0.3105287653646439,
          -0.33916317398582296,
          -0.35840265066551646,
          -0.3393105410468887,
          -0.3348971435523619,
          -0.3881057756023846,
          0.3093149858857531,
          -0.3385209672787322,
          0.34406090814624096,
          -0.33950982249128064,
          -0.3395804153297629,
          -0.35878440026283753,
          -0.3443431926509495,
          -0.17292567554217148,
          0.3094456823869433,
          -0.1544785548887605,
          -0.3358061176061306,
          -0.3106424659403399,
          -0.388015735658068,
          -0.33935822108499003,
          0.4942192504741892,
          -0.3394851256786945,
          -0.14590498421015252,
          -0.2990423627221853,
          -0.30943237853531946,
          -0.17289396885145175,
          -0.23589328509922478,
          -0.21400026522888602,
          -0.1482862548956625,
          -0.3203402438301163,
          -0.17102733631300823,
          -0.15419696626458426,
          -0.29878366750445856,
          -0.152132248559027,
          -0.38728130169732145,
          -0.39615108011634803,
          -0.38602002261824525,
          -0.14380809171936113,
          -0.35946009385932604,
          -0.38717921892343854,
          -0.1904843064855011,
          -0.35386045072724903,
          -0.38311966951266074,
          -0.3394284332521787,
          -0.3394275901188583,
          -0.33254708026288654,
          0.26242486485852,
          -0.38765781872342125,
          -0.17245632745402745,
          -0.28168112751823543,
          -0.1103119827938899,
          -0.36124763695656753,
          -0.3386389906482564,
          0.8899828605467027,
          -0.269100718973005,
          -0.1722782802672016,
          -0.3579926468604376,
          -0.14576311791371582,
          0.6035154561740339,
          -0.12979365656634712,
          -0.018366995916103652,
          -0.16073278485838274,
          0.34543551714721527,
          -0.357516831744929,
          -0.22032432526370357,
          -0.35601903253670303,
          -0.41098907174146093,
          -0.17259768584033064,
          -0.2758775417722148,
          -0.17236088534670124,
          -0.22071907113724276,
          -0.22129654173770386,
          0.12538266043533847,
          0.3097100079752284,
          -0.27594834206016644,
          -0.1458256518546079,
          3.236674190815999,
          -0.10994102452132444,
          -0.33911142514289017,
          -0.21216645039686666,
          -0.410494112424856,
          -0.14376495564236652,
          -0.38793025531938286,
          -0.2991167113969547,
          4.423681155803752,
          -0.09849192555976223,
          -0.3611138105176383,
          1.5735764506017542,
          -0.17269550222191962,
          -0.17214701630812843,
          -0.17184800549565035,
          -0.17183494015116604,
          -0.33906362166856147,
          -0.33956334636138336,
          0.30989372102591506,
          -0.2956253739611354,
          0.6441806641997999,
          -0.3878710226132637,
          0.06407304354245863,
          -0.3374198919077468,
          -0.17568855038523537,
          -0.3395189233913551,
          -0.17555601496306633,
          -0.3137520373964492,
          -0.1481323322570123,
          0.42946927591701195,
          -0.3089888978903521,
          -0.34228307774679845,
          -0.3775799702402391,
          -0.1475199169075939,
          -0.3394692539200938,
          -0.3974022453617352,
          -0.1710255459788999,
          -0.3532878161067141,
          -0.33933972191741024,
          -0.09690826267379189,
          -0.216840764981357,
          -0.17540139074324407,
          -0.15275428509409897,
          -0.17550162611785594,
          -0.386663525906567,
          3.7268040328602647,
          0.20193562655416303,
          -0.27261937450551693,
          -0.1180066440921083,
          -0.33679990862186754,
          1.1473970684783414,
          0.30929772258372606,
          -0.07762163088474498,
          -0.31710401090683127,
          -0.3586703172462171,
          -0.21658152157618102,
          -0.13487430635280184,
          0.07490130761726102,
          -0.33847791266040533,
          -0.08908509245318942,
          -0.38724490936189726,
          1.1060754048481003,
          -0.22127054375098693,
          -0.17555360105046078,
          -0.3578348638833786,
          -0.16859132321665452,
          -0.1719465208120384,
          -0.3260441833762592,
          -0.33958547182171417,
          -0.34777209038781615,
          -0.22119595821797752,
          -0.1437443626364565,
          -0.2020737292040743,
          -0.3594960798000681,
          -0.2813766220951468,
          -0.31928346513835637,
          8.049385080694126,
          -0.16248767009048032,
          -0.33513109285593246,
          0.31317248915143786,
          0.020085958999878216,
          -0.14702352500431276,
          -0.1720401014989118,
          -0.22768805807933407,
          -0.21910404487226345,
          -0.3080053060565621,
          -0.17252018888042336,
          0.13455034974720004,
          -0.21533641469092302,
          -0.3687963855715254,
          -0.3804396982220984,
          -0.3879474248405264,
          -0.28282472429815925,
          -0.29827647596353074,
          -0.31495033743504336,
          -0.10577850584424485,
          0.3172229959383399,
          -0.1727572166270348,
          -0.13614537148378944,
          -0.3571157368264493,
          -0.3396128224798677,
          -0.3395945301586349,
          -0.14712349272231826,
          -0.2926579646338072,
          -0.15829205787503023,
          -0.35381904691492694,
          -0.3607082758732444,
          -0.3393110167909173,
          3.9244924324477966,
          -0.22036508612934635,
          -0.3960706920612556,
          -0.3608969218309996,
          0.30948021568557577,
          -0.32560357987606897,
          -0.2861745572390292,
          -0.19054387222202335,
          -0.15432376501633788,
          -0.21532076884552134,
          -0.13598379987827425,
          -0.2988109782639614,
          -0.16059355452457574,
          0.31340989941025965,
          0.583523550085357,
          2.1182693808486937,
          -0.14274178702387225,
          -0.29906287529413206,
          -0.14543172134552868,
          -0.32614586548653685,
          0.32308565881745194,
          -0.33878496849215217,
          -0.2036103558214151,
          2.2202892894542665,
          -0.35437674402052916,
          -0.26922885780973255,
          1.014766211253853,
          -0.1992084515487701,
          -0.15171163968773754,
          -0.22125270369775504,
          -0.36511652111230136,
          -0.3587838089455366,
          -0.39908674985824155,
          -0.17975526479015802,
          -0.35385656669774346,
          -0.3575033858241463,
          -0.1727817865883997,
          -0.33248719040299046,
          -0.13475088559433654,
          -0.14196972967110763,
          -0.11489748333982498,
          3.106182920343972,
          -0.347349476415931,
          -0.38742081345489515,
          -0.29630823885104546,
          -0.359996410717388,
          -0.10359487254806961,
          -0.3368026513130321,
          -0.34721069326845594,
          -0.22122405967502273,
          -0.19905699595088017,
          -0.21297649320309722,
          -0.19863599054466355,
          -0.402084500353873,
          -0.0428747621063573,
          -0.2426415136313356,
          -0.1599911514477321,
          -0.1437649931971658,
          0.6106083469781342,
          -0.13779101600563112,
          0.3892535548843063,
          -0.3983813786953178,
          -0.13880461863462518,
          -0.13919688645064693,
          -0.2740944117541371,
          -0.14415182029762003,
          -0.17167396317822736,
          -0.3393150305698855,
          -0.14619191291570752,
          -0.3988375128880773,
          -0.1479651546082809,
          -0.3589007835362928,
          0.5672527536140004,
          -0.17771583383738113,
          -0.3478263942052865,
          -0.338797826418485,
          -0.27728008032515267,
          -0.28085753156151233,
          -0.38498453525768317,
          -0.1430411499113873,
          -0.10963225852614844,
          -0.14190894792604122,
          -0.38764806975731747,
          3.7390441607041445,
          0.095637570778356,
          0.5233731389216865,
          -0.38518863762156885,
          -0.10072274867931019,
          -0.33818297747007525,
          -0.08964540952871472,
          -0.33900838089878826,
          -0.27044332496034285,
          -0.33952679862213664,
          -0.37927640082505304,
          -0.1563359359606978,
          -0.2532088031111747,
          -0.09037806001241787,
          -0.3750238111001458,
          -0.14355508071793668,
          -0.3388052787857468,
          0.5429135897741268,
          -0.33187003501331297,
          -0.20215390614902723,
          -0.3842169529507414,
          -0.3372442979111487,
          -0.3614889924608453,
          -0.1728586791135878,
          -0.17081418443350826,
          -0.3585101432531057,
          -0.3091656383515907,
          3.7223397013345356,
          -0.1063606297901637,
          -0.3344393231956973,
          -0.3420465893472525,
          -0.128509648281542,
          -0.2763474546218688,
          -0.12090751060850162,
          3.7322038326080085,
          -0.15442290460516872,
          3.7334475713600197,
          -0.2513417032527441,
          -0.4285620838019315,
          -0.3614248810880034,
          34.0550714978825,
          -0.37048144049099563,
          2.473286682229781,
          -0.33768926260771104,
          0.3310548370991152,
          -0.148253311514924,
          -0.29945941599728676
         ]
        }
       ],
       "layout": {
        "legend": {
         "tracegroupgap": 0,
         "x": 0,
         "y": 1
        },
        "margin": {
         "t": 60
        },
        "scene": {
         "domain": {
          "x": [
           0,
           1
          ],
          "y": [
           0,
           1
          ]
         },
         "xaxis": {
          "title": {
           "text": "principal component 3"
          }
         },
         "yaxis": {
          "title": {
           "text": "principal component 2"
          }
         },
         "zaxis": {
          "title": {
           "text": "principal component 1"
          }
         }
        },
        "template": {
         "data": {
          "bar": [
           {
            "error_x": {
             "color": "#2a3f5f"
            },
            "error_y": {
             "color": "#2a3f5f"
            },
            "marker": {
             "line": {
              "color": "#E5ECF6",
              "width": 0.5
             },
             "pattern": {
              "fillmode": "overlay",
              "size": 10,
              "solidity": 0.2
             }
            },
            "type": "bar"
           }
          ],
          "barpolar": [
           {
            "marker": {
             "line": {
              "color": "#E5ECF6",
              "width": 0.5
             },
             "pattern": {
              "fillmode": "overlay",
              "size": 10,
              "solidity": 0.2
             }
            },
            "type": "barpolar"
           }
          ],
          "carpet": [
           {
            "aaxis": {
             "endlinecolor": "#2a3f5f",
             "gridcolor": "white",
             "linecolor": "white",
             "minorgridcolor": "white",
             "startlinecolor": "#2a3f5f"
            },
            "baxis": {
             "endlinecolor": "#2a3f5f",
             "gridcolor": "white",
             "linecolor": "white",
             "minorgridcolor": "white",
             "startlinecolor": "#2a3f5f"
            },
            "type": "carpet"
           }
          ],
          "choropleth": [
           {
            "colorbar": {
             "outlinewidth": 0,
             "ticks": ""
            },
            "type": "choropleth"
           }
          ],
          "contour": [
           {
            "colorbar": {
             "outlinewidth": 0,
             "ticks": ""
            },
            "colorscale": [
             [
              0,
              "#0d0887"
             ],
             [
              0.1111111111111111,
              "#46039f"
             ],
             [
              0.2222222222222222,
              "#7201a8"
             ],
             [
              0.3333333333333333,
              "#9c179e"
             ],
             [
              0.4444444444444444,
              "#bd3786"
             ],
             [
              0.5555555555555556,
              "#d8576b"
             ],
             [
              0.6666666666666666,
              "#ed7953"
             ],
             [
              0.7777777777777778,
              "#fb9f3a"
             ],
             [
              0.8888888888888888,
              "#fdca26"
             ],
             [
              1,
              "#f0f921"
             ]
            ],
            "type": "contour"
           }
          ],
          "contourcarpet": [
           {
            "colorbar": {
             "outlinewidth": 0,
             "ticks": ""
            },
            "type": "contourcarpet"
           }
          ],
          "heatmap": [
           {
            "colorbar": {
             "outlinewidth": 0,
             "ticks": ""
            },
            "colorscale": [
             [
              0,
              "#0d0887"
             ],
             [
              0.1111111111111111,
              "#46039f"
             ],
             [
              0.2222222222222222,
              "#7201a8"
             ],
             [
              0.3333333333333333,
              "#9c179e"
             ],
             [
              0.4444444444444444,
              "#bd3786"
             ],
             [
              0.5555555555555556,
              "#d8576b"
             ],
             [
              0.6666666666666666,
              "#ed7953"
             ],
             [
              0.7777777777777778,
              "#fb9f3a"
             ],
             [
              0.8888888888888888,
              "#fdca26"
             ],
             [
              1,
              "#f0f921"
             ]
            ],
            "type": "heatmap"
           }
          ],
          "heatmapgl": [
           {
            "colorbar": {
             "outlinewidth": 0,
             "ticks": ""
            },
            "colorscale": [
             [
              0,
              "#0d0887"
             ],
             [
              0.1111111111111111,
              "#46039f"
             ],
             [
              0.2222222222222222,
              "#7201a8"
             ],
             [
              0.3333333333333333,
              "#9c179e"
             ],
             [
              0.4444444444444444,
              "#bd3786"
             ],
             [
              0.5555555555555556,
              "#d8576b"
             ],
             [
              0.6666666666666666,
              "#ed7953"
             ],
             [
              0.7777777777777778,
              "#fb9f3a"
             ],
             [
              0.8888888888888888,
              "#fdca26"
             ],
             [
              1,
              "#f0f921"
             ]
            ],
            "type": "heatmapgl"
           }
          ],
          "histogram": [
           {
            "marker": {
             "pattern": {
              "fillmode": "overlay",
              "size": 10,
              "solidity": 0.2
             }
            },
            "type": "histogram"
           }
          ],
          "histogram2d": [
           {
            "colorbar": {
             "outlinewidth": 0,
             "ticks": ""
            },
            "colorscale": [
             [
              0,
              "#0d0887"
             ],
             [
              0.1111111111111111,
              "#46039f"
             ],
             [
              0.2222222222222222,
              "#7201a8"
             ],
             [
              0.3333333333333333,
              "#9c179e"
             ],
             [
              0.4444444444444444,
              "#bd3786"
             ],
             [
              0.5555555555555556,
              "#d8576b"
             ],
             [
              0.6666666666666666,
              "#ed7953"
             ],
             [
              0.7777777777777778,
              "#fb9f3a"
             ],
             [
              0.8888888888888888,
              "#fdca26"
             ],
             [
              1,
              "#f0f921"
             ]
            ],
            "type": "histogram2d"
           }
          ],
          "histogram2dcontour": [
           {
            "colorbar": {
             "outlinewidth": 0,
             "ticks": ""
            },
            "colorscale": [
             [
              0,
              "#0d0887"
             ],
             [
              0.1111111111111111,
              "#46039f"
             ],
             [
              0.2222222222222222,
              "#7201a8"
             ],
             [
              0.3333333333333333,
              "#9c179e"
             ],
             [
              0.4444444444444444,
              "#bd3786"
             ],
             [
              0.5555555555555556,
              "#d8576b"
             ],
             [
              0.6666666666666666,
              "#ed7953"
             ],
             [
              0.7777777777777778,
              "#fb9f3a"
             ],
             [
              0.8888888888888888,
              "#fdca26"
             ],
             [
              1,
              "#f0f921"
             ]
            ],
            "type": "histogram2dcontour"
           }
          ],
          "mesh3d": [
           {
            "colorbar": {
             "outlinewidth": 0,
             "ticks": ""
            },
            "type": "mesh3d"
           }
          ],
          "parcoords": [
           {
            "line": {
             "colorbar": {
              "outlinewidth": 0,
              "ticks": ""
             }
            },
            "type": "parcoords"
           }
          ],
          "pie": [
           {
            "automargin": true,
            "type": "pie"
           }
          ],
          "scatter": [
           {
            "marker": {
             "colorbar": {
              "outlinewidth": 0,
              "ticks": ""
             }
            },
            "type": "scatter"
           }
          ],
          "scatter3d": [
           {
            "line": {
             "colorbar": {
              "outlinewidth": 0,
              "ticks": ""
             }
            },
            "marker": {
             "colorbar": {
              "outlinewidth": 0,
              "ticks": ""
             }
            },
            "type": "scatter3d"
           }
          ],
          "scattercarpet": [
           {
            "marker": {
             "colorbar": {
              "outlinewidth": 0,
              "ticks": ""
             }
            },
            "type": "scattercarpet"
           }
          ],
          "scattergeo": [
           {
            "marker": {
             "colorbar": {
              "outlinewidth": 0,
              "ticks": ""
             }
            },
            "type": "scattergeo"
           }
          ],
          "scattergl": [
           {
            "marker": {
             "colorbar": {
              "outlinewidth": 0,
              "ticks": ""
             }
            },
            "type": "scattergl"
           }
          ],
          "scattermapbox": [
           {
            "marker": {
             "colorbar": {
              "outlinewidth": 0,
              "ticks": ""
             }
            },
            "type": "scattermapbox"
           }
          ],
          "scatterpolar": [
           {
            "marker": {
             "colorbar": {
              "outlinewidth": 0,
              "ticks": ""
             }
            },
            "type": "scatterpolar"
           }
          ],
          "scatterpolargl": [
           {
            "marker": {
             "colorbar": {
              "outlinewidth": 0,
              "ticks": ""
             }
            },
            "type": "scatterpolargl"
           }
          ],
          "scatterternary": [
           {
            "marker": {
             "colorbar": {
              "outlinewidth": 0,
              "ticks": ""
             }
            },
            "type": "scatterternary"
           }
          ],
          "surface": [
           {
            "colorbar": {
             "outlinewidth": 0,
             "ticks": ""
            },
            "colorscale": [
             [
              0,
              "#0d0887"
             ],
             [
              0.1111111111111111,
              "#46039f"
             ],
             [
              0.2222222222222222,
              "#7201a8"
             ],
             [
              0.3333333333333333,
              "#9c179e"
             ],
             [
              0.4444444444444444,
              "#bd3786"
             ],
             [
              0.5555555555555556,
              "#d8576b"
             ],
             [
              0.6666666666666666,
              "#ed7953"
             ],
             [
              0.7777777777777778,
              "#fb9f3a"
             ],
             [
              0.8888888888888888,
              "#fdca26"
             ],
             [
              1,
              "#f0f921"
             ]
            ],
            "type": "surface"
           }
          ],
          "table": [
           {
            "cells": {
             "fill": {
              "color": "#EBF0F8"
             },
             "line": {
              "color": "white"
             }
            },
            "header": {
             "fill": {
              "color": "#C8D4E3"
             },
             "line": {
              "color": "white"
             }
            },
            "type": "table"
           }
          ]
         },
         "layout": {
          "annotationdefaults": {
           "arrowcolor": "#2a3f5f",
           "arrowhead": 0,
           "arrowwidth": 1
          },
          "autotypenumbers": "strict",
          "coloraxis": {
           "colorbar": {
            "outlinewidth": 0,
            "ticks": ""
           }
          },
          "colorscale": {
           "diverging": [
            [
             0,
             "#8e0152"
            ],
            [
             0.1,
             "#c51b7d"
            ],
            [
             0.2,
             "#de77ae"
            ],
            [
             0.3,
             "#f1b6da"
            ],
            [
             0.4,
             "#fde0ef"
            ],
            [
             0.5,
             "#f7f7f7"
            ],
            [
             0.6,
             "#e6f5d0"
            ],
            [
             0.7,
             "#b8e186"
            ],
            [
             0.8,
             "#7fbc41"
            ],
            [
             0.9,
             "#4d9221"
            ],
            [
             1,
             "#276419"
            ]
           ],
           "sequential": [
            [
             0,
             "#0d0887"
            ],
            [
             0.1111111111111111,
             "#46039f"
            ],
            [
             0.2222222222222222,
             "#7201a8"
            ],
            [
             0.3333333333333333,
             "#9c179e"
            ],
            [
             0.4444444444444444,
             "#bd3786"
            ],
            [
             0.5555555555555556,
             "#d8576b"
            ],
            [
             0.6666666666666666,
             "#ed7953"
            ],
            [
             0.7777777777777778,
             "#fb9f3a"
            ],
            [
             0.8888888888888888,
             "#fdca26"
            ],
            [
             1,
             "#f0f921"
            ]
           ],
           "sequentialminus": [
            [
             0,
             "#0d0887"
            ],
            [
             0.1111111111111111,
             "#46039f"
            ],
            [
             0.2222222222222222,
             "#7201a8"
            ],
            [
             0.3333333333333333,
             "#9c179e"
            ],
            [
             0.4444444444444444,
             "#bd3786"
            ],
            [
             0.5555555555555556,
             "#d8576b"
            ],
            [
             0.6666666666666666,
             "#ed7953"
            ],
            [
             0.7777777777777778,
             "#fb9f3a"
            ],
            [
             0.8888888888888888,
             "#fdca26"
            ],
            [
             1,
             "#f0f921"
            ]
           ]
          },
          "colorway": [
           "#636efa",
           "#EF553B",
           "#00cc96",
           "#ab63fa",
           "#FFA15A",
           "#19d3f3",
           "#FF6692",
           "#B6E880",
           "#FF97FF",
           "#FECB52"
          ],
          "font": {
           "color": "#2a3f5f"
          },
          "geo": {
           "bgcolor": "white",
           "lakecolor": "white",
           "landcolor": "#E5ECF6",
           "showlakes": true,
           "showland": true,
           "subunitcolor": "white"
          },
          "hoverlabel": {
           "align": "left"
          },
          "hovermode": "closest",
          "mapbox": {
           "style": "light"
          },
          "paper_bgcolor": "white",
          "plot_bgcolor": "#E5ECF6",
          "polar": {
           "angularaxis": {
            "gridcolor": "white",
            "linecolor": "white",
            "ticks": ""
           },
           "bgcolor": "#E5ECF6",
           "radialaxis": {
            "gridcolor": "white",
            "linecolor": "white",
            "ticks": ""
           }
          },
          "scene": {
           "xaxis": {
            "backgroundcolor": "#E5ECF6",
            "gridcolor": "white",
            "gridwidth": 2,
            "linecolor": "white",
            "showbackground": true,
            "ticks": "",
            "zerolinecolor": "white"
           },
           "yaxis": {
            "backgroundcolor": "#E5ECF6",
            "gridcolor": "white",
            "gridwidth": 2,
            "linecolor": "white",
            "showbackground": true,
            "ticks": "",
            "zerolinecolor": "white"
           },
           "zaxis": {
            "backgroundcolor": "#E5ECF6",
            "gridcolor": "white",
            "gridwidth": 2,
            "linecolor": "white",
            "showbackground": true,
            "ticks": "",
            "zerolinecolor": "white"
           }
          },
          "shapedefaults": {
           "line": {
            "color": "#2a3f5f"
           }
          },
          "ternary": {
           "aaxis": {
            "gridcolor": "white",
            "linecolor": "white",
            "ticks": ""
           },
           "baxis": {
            "gridcolor": "white",
            "linecolor": "white",
            "ticks": ""
           },
           "bgcolor": "#E5ECF6",
           "caxis": {
            "gridcolor": "white",
            "linecolor": "white",
            "ticks": ""
           }
          },
          "title": {
           "x": 0.05
          },
          "xaxis": {
           "automargin": true,
           "gridcolor": "white",
           "linecolor": "white",
           "ticks": "",
           "title": {
            "standoff": 15
           },
           "zerolinecolor": "white",
           "zerolinewidth": 2
          },
          "yaxis": {
           "automargin": true,
           "gridcolor": "white",
           "linecolor": "white",
           "ticks": "",
           "title": {
            "standoff": 15
           },
           "zerolinecolor": "white",
           "zerolinewidth": 2
          }
         }
        },
        "width": 800
       }
      }
     },
     "metadata": {}
    }
   ],
   "metadata": {
    "scrolled": true
   }
  },
  {
   "cell_type": "code",
   "execution_count": 346,
   "source": [
    "# Create a table with tradable cryptocurrencies.\n",
    "clustered_df.hvplot.table(columns=[\"CoinName\", \"Algorithm\", \"ProofType\", \"TotalCoinSupply\", \"TotalCoinsMined\", \"class\"], width=800)\n",
    "print(clustered_df.hvplot.table)"
   ],
   "outputs": [
    {
     "output_type": "stream",
     "name": "stdout",
     "text": [
      "<bound method hvPlotTabular.table of <hvplot.plotting.core.hvPlotTabular object at 0x7f967edc8350>>\n"
     ]
    }
   ],
   "metadata": {}
  },
  {
   "cell_type": "code",
   "execution_count": 347,
   "source": [
    "# Print the total number of tradable cryptocurrencies.\n",
    "print(f\"The total number of tradable cryptocurrencies is {coins_name.count()}\")"
   ],
   "outputs": [
    {
     "output_type": "stream",
     "name": "stdout",
     "text": [
      "The total number of tradable cryptocurrencies is 532\n"
     ]
    }
   ],
   "metadata": {}
  },
  {
   "cell_type": "code",
   "execution_count": 348,
   "source": [
    "# Create a new DataFrame that has the scaled data with the clustered_df DataFrame index.\n",
    "clus_df = clustered_df[[\"TotalCoinSupply\", \"TotalCoinsMined\"]]"
   ],
   "outputs": [],
   "metadata": {}
  },
  {
   "cell_type": "code",
   "execution_count": 349,
   "source": [
    "# Scaling data to create the scatter plot with tradable cryptocurrencies.\n",
    "from sklearn.preprocessing import MinMaxScaler\n",
    "scat_scaled = MinMaxScaler().fit_transform(clus_df)"
   ],
   "outputs": [],
   "metadata": {}
  },
  {
   "cell_type": "code",
   "execution_count": 350,
   "source": [
    "# Create a new DataFrame that has the scaled data with the clustered_df DataFrame index.\n",
    "# Add the \"CoinName\" column from the clustered_df DataFrame to the new DataFrame.\n",
    "# Add the \"Class\" column from the clustered_df DataFrame to the new DataFrame. \n",
    "plot_df = pd.DataFrame(data=scat_scaled, index=clus_df.index)\n",
    "plot_df\n",
    "\n",
    "\n"
   ],
   "outputs": [
    {
     "output_type": "execute_result",
     "data": {
      "text/html": [
       "<div>\n",
       "<style scoped>\n",
       "    .dataframe tbody tr th:only-of-type {\n",
       "        vertical-align: middle;\n",
       "    }\n",
       "\n",
       "    .dataframe tbody tr th {\n",
       "        vertical-align: top;\n",
       "    }\n",
       "\n",
       "    .dataframe thead th {\n",
       "        text-align: right;\n",
       "    }\n",
       "</style>\n",
       "<table border=\"1\" class=\"dataframe\">\n",
       "  <thead>\n",
       "    <tr style=\"text-align: right;\">\n",
       "      <th></th>\n",
       "      <th>0</th>\n",
       "      <th>1</th>\n",
       "    </tr>\n",
       "  </thead>\n",
       "  <tbody>\n",
       "    <tr>\n",
       "      <th>42</th>\n",
       "      <td>4.200000e-11</td>\n",
       "      <td>0.000000e+00</td>\n",
       "    </tr>\n",
       "    <tr>\n",
       "      <th>404</th>\n",
       "      <td>5.320000e-04</td>\n",
       "      <td>1.065855e-03</td>\n",
       "    </tr>\n",
       "    <tr>\n",
       "      <th>1337</th>\n",
       "      <td>3.141593e-01</td>\n",
       "      <td>2.957551e-02</td>\n",
       "    </tr>\n",
       "    <tr>\n",
       "      <th>BTC</th>\n",
       "      <td>2.100000e-05</td>\n",
       "      <td>1.810842e-05</td>\n",
       "    </tr>\n",
       "    <tr>\n",
       "      <th>ETH</th>\n",
       "      <td>0.000000e+00</td>\n",
       "      <td>1.087731e-04</td>\n",
       "    </tr>\n",
       "    <tr>\n",
       "      <th>...</th>\n",
       "      <td>...</td>\n",
       "      <td>...</td>\n",
       "    </tr>\n",
       "    <tr>\n",
       "      <th>ZEPH</th>\n",
       "      <td>2.000000e-03</td>\n",
       "      <td>2.020225e-03</td>\n",
       "    </tr>\n",
       "    <tr>\n",
       "      <th>GAP</th>\n",
       "      <td>2.500000e-04</td>\n",
       "      <td>1.508199e-05</td>\n",
       "    </tr>\n",
       "    <tr>\n",
       "      <th>BDX</th>\n",
       "      <td>1.400223e-03</td>\n",
       "      <td>9.901351e-04</td>\n",
       "    </tr>\n",
       "    <tr>\n",
       "      <th>ZEN</th>\n",
       "      <td>2.100000e-05</td>\n",
       "      <td>7.370282e-06</td>\n",
       "    </tr>\n",
       "    <tr>\n",
       "      <th>XBC</th>\n",
       "      <td>1.000000e-06</td>\n",
       "      <td>1.295823e-07</td>\n",
       "    </tr>\n",
       "  </tbody>\n",
       "</table>\n",
       "<p>532 rows × 2 columns</p>\n",
       "</div>"
      ],
      "text/plain": [
       "                 0             1\n",
       "42    4.200000e-11  0.000000e+00\n",
       "404   5.320000e-04  1.065855e-03\n",
       "1337  3.141593e-01  2.957551e-02\n",
       "BTC   2.100000e-05  1.810842e-05\n",
       "ETH   0.000000e+00  1.087731e-04\n",
       "...            ...           ...\n",
       "ZEPH  2.000000e-03  2.020225e-03\n",
       "GAP   2.500000e-04  1.508199e-05\n",
       "BDX   1.400223e-03  9.901351e-04\n",
       "ZEN   2.100000e-05  7.370282e-06\n",
       "XBC   1.000000e-06  1.295823e-07\n",
       "\n",
       "[532 rows x 2 columns]"
      ]
     },
     "metadata": {},
     "execution_count": 350
    }
   ],
   "metadata": {}
  },
  {
   "cell_type": "code",
   "execution_count": 351,
   "source": [
    "plot_df.rename(columns={\"0\":\"TotalCoinSupply\", \"1\":\"TotalCoinsMined\"})\n"
   ],
   "outputs": [
    {
     "output_type": "execute_result",
     "data": {
      "text/html": [
       "<div>\n",
       "<style scoped>\n",
       "    .dataframe tbody tr th:only-of-type {\n",
       "        vertical-align: middle;\n",
       "    }\n",
       "\n",
       "    .dataframe tbody tr th {\n",
       "        vertical-align: top;\n",
       "    }\n",
       "\n",
       "    .dataframe thead th {\n",
       "        text-align: right;\n",
       "    }\n",
       "</style>\n",
       "<table border=\"1\" class=\"dataframe\">\n",
       "  <thead>\n",
       "    <tr style=\"text-align: right;\">\n",
       "      <th></th>\n",
       "      <th>0</th>\n",
       "      <th>1</th>\n",
       "    </tr>\n",
       "  </thead>\n",
       "  <tbody>\n",
       "    <tr>\n",
       "      <th>42</th>\n",
       "      <td>4.200000e-11</td>\n",
       "      <td>0.000000e+00</td>\n",
       "    </tr>\n",
       "    <tr>\n",
       "      <th>404</th>\n",
       "      <td>5.320000e-04</td>\n",
       "      <td>1.065855e-03</td>\n",
       "    </tr>\n",
       "    <tr>\n",
       "      <th>1337</th>\n",
       "      <td>3.141593e-01</td>\n",
       "      <td>2.957551e-02</td>\n",
       "    </tr>\n",
       "    <tr>\n",
       "      <th>BTC</th>\n",
       "      <td>2.100000e-05</td>\n",
       "      <td>1.810842e-05</td>\n",
       "    </tr>\n",
       "    <tr>\n",
       "      <th>ETH</th>\n",
       "      <td>0.000000e+00</td>\n",
       "      <td>1.087731e-04</td>\n",
       "    </tr>\n",
       "    <tr>\n",
       "      <th>...</th>\n",
       "      <td>...</td>\n",
       "      <td>...</td>\n",
       "    </tr>\n",
       "    <tr>\n",
       "      <th>ZEPH</th>\n",
       "      <td>2.000000e-03</td>\n",
       "      <td>2.020225e-03</td>\n",
       "    </tr>\n",
       "    <tr>\n",
       "      <th>GAP</th>\n",
       "      <td>2.500000e-04</td>\n",
       "      <td>1.508199e-05</td>\n",
       "    </tr>\n",
       "    <tr>\n",
       "      <th>BDX</th>\n",
       "      <td>1.400223e-03</td>\n",
       "      <td>9.901351e-04</td>\n",
       "    </tr>\n",
       "    <tr>\n",
       "      <th>ZEN</th>\n",
       "      <td>2.100000e-05</td>\n",
       "      <td>7.370282e-06</td>\n",
       "    </tr>\n",
       "    <tr>\n",
       "      <th>XBC</th>\n",
       "      <td>1.000000e-06</td>\n",
       "      <td>1.295823e-07</td>\n",
       "    </tr>\n",
       "  </tbody>\n",
       "</table>\n",
       "<p>532 rows × 2 columns</p>\n",
       "</div>"
      ],
      "text/plain": [
       "                 0             1\n",
       "42    4.200000e-11  0.000000e+00\n",
       "404   5.320000e-04  1.065855e-03\n",
       "1337  3.141593e-01  2.957551e-02\n",
       "BTC   2.100000e-05  1.810842e-05\n",
       "ETH   0.000000e+00  1.087731e-04\n",
       "...            ...           ...\n",
       "ZEPH  2.000000e-03  2.020225e-03\n",
       "GAP   2.500000e-04  1.508199e-05\n",
       "BDX   1.400223e-03  9.901351e-04\n",
       "ZEN   2.100000e-05  7.370282e-06\n",
       "XBC   1.000000e-06  1.295823e-07\n",
       "\n",
       "[532 rows x 2 columns]"
      ]
     },
     "metadata": {},
     "execution_count": 351
    }
   ],
   "metadata": {}
  },
  {
   "cell_type": "code",
   "execution_count": 352,
   "source": [
    "# Scale data for scatter plot\n",
    "clus_df[\"TotalCoinsMined\"] = clus_df[\"TotalCoinsMined\"].astype(float) / 1000000000000\n",
    "clus_df[\"TotalCoinSupply\"] = clus_df[\"TotalCoinSupply\"].astype(float) / 1000000000000"
   ],
   "outputs": [
    {
     "output_type": "stream",
     "name": "stderr",
     "text": [
      "/Users/annaah/opt/anaconda3/envs/mlenv/lib/python3.7/site-packages/ipykernel_launcher.py:2: SettingWithCopyWarning:\n",
      "\n",
      "\n",
      "A value is trying to be set on a copy of a slice from a DataFrame.\n",
      "Try using .loc[row_indexer,col_indexer] = value instead\n",
      "\n",
      "See the caveats in the documentation: https://pandas.pydata.org/pandas-docs/stable/user_guide/indexing.html#returning-a-view-versus-a-copy\n",
      "\n",
      "/Users/annaah/opt/anaconda3/envs/mlenv/lib/python3.7/site-packages/ipykernel_launcher.py:3: SettingWithCopyWarning:\n",
      "\n",
      "\n",
      "A value is trying to be set on a copy of a slice from a DataFrame.\n",
      "Try using .loc[row_indexer,col_indexer] = value instead\n",
      "\n",
      "See the caveats in the documentation: https://pandas.pydata.org/pandas-docs/stable/user_guide/indexing.html#returning-a-view-versus-a-copy\n",
      "\n"
     ]
    }
   ],
   "metadata": {}
  },
  {
   "cell_type": "code",
   "execution_count": 354,
   "source": [
    "# Create a hvplot.scatter plot using x=\"TotalCoinsMined\" and y=\"TotalCoinSupply\".\n",
    "clus_df.hvplot.scatter(y=\"TotalCoinSupply\", x=\"TotalCoinsMined\", hover_cols=[\"CoinName\"])"
   ],
   "outputs": [
    {
     "output_type": "display_data",
     "data": {},
     "metadata": {}
    },
    {
     "output_type": "execute_result",
     "data": {
      "text/html": [
       "<div id='9855'>\n",
       "\n",
       "\n",
       "\n",
       "\n",
       "\n",
       "  <div class=\"bk-root\" id=\"607bfe10-766e-4c3d-9f5d-1cfbea62ccb9\" data-root-id=\"9855\"></div>\n",
       "</div>\n",
       "<script type=\"application/javascript\">(function(root) {\n",
       "  function embed_document(root) {\n",
       "    var docs_json = {\"9762b1fe-4984-406a-896b-da0c038af56c\":{\"defs\":[{\"extends\":null,\"module\":null,\"name\":\"ReactiveHTML1\",\"overrides\":[],\"properties\":[]},{\"extends\":null,\"module\":null,\"name\":\"FlexBox1\",\"overrides\":[],\"properties\":[{\"default\":\"flex-start\",\"kind\":null,\"name\":\"align_content\"},{\"default\":\"flex-start\",\"kind\":null,\"name\":\"align_items\"},{\"default\":\"row\",\"kind\":null,\"name\":\"flex_direction\"},{\"default\":\"wrap\",\"kind\":null,\"name\":\"flex_wrap\"},{\"default\":\"flex-start\",\"kind\":null,\"name\":\"justify_content\"}]},{\"extends\":null,\"module\":null,\"name\":\"TemplateActions1\",\"overrides\":[],\"properties\":[{\"default\":0,\"kind\":null,\"name\":\"open_modal\"},{\"default\":0,\"kind\":null,\"name\":\"close_modal\"}]},{\"extends\":null,\"module\":null,\"name\":\"MaterialTemplateActions1\",\"overrides\":[],\"properties\":[{\"default\":0,\"kind\":null,\"name\":\"open_modal\"},{\"default\":0,\"kind\":null,\"name\":\"close_modal\"}]}],\"roots\":{\"references\":[{\"attributes\":{\"margin\":[5,5,5,5],\"name\":\"HSpacer15650\",\"sizing_mode\":\"stretch_width\"},\"id\":\"9925\",\"type\":\"Spacer\"},{\"attributes\":{\"fill_alpha\":{\"value\":0.1},\"fill_color\":{\"value\":\"#30a2da\"},\"line_alpha\":{\"value\":0.1},\"line_color\":{\"value\":\"#30a2da\"},\"size\":{\"value\":5.477225575051661},\"x\":{\"field\":\"TotalCoinsMined\"},\"y\":{\"field\":\"TotalCoinSupply\"}},\"id\":\"9894\",\"type\":\"Scatter\"},{\"attributes\":{\"bottom_units\":\"screen\",\"fill_alpha\":0.5,\"fill_color\":\"lightgrey\",\"left_units\":\"screen\",\"level\":\"overlay\",\"line_alpha\":1.0,\"line_color\":\"black\",\"line_dash\":[4,4],\"line_width\":2,\"right_units\":\"screen\",\"syncable\":false,\"top_units\":\"screen\"},\"id\":\"9882\",\"type\":\"BoxAnnotation\"},{\"attributes\":{\"fill_alpha\":{\"value\":0.2},\"fill_color\":{\"value\":\"#30a2da\"},\"line_alpha\":{\"value\":0.2},\"line_color\":{\"value\":\"#30a2da\"},\"size\":{\"value\":5.477225575051661},\"x\":{\"field\":\"TotalCoinsMined\"},\"y\":{\"field\":\"TotalCoinSupply\"}},\"id\":\"9895\",\"type\":\"Scatter\"},{\"attributes\":{\"callback\":null,\"renderers\":[{\"id\":\"9896\"}],\"tags\":[\"hv_created\"],\"tooltips\":[[\"TotalCoinsMined\",\"@{TotalCoinsMined}\"],[\"TotalCoinSupply\",\"@{TotalCoinSupply}\"]]},\"id\":\"9859\",\"type\":\"HoverTool\"},{\"attributes\":{},\"id\":\"9877\",\"type\":\"SaveTool\"},{\"attributes\":{\"axis_label\":\"TotalCoinsMined\",\"formatter\":{\"id\":\"9901\"},\"major_label_policy\":{\"id\":\"9899\"},\"ticker\":{\"id\":\"9870\"}},\"id\":\"9869\",\"type\":\"LinearAxis\"},{\"attributes\":{\"margin\":[5,5,5,5],\"name\":\"HSpacer15649\",\"sizing_mode\":\"stretch_width\"},\"id\":\"9856\",\"type\":\"Spacer\"},{\"attributes\":{},\"id\":\"9901\",\"type\":\"BasicTickFormatter\"},{\"attributes\":{},\"id\":\"9878\",\"type\":\"PanTool\"},{\"attributes\":{\"fill_color\":{\"value\":\"#30a2da\"},\"line_color\":{\"value\":\"#30a2da\"},\"size\":{\"value\":5.477225575051661},\"x\":{\"field\":\"TotalCoinsMined\"},\"y\":{\"field\":\"TotalCoinSupply\"}},\"id\":\"9893\",\"type\":\"Scatter\"},{\"attributes\":{\"source\":{\"id\":\"9890\"}},\"id\":\"9897\",\"type\":\"CDSView\"},{\"attributes\":{},\"id\":\"9879\",\"type\":\"WheelZoomTool\"},{\"attributes\":{\"active_multi\":null,\"tools\":[{\"id\":\"9859\"},{\"id\":\"9877\"},{\"id\":\"9878\"},{\"id\":\"9879\"},{\"id\":\"9880\"},{\"id\":\"9881\"}]},\"id\":\"9883\",\"type\":\"Toolbar\"},{\"attributes\":{},\"id\":\"9902\",\"type\":\"AllLabels\"},{\"attributes\":{\"overlay\":{\"id\":\"9882\"}},\"id\":\"9880\",\"type\":\"BoxZoomTool\"},{\"attributes\":{},\"id\":\"9891\",\"type\":\"Selection\"},{\"attributes\":{\"data_source\":{\"id\":\"9890\"},\"glyph\":{\"id\":\"9893\"},\"hover_glyph\":null,\"muted_glyph\":{\"id\":\"9895\"},\"nonselection_glyph\":{\"id\":\"9894\"},\"selection_glyph\":{\"id\":\"9898\"},\"view\":{\"id\":\"9897\"}},\"id\":\"9896\",\"type\":\"GlyphRenderer\"},{\"attributes\":{\"data\":{\"TotalCoinSupply\":{\"__ndarray__\":\"NkOMefkWxz3VCP1MvW5BP1XynHYvG9Q/ycfuAiUF9j4AAAAAAAAAAMnH7gIlBRY/oib6fJQR9z4AAAAAAAAAALx5qkNuhis/ycfuAiUF9j7NcLKR8X5tPxsv3SQGgZU/oib6fJQR9z4tQxzr4jbqPsnH7gIlBfY+x7q4jQbwNj/xaOOItfj0Po3ttaD3xhA/Te5tUUiV8T4AAAAAAAAAAPyp8dJNYmA/+n5qvHST2D+JvrP+ZEEmP/yp8dJNYjA/LUMc6+I2Gj8AAAAAAAAAADOID+z4LzA/ycfuAiUFFj+y9oEou0AJP43ttaD3xqA+ycfuAiUF9j6N7bWg98awPvBLP9l7jus+P6vMlNbf8j57FK5H4XqkP/aHfzv9XtI+pFNXPsvzkD8bL90kBoGVP9nO91PjpYs/ycfuAiUF9j6QlH3NrqUzP43ttaD3xgA/AAAAAAAAAAAAAAAAAAAAAFgCUGEukOc+ycfuAiUFNj9g5Uf1d0ZXP9L7xteeWRI/ucfTrFPwEj9pHVVNEHUfPwAAAAAAAAAAb4EExY8xtz+iJvp8lBH3PsnH7gIlBfY+EIbapwVlMT/xaOOItfj0PuUzj7I0prY+LUMc6+I2Gj/Jx+4CJQUGPy1DHOviNio/AAAAAAAAAADxaOOItfjkPmhNPRxu0WM/ydoyIkn38D4AAAAAAAAAALgehetRuI4/ycfuAiUF9j63fY/66xU2PwAAAAAAAAAAgX4ZawOgzz68eapDboY7P8CTFi6rsBk/AAAAAAAAAADJx+4CJQX2Pvyp8dJNYjA/SK+8mvLXCj8AAAAAAAAAAJXWJugLLhE+AYi7ehUZTT8tQxzr4jYaP3lgr+vWpQg/SFD8GHPXYj/xaOOItfjkPsnH7gIlBQY/8WjjiLX4FD+N7bWg98aQPgAAAAAAAAAALUMc6+I2Wj8tQxzr4jYaP3uFBfcDHvg+AAAAAAAAAADJx+4CJQUWPxCG2qcFZTE/oib6fJQR1z4AAAAAAAAAAA/W/znMlwc/AAAAAAAAAAD8qfHSTWJQPzgbkQyhnMc/exSuR+F6hD9QVfnLW69hP/yp8dJNYkA/8Es/2XuOGz9mTMEaZ9MRPwAAAAAAAAAAvHmqQ26GWz8AAAAAAAAAAFv1Zdv8ziU/VOQQcXMq6T5a1mVHlgvGPvyp8dJNYkA/8WjjiLX4JD8AAAAAAAAAAPFo44i1+OQ+/Knx0k1iUD/8qfHSTWJQP/Fo44i1+PQ+AAAAAAAAAAAAAAAAAAAAAN+Fxx3kR8w+8WjjiLX49D57FK5H4XqEP9rmxvSEJV4/5No+h0bJpD7Jx+4CJQX2PlpkO99Pjbc/AAAAAAAAAACEud3LfXIUP/qcu10vTQE/lEK5IQg/ET8MuN+Iiy8MP5X6iTUiOdU+ycfuAiUF9j4AAAAAAAAAAPBLP9l7jis//Knx0k1iMD8tQxzr4jYaP69gXcFGuvE+LUMc6+I2Cj8AAAAAAAAAAPyp8dJNYlA/3ZaYzFCT+z6N7bWg98bwPsnH7gIlBfY+ycfuAiUF9j68eapDboYrPzeg8idifBU/oib6fJQR9z6rz9VW7C+bP8nH7gIlBRY/ycfuAiUF5j6BKFYVMyWWPwAAAAAAAAAAycfuAiUFBj/1DnimS/ksP8nH7gIlBRY/aR1VTRB1/z7Was2n7hAmP1TkEHFzKvk+VOQQcXMqOT/y0k1iEFi5P/Fo44i1+AQ/3roKgZmXYT/xaOOItfj0PvFo44i1+PQ+LUMc6+I2+j5hMlUwKqkTPwDDly5pMS0/FYxK6gQ0QT8P1v85zJcXP/ePhegQOCI/NvzifD+vpD6wdD48S5ABP/yp8dJNYmA/MXINuVE+Bz8tQxzr4jYaPy1DHOviNio/LUMc6+I2+j5Uc7nBUIdFPy1DHOviNio/LUMc6+I2Cj8P1v85zJcXP/Fo44i1+OQ+ycfuAiUF9j6GKKim+WrkPlTkEHFzKsk+ycfuAiUF9j5hMlUwKqlTPwAAAAAAAAAALUMc6+I2Kj8AAAAAAAAAAAZQOYtkT+Y+E2HD0ytlaT9pHVVNEHX/PnsUrkfhepQ/q1rSUQ5mEz8AAAAAAAAAAPp+arx0k1g/hrpZzYRw9j401K8HsvgEP4I9VrT5+MQ+LUMc6+I2Gj9P6PUn8bkzP/FiYYicvn4/aHF77X56+z7Jx+4CJQX2Pvyp8dJNYiA/aR1VTRB1/z57FK5H4XqEP/yp8dJNYkA/XwfOGVHaSz8RdDVmeinQPi1DHOviNgo/8W0TUcA0BD/Jx+4CJQUGPyQPRBZp4i0/8WjjiLX49D5pHVVNEHUPP/Fo44i1+PQ++py7XS9NAT/zdRn+0w0UP7dfPlkxXP0+/h0OWiFSRT/xaOOItfjUPsnH7gIlBfY+P6vMlNbfIj/uCmuRy6WgPwWiJ2VSQ+s+qbbGR5rQyz5pHVVNEHXvPm3rT2yKqhQ/Z2pRguLExj4tQxzr4jb6Pu41tGW1+OQ+/Knx0k1iQD/Jx+4CJQX2PuXYhPjjneM+8WjjiLX49D6amZmZmZm5PwLLtSqv//Y+VvFG5pE/KD9LsDic+dUMP0uwOJz51Rw/DLjfiIsvzD70Mhpj+HXuPvyp8dJNYlA/ZkzBGmfT8T78qfHSTWJQPy1DHOviNho/ycfuAiUF9j7iPyHjogwCPxFxfE4eu8I+LUMc6+I2Gj9U/IRYolgDP0uwOJz51Rw//Knx0k1icD+Tq6ZJcOkcPy1DHOviNho/yvCBGEZMCT8tQxzr4jY6P/yp8dJNYkA/f1YH2xU+9j7Ty94IQf39Pvyp8dJNYlA/MzMzMzMzsz/xaOOItfgEP4YGlqZ3nwI//Knx0k1iYD97FK5H4XpkP2kdVU0Qdf8+vHmqQ26GGz8K16NwPQq3PylX3jC2OSo/P6vMlNbfEj8tQxzr4jYaP7x5qkNuhhs/mpmZmZmZqT8AAAAAAAAAADVfPqP9TDY/aR1VTRB1/z78qfHSTWJgP/Fo44i1+OQ+LUMc6+I2Gj9pHVVNEHUfPy1DHOviNho/ReXwm5M29D5pHVVNEHX/PmEyVTAqqRM/aR1VTRB1Dz9oTT0cbtHzPpqZmZmZmak/3gAz38FPDD/H4IqQ8dDzPsnH7gIlBfY+mpmZmZmZyT97FK5H4Xp0Py9uowG8BSI/L26jAbwFUj8tQxzr4jYaP8nH7gIlBfY+FtJpYC3w4z5bLjW8W0DyPvp0LpnMMrY/Gy/dJAaBhT9HAidX5yUQPwAAAAAAAAAA8WjjiLX49D7Jx+4CJQUWPy1DHOviNho/LUMc6+I2Gj/K8IEYRkwJPwfTizW3ndE+YIu+dztNFz952BsjAvUXPwrXo3A9Cqc/3gAz38FP/D4bL90kBoGVPy1DHOviNjo/kst/SL99XT+PGDxpYn/wPt4AM9/BT/w+VOQQcXMq+T7Jx+4CJQX2PpqZmZmZmZk/LUMc6+I2Gj9hMlUwKqlTP2kdVU0QdQ8/L4g6nMh8JD/Jx+4CJQX2Pi1DHOviNio/LUMc6+I2Gj/Jx+4CJQX2PhAKBS1lA+8+O99PjZdugj/HuriNBvA2Pw/W/znMlwc/0vvG155ZMj/eMBuuH6wAPz+rzJTW3yI//Knx0k1iQD+4HoXrUbieP7x5qkNuhis/OIQqNXugRT+8eapDboYrP8P1KFyPwrU/LUMc6+I26j57FK5H4XqEP27BD1X9D/0+8WjjiLX49D4vbqMBvAVCPzK1JRshYFA/mpmZmZmZqT9hMlUwKqkjP+F8nEfhenQ/LUMc6+I2Cj8K16NwPQq3P5LvraMFw/Q+ycfuAiUF9j5pHVVNEHUfP/yp8dJNYkA/je21oPfGED+Sy39Iv31NP43ttaD3xtA+ycfuAiUF9j57hQX3Ax74Pq2NxfdEJfU+e4UF9wMe+D4tQxzr4jb6Pn34/RhmJbs+aR1VTRB1/z4AAAAAAADwP6lZVlAHaPE+kL5J06BoLj/Jx+4CJQU2P3sUrkfheoQ/LUMc6+I2Gj8vbqMBvAVSPy1DHOviNko/lPYGX5hMdT+8eapDboZLP/Fo44i1+AQ/D0a5gUfZkj/8qfHSTWJAPyiG23+zR/Q+hFoo4ZaLMD8tQxzr4jb6PmkdVU0QdQ8/IT6w479AID/8qfHSTWJQPzm0yHa+n3o//Knx0k1iUD/Jx+4CJQX2Pi1DHOviNvo+LUMc6+I2Cj9U5BBxcyrJPvFo44i1+NQ+0vvG155ZEj/8qfHSTWJAP2EyVTAqqTM/ycfuAiUF9j6iJvp8lBEXP2kdVU0Qdf8+LUMc6+I2Gj8tQxzr4jYaPy1DHOviNio/8WjjiLX4FD/8nTdfNkvzPg/W/znMlwc/26m0T8H6dD/Jx+4CJQX2PvBLP9l7jvs+ycfuAiUF9j4/q8yU1t/yPgWiJ2VSQ/s+ycfuAiUF5j49NxtNK6lDP2EyVTAqqSM/WmQ730+Nxz+IhVrTvOOEP6Im+nyUEQc/ycfuAiUFJj8tQxzr4jYaP/yp8dJNYlA/ycfuAiUFFj8P1v85zJcXP1pkO99Pjbc/lPYGX5hMRT8JVuWQe0gaPx3JKz/M9fI+X/F1jeYl9z7Jx+4CJQX2PsnH7gIlBfY+WcfNK5ujFT/Jx+4CJQX2PnpXQhnYmtU+fm/Tn/1IkT+8eapDboYLPy1DHOviNho/ELpBG9Yt9z78qfHSTWJQP3npJjEIrFw/LsEvj0EeFz+8eapDboYrP1vri4S2nMc/S7A4nPnVDD8tQxzr4jYKP0PFOH8TCjE/vHmqQ26GKz8VjErqBDRhP6AZxAd2/Dc/LUMc6+I2Gj8tQxzr4jb6PjvfT42XbpI//Knx0k1iUD8tQxzr4jYaP/yp8dJNYlA/xY8xdy0hfz8tQxzr4jYKP8nH7gIlBRY/ycfuAiUF9j7sUbgeheuxPwAAAAAAAAAAznADPj+MgD/eADPfwU8MP66XlN97jhs/OQFH7010+j68eapDboYbP8nH7gIlBfY+aR1VTRB1Hz/Jx+4CJQX2PnaPx2cNOTE/bwbz4+/18z6KexXhcjEAPxfj0872Cew+EqW9wRcmsz8tQxzr4jYaP+MyE7EtqPQ+ycfuAiUFFj/8qfHSTWJAP3sUrkfhenQ/vHmqQ26GOz+N7bWg98YQPwfTizW3ncE+ycfuAiUFJj9pHVVNEHX/Pvyp8dJNYlA/7FG4HoXroT9b07zjFB25PwAAAAAAAAAA/Knx0k1icD8tQxzr4jYqP3npJjEIrHw/Eny/DSJyDD/Jx+4CJQX2PgAAAAAAAAAA/Knx0k1iQD/8qfHSTWJQPxsv3SQGgYU/ngyOklfnKD/8qfHSTWJQP8nH7gIlBQY/aR1VTRB17z6amZmZmZmpPy1DHOviNjo/vHmqQ26GGz8FoidlUkMrP/Fo44i1+CQ/P6vMlNbf4j7xaOOItfjUPsWtghjo2ic/cMysIFlO8T68eapDboYbP/M1l5j49SQ/RXPJLYN/hD9hMlUwKqkzP3jJZLihiw8/XxllR/R8xz4raaQpKxuAPhWMSuoENGE/AAAAAAAAAAA2eLGybq35PgAAAAAAAAAA/Knx0k1iUD8tQxzr4jYaP1NUbSprG+I+rkfhehSu7z/8qfHSTWJQP/yp8dJNYmA//Knx0k1iMD/53kqU9fBWP8nH7gIlBfY+je21oPfGsD4=\",\"dtype\":\"float64\",\"order\":\"little\",\"shape\":[532]},\"TotalCoinsMined\":{\"__ndarray__\":\"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\",\"dtype\":\"float64\",\"order\":\"little\",\"shape\":[532]}},\"selected\":{\"id\":\"9891\"},\"selection_policy\":{\"id\":\"9913\"}},\"id\":\"9890\",\"type\":\"ColumnDataSource\"},{\"attributes\":{},\"id\":\"9904\",\"type\":\"BasicTickFormatter\"},{\"attributes\":{},\"id\":\"9881\",\"type\":\"ResetTool\"},{\"attributes\":{},\"id\":\"9899\",\"type\":\"AllLabels\"},{\"attributes\":{\"below\":[{\"id\":\"9869\"}],\"center\":[{\"id\":\"9872\"},{\"id\":\"9876\"}],\"height\":300,\"left\":[{\"id\":\"9873\"}],\"margin\":[5,5,5,5],\"min_border_bottom\":10,\"min_border_left\":10,\"min_border_right\":10,\"min_border_top\":10,\"renderers\":[{\"id\":\"9896\"}],\"sizing_mode\":\"fixed\",\"title\":{\"id\":\"9861\"},\"toolbar\":{\"id\":\"9883\"},\"width\":700,\"x_range\":{\"id\":\"9857\"},\"x_scale\":{\"id\":\"9865\"},\"y_range\":{\"id\":\"9858\"},\"y_scale\":{\"id\":\"9867\"}},\"id\":\"9860\",\"subtype\":\"Figure\",\"type\":\"Plot\"},{\"attributes\":{\"axis\":{\"id\":\"9873\"},\"dimension\":1,\"grid_line_color\":null,\"ticker\":null},\"id\":\"9876\",\"type\":\"Grid\"},{\"attributes\":{},\"id\":\"9867\",\"type\":\"LinearScale\"},{\"attributes\":{},\"id\":\"9913\",\"type\":\"UnionRenderers\"},{\"attributes\":{},\"id\":\"9870\",\"type\":\"BasicTicker\"},{\"attributes\":{},\"id\":\"9865\",\"type\":\"LinearScale\"},{\"attributes\":{\"children\":[{\"id\":\"9856\"},{\"id\":\"9860\"},{\"id\":\"9925\"}],\"margin\":[0,0,0,0],\"name\":\"Row15645\",\"tags\":[\"embedded\"]},\"id\":\"9855\",\"type\":\"Row\"},{\"attributes\":{\"end\":1.1,\"reset_end\":1.1,\"reset_start\":-0.1,\"start\":-0.1,\"tags\":[[[\"TotalCoinSupply\",\"TotalCoinSupply\",null]]]},\"id\":\"9858\",\"type\":\"Range1d\"},{\"attributes\":{\"text_color\":\"black\",\"text_font_size\":\"12pt\"},\"id\":\"9861\",\"type\":\"Title\"},{\"attributes\":{\"axis\":{\"id\":\"9869\"},\"grid_line_color\":null,\"ticker\":null},\"id\":\"9872\",\"type\":\"Grid\"},{\"attributes\":{\"end\":1.0324168011566912,\"reset_end\":1.0324168011566912,\"reset_start\":-0.04242808767504215,\"start\":-0.04242808767504215,\"tags\":[[[\"TotalCoinsMined\",\"TotalCoinsMined\",null]]]},\"id\":\"9857\",\"type\":\"Range1d\"},{\"attributes\":{},\"id\":\"9874\",\"type\":\"BasicTicker\"},{\"attributes\":{\"axis_label\":\"TotalCoinSupply\",\"formatter\":{\"id\":\"9904\"},\"major_label_policy\":{\"id\":\"9902\"},\"ticker\":{\"id\":\"9874\"}},\"id\":\"9873\",\"type\":\"LinearAxis\"},{\"attributes\":{\"angle\":{\"value\":0.0},\"fill_alpha\":{\"value\":1.0},\"fill_color\":{\"value\":\"#30a2da\"},\"hatch_alpha\":{\"value\":1.0},\"hatch_color\":{\"value\":\"black\"},\"hatch_scale\":{\"value\":12.0},\"hatch_weight\":{\"value\":1.0},\"line_alpha\":{\"value\":1.0},\"line_cap\":{\"value\":\"butt\"},\"line_color\":{\"value\":\"#30a2da\"},\"line_dash\":{\"value\":[]},\"line_dash_offset\":{\"value\":0},\"line_join\":{\"value\":\"bevel\"},\"line_width\":{\"value\":1},\"marker\":{\"value\":\"circle\"},\"size\":{\"value\":5.477225575051661},\"x\":{\"field\":\"TotalCoinsMined\"},\"y\":{\"field\":\"TotalCoinSupply\"}},\"id\":\"9898\",\"type\":\"Scatter\"}],\"root_ids\":[\"9855\"]},\"title\":\"Bokeh Application\",\"version\":\"2.3.2\"}};\n",
       "    var render_items = [{\"docid\":\"9762b1fe-4984-406a-896b-da0c038af56c\",\"root_ids\":[\"9855\"],\"roots\":{\"9855\":\"607bfe10-766e-4c3d-9f5d-1cfbea62ccb9\"}}];\n",
       "    root.Bokeh.embed.embed_items_notebook(docs_json, render_items);\n",
       "  }\n",
       "  if (root.Bokeh !== undefined && root.Bokeh.Panel !== undefined) {\n",
       "    embed_document(root);\n",
       "  } else {\n",
       "    var attempts = 0;\n",
       "    var timer = setInterval(function(root) {\n",
       "      if (root.Bokeh !== undefined && root.Bokeh.Panel !== undefined) {\n",
       "        clearInterval(timer);\n",
       "        embed_document(root);\n",
       "      } else if (document.readyState == \"complete\") {\n",
       "        attempts++;\n",
       "        if (attempts > 200) {\n",
       "          clearInterval(timer);\n",
       "          console.log(\"Bokeh: ERROR: Unable to run BokehJS code because BokehJS library is missing\");\n",
       "        }\n",
       "      }\n",
       "    }, 25, root)\n",
       "  }\n",
       "})(window);</script>"
      ],
      "text/plain": [
       ":Scatter   [TotalCoinsMined]   (TotalCoinSupply)"
      ],
      "application/vnd.holoviews_exec.v0+json": ""
     },
     "metadata": {
      "application/vnd.holoviews_exec.v0+json": {
       "id": "9855"
      }
     },
     "execution_count": 354
    }
   ],
   "metadata": {}
  },
  {
   "cell_type": "code",
   "execution_count": null,
   "source": [],
   "outputs": [],
   "metadata": {}
  },
  {
   "cell_type": "code",
   "execution_count": null,
   "source": [],
   "outputs": [],
   "metadata": {}
  },
  {
   "cell_type": "code",
   "execution_count": null,
   "source": [],
   "outputs": [],
   "metadata": {}
  }
 ],
 "metadata": {
  "file_extension": ".py",
  "kernelspec": {
   "name": "python3",
   "display_name": "Python 3.7.10 64-bit ('mlenv': conda)"
  },
  "language_info": {
   "codemirror_mode": {
    "name": "ipython",
    "version": 3
   },
   "file_extension": ".py",
   "mimetype": "text/x-python",
   "name": "python",
   "nbconvert_exporter": "python",
   "pygments_lexer": "ipython3",
   "version": "3.7.10"
  },
  "latex_envs": {
   "LaTeX_envs_menu_present": true,
   "autoclose": false,
   "autocomplete": true,
   "bibliofile": "biblio.bib",
   "cite_by": "apalike",
   "current_citInitial": 1,
   "eqLabelWithNumbers": true,
   "eqNumInitial": 1,
   "hotkeys": {
    "equation": "Ctrl-E",
    "itemize": "Ctrl-I"
   },
   "labels_anchors": false,
   "latex_user_defs": false,
   "report_style_numbering": false,
   "user_envs_cfg": false
  },
  "mimetype": "text/x-python",
  "name": "python",
  "npconvert_exporter": "python",
  "pygments_lexer": "ipython3",
  "version": 3,
  "interpreter": {
   "hash": "8f054b597b2ef4dde2d25518563f881228f0d6fd6f220519300f35ef92b84afb"
  }
 },
 "nbformat": 4,
 "nbformat_minor": 2
}